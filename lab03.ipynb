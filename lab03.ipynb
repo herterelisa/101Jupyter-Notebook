{
 "cells": [
  {
   "cell_type": "markdown",
   "metadata": {},
   "source": [
    "# Lab 3: Tables\n",
    "\n",
    "Welcome to Lab 3!  This week, we'll learn how to read in external data as a table and practice table operations!\n",
    "\n",
    "Recommended Reading:\n",
    " * [Introduction to Tables](https://www.inferentialthinking.com/chapters/03/4/Introduction_to_Tables)\n",
    "\n",
    "First, set up the tests and imports by running the cell below."
   ]
  },
  {
   "cell_type": "code",
   "execution_count": 6,
   "metadata": {},
   "outputs": [
    {
     "data": {
      "text/plain": [
       "'imports completed'"
      ]
     },
     "execution_count": 6,
     "metadata": {},
     "output_type": "execute_result"
    }
   ],
   "source": [
    "# Just run this cell\n",
    "\n",
    "import numpy as np\n",
    "from datascience import *\n",
    "\n",
    "\n",
    "# These lines load the tests.\n",
    "# When you log-in please hit return (not shift + return) after typing in your email\n",
    "import otter\n",
    "grader = otter.Notebook()\n",
    "'imports completed'"
   ]
  },
  {
   "cell_type": "markdown",
   "metadata": {},
   "source": [
    "## 1. Creating Tables\n",
    "\n",
    "In the last lab, we learned that an array is useful for describing a single attribute of each element in a collection. For example, let's say our collection is all US States. Then an array could describe the land area of each state. \n",
    "\n",
    "Tables extend this idea by containing multiple arrays, each one describing a different attribute for every element of a collection. In this way, tables allow us to not only store data about many entities but to also contain several kinds of data about each entity.\n",
    "\n",
    "For example, in the cell below we have two arrays. The first one, `population_amounts`, was used in Lab 2 and contains the world population in each year (estimated by the US Census Bureau). The second array, `years`, contains the years themselves. These elements are in order, so the year and the world population for that year have the same index in their corresponding arrays."
   ]
  },
  {
   "cell_type": "code",
   "execution_count": 7,
   "metadata": {},
   "outputs": [
    {
     "name": "stdout",
     "output_type": "stream",
     "text": [
      "Population column: [2557628654 2594939877 2636772306 2682053389 2730228104 2782098943\n",
      " 2835299673 2891349717 2948137248 3000716593 3043001508 3083966929\n",
      " 3140093217 3209827882 3281201306 3350425793 3420677923 3490333715\n",
      " 3562313822 3637159050 3712697742 3790326948 3866568653 3942096442\n",
      " 4016608813 4089083233 4160185010 4232084578 4304105753 4379013942\n",
      " 4451362735 4534410125 4614566561 4695736743 4774569391 4856462699\n",
      " 4940571232 5027200492 5114557167 5201440110 5288955934 5371585922\n",
      " 5456136278 5538268316 5618682132 5699202985 5779440593 5857972543\n",
      " 5935213248 6012074922 6088571383 6165219247 6242016348 6318590956\n",
      " 6395699509 6473044732 6551263534 6629913759 6709049780 6788214394\n",
      " 6866332358 6944055583 7022349283 7101027895 7178722893 7256490011]\n",
      "Years column: [1950 1951 1952 1953 1954 1955 1956 1957 1958 1959 1960 1961 1962 1963 1964\n",
      " 1965 1966 1967 1968 1969 1970 1971 1972 1973 1974 1975 1976 1977 1978 1979\n",
      " 1980 1981 1982 1983 1984 1985 1986 1987 1988 1989 1990 1991 1992 1993 1994\n",
      " 1995 1996 1997 1998 1999 2000 2001 2002 2003 2004 2005 2006 2007 2008 2009\n",
      " 2010 2011 2012 2013 2014 2015]\n"
     ]
    }
   ],
   "source": [
    "# Just run this cell\n",
    "population_amounts = Table.read_table(\"world_population.csv\").column(\"Population\")\n",
    "\n",
    "years = np.arange(1950, 2015+1)\n",
    "print(\"Population column:\", population_amounts)\n",
    "print(\"Years column:\", years)"
   ]
  },
  {
   "cell_type": "markdown",
   "metadata": {},
   "source": [
    "Suppose we want to answer this question:\n",
    "\n",
    "> In which year did the world's population cross 6 billion?\n",
    "\n",
    "You could technically answer this question just from staring at the arrays, but it's a bit convoluted, since you would have to count the position where the population first crossed 6 billion, then find the corresponding element in the years array. In cases like these, it might be easier to put the data into a *`Table`*, a 2-dimensional type of dataset. \n",
    "\n",
    "The expression below:\n",
    "\n",
    "- creates an empty table using the expression `Table()`,\n",
    "- adds two columns by calling `with_columns` with four arguments,\n",
    "- assigns the result to the name `population`, and finally\n",
    "- evaluates `population` so that we can see the table.\n",
    "\n",
    "The strings `\"Year\"` and `\"Population\"` are column labels that we have chosen. The names `population_amounts` and `years` were assigned above to two arrays of the **same length**. The function `with_columns` (you can find the documentation [here](http://data8.org/datascience/tables.html)) takes in alternating strings (to represent column labels) and arrays (representing the data in those columns). The strings and arrays are separated by commas."
   ]
  },
  {
   "cell_type": "code",
   "execution_count": 8,
   "metadata": {},
   "outputs": [
    {
     "data": {
      "text/html": [
       "<table border=\"1\" class=\"dataframe\">\n",
       "    <thead>\n",
       "        <tr>\n",
       "            <th>Population</th> <th>Year</th>\n",
       "        </tr>\n",
       "    </thead>\n",
       "    <tbody>\n",
       "        <tr>\n",
       "            <td>2557628654</td> <td>1950</td>\n",
       "        </tr>\n",
       "        <tr>\n",
       "            <td>2594939877</td> <td>1951</td>\n",
       "        </tr>\n",
       "        <tr>\n",
       "            <td>2636772306</td> <td>1952</td>\n",
       "        </tr>\n",
       "        <tr>\n",
       "            <td>2682053389</td> <td>1953</td>\n",
       "        </tr>\n",
       "        <tr>\n",
       "            <td>2730228104</td> <td>1954</td>\n",
       "        </tr>\n",
       "        <tr>\n",
       "            <td>2782098943</td> <td>1955</td>\n",
       "        </tr>\n",
       "        <tr>\n",
       "            <td>2835299673</td> <td>1956</td>\n",
       "        </tr>\n",
       "        <tr>\n",
       "            <td>2891349717</td> <td>1957</td>\n",
       "        </tr>\n",
       "        <tr>\n",
       "            <td>2948137248</td> <td>1958</td>\n",
       "        </tr>\n",
       "        <tr>\n",
       "            <td>3000716593</td> <td>1959</td>\n",
       "        </tr>\n",
       "    </tbody>\n",
       "</table>\n",
       "<p>... (56 rows omitted)</p>"
      ],
      "text/plain": [
       "Population | Year\n",
       "2557628654 | 1950\n",
       "2594939877 | 1951\n",
       "2636772306 | 1952\n",
       "2682053389 | 1953\n",
       "2730228104 | 1954\n",
       "2782098943 | 1955\n",
       "2835299673 | 1956\n",
       "2891349717 | 1957\n",
       "2948137248 | 1958\n",
       "3000716593 | 1959\n",
       "... (56 rows omitted)"
      ]
     },
     "execution_count": 8,
     "metadata": {},
     "output_type": "execute_result"
    }
   ],
   "source": [
    "population = Table().with_columns(\n",
    "    \"Population\", population_amounts,\n",
    "    \"Year\", years\n",
    ")\n",
    "population"
   ]
  },
  {
   "cell_type": "markdown",
   "metadata": {},
   "source": [
    "Now the data is combined into a single table! It's much easier to parse this data. If you need to know what the population was in 1959, for example, you can tell from a single glance."
   ]
  },
  {
   "cell_type": "markdown",
   "metadata": {},
   "source": [
    "**Question 1.1.** In the cell below, we've created 2 arrays. Using the steps above, assign `top_10_movies` to a table that has two columns called \"Rating\" and \"Name\", which hold `top_10_movie_ratings` and `top_10_movie_names` respectively.\n",
    "\n",
    "<!--\n",
    "BEGIN QUESTION\n",
    "name: q11\n",
    "-->"
   ]
  },
  {
   "cell_type": "code",
   "execution_count": 9,
   "metadata": {},
   "outputs": [
    {
     "data": {
      "text/html": [
       "<table border=\"1\" class=\"dataframe\">\n",
       "    <thead>\n",
       "        <tr>\n",
       "            <th>Rating</th> <th>Name</th>\n",
       "        </tr>\n",
       "    </thead>\n",
       "    <tbody>\n",
       "        <tr>\n",
       "            <td>9.2   </td> <td>The Shawshank Redemption (1994)                         </td>\n",
       "        </tr>\n",
       "        <tr>\n",
       "            <td>9.2   </td> <td>The Godfather (1972)                                    </td>\n",
       "        </tr>\n",
       "        <tr>\n",
       "            <td>9     </td> <td>The Godfather: Part II (1974)                           </td>\n",
       "        </tr>\n",
       "        <tr>\n",
       "            <td>8.9   </td> <td>Pulp Fiction (1994)                                     </td>\n",
       "        </tr>\n",
       "        <tr>\n",
       "            <td>8.9   </td> <td>Schindler's List (1993)                                 </td>\n",
       "        </tr>\n",
       "        <tr>\n",
       "            <td>8.9   </td> <td>The Lord of the Rings: The Return of the King (2003)    </td>\n",
       "        </tr>\n",
       "        <tr>\n",
       "            <td>8.9   </td> <td>12 Angry Men (1957)                                     </td>\n",
       "        </tr>\n",
       "        <tr>\n",
       "            <td>8.9   </td> <td>The Dark Knight (2008)                                  </td>\n",
       "        </tr>\n",
       "        <tr>\n",
       "            <td>8.9   </td> <td>Il buono, il brutto, il cattivo (1966)                  </td>\n",
       "        </tr>\n",
       "        <tr>\n",
       "            <td>8.8   </td> <td>The Lord of the Rings: The Fellowship of the Ring (2001)</td>\n",
       "        </tr>\n",
       "    </tbody>\n",
       "</table>"
      ],
      "text/plain": [
       "Rating | Name\n",
       "9.2    | The Shawshank Redemption (1994)\n",
       "9.2    | The Godfather (1972)\n",
       "9      | The Godfather: Part II (1974)\n",
       "8.9    | Pulp Fiction (1994)\n",
       "8.9    | Schindler's List (1993)\n",
       "8.9    | The Lord of the Rings: The Return of the King (2003)\n",
       "8.9    | 12 Angry Men (1957)\n",
       "8.9    | The Dark Knight (2008)\n",
       "8.9    | Il buono, il brutto, il cattivo (1966)\n",
       "8.8    | The Lord of the Rings: The Fellowship of the Ring (2001)"
      ]
     },
     "execution_count": 9,
     "metadata": {},
     "output_type": "execute_result"
    }
   ],
   "source": [
    "top_10_movie_ratings = make_array(9.2, 9.2, 9., 8.9, 8.9, 8.9, 8.9, 8.9, 8.9, 8.8)\n",
    "top_10_movie_names = make_array(\n",
    "        'The Shawshank Redemption (1994)',\n",
    "        'The Godfather (1972)',\n",
    "        'The Godfather: Part II (1974)',\n",
    "        'Pulp Fiction (1994)',\n",
    "        \"Schindler's List (1993)\",\n",
    "        'The Lord of the Rings: The Return of the King (2003)',\n",
    "        '12 Angry Men (1957)',\n",
    "        'The Dark Knight (2008)',\n",
    "        'Il buono, il brutto, il cattivo (1966)',\n",
    "        'The Lord of the Rings: The Fellowship of the Ring (2001)')\n",
    "\n",
    "top_10_movies = Table().with_columns(\n",
    "    \"Rating\", top_10_movie_ratings,\n",
    "    \"Name\", top_10_movie_names)\n",
    "#combine 2 arrays into one table\n",
    "\n",
    "# We've put this next line here \n",
    "# so your table will get printed out \n",
    "# when you run this cell.\n",
    "top_10_movies"
   ]
  },
  {
   "cell_type": "code",
   "execution_count": 10,
   "metadata": {},
   "outputs": [
    {
     "data": {
      "text/html": [
       "<p><strong><pre style='display: inline;'>q11</pre></strong> passed! 💯</p>"
      ],
      "text/plain": [
       "q11 results: All test cases passed!"
      ]
     },
     "execution_count": 10,
     "metadata": {},
     "output_type": "execute_result"
    }
   ],
   "source": [
    "grader.check(\"q11\")"
   ]
  },
  {
   "cell_type": "markdown",
   "metadata": {},
   "source": [
    "#### Loading a table from a file\n",
    "\n",
    "In most cases, we aren't going to go through the trouble of typing in all the data manually. Instead, we load them in from an external source, like a data file. There are many formats for data files, but CSV (\"comma-separated values\") is the most common.\n",
    "\n",
    "`Table.read_table(...)` takes one argument (a path to a data file in string format) and returns a table.  \n",
    "\n",
    "**Question 1.2.** `imdb.csv` contains a table of information about the 250 highest-rated movies on IMDb.  Load it as a table called `imdb`.\n",
    "\n",
    "<!--\n",
    "BEGIN QUESTION\n",
    "name: q12\n",
    "-->"
   ]
  },
  {
   "cell_type": "code",
   "execution_count": 11,
   "metadata": {},
   "outputs": [
    {
     "data": {
      "text/html": [
       "<table border=\"1\" class=\"dataframe\">\n",
       "    <thead>\n",
       "        <tr>\n",
       "            <th>Votes</th> <th>Rating</th> <th>Title</th> <th>Year</th> <th>Decade</th>\n",
       "        </tr>\n",
       "    </thead>\n",
       "    <tbody>\n",
       "        <tr>\n",
       "            <td>88355 </td> <td>8.4   </td> <td>M                    </td> <td>1931</td> <td>1930  </td>\n",
       "        </tr>\n",
       "        <tr>\n",
       "            <td>132823</td> <td>8.3   </td> <td>Singin' in the Rain  </td> <td>1952</td> <td>1950  </td>\n",
       "        </tr>\n",
       "        <tr>\n",
       "            <td>74178 </td> <td>8.3   </td> <td>All About Eve        </td> <td>1950</td> <td>1950  </td>\n",
       "        </tr>\n",
       "        <tr>\n",
       "            <td>635139</td> <td>8.6   </td> <td>Léon                 </td> <td>1994</td> <td>1990  </td>\n",
       "        </tr>\n",
       "        <tr>\n",
       "            <td>145514</td> <td>8.2   </td> <td>The Elephant Man     </td> <td>1980</td> <td>1980  </td>\n",
       "        </tr>\n",
       "        <tr>\n",
       "            <td>425461</td> <td>8.3   </td> <td>Full Metal Jacket    </td> <td>1987</td> <td>1980  </td>\n",
       "        </tr>\n",
       "        <tr>\n",
       "            <td>441174</td> <td>8.1   </td> <td>Gone Girl            </td> <td>2014</td> <td>2010  </td>\n",
       "        </tr>\n",
       "        <tr>\n",
       "            <td>850601</td> <td>8.3   </td> <td>Batman Begins        </td> <td>2005</td> <td>2000  </td>\n",
       "        </tr>\n",
       "        <tr>\n",
       "            <td>37664 </td> <td>8.2   </td> <td>Judgment at Nuremberg</td> <td>1961</td> <td>1960  </td>\n",
       "        </tr>\n",
       "        <tr>\n",
       "            <td>46987 </td> <td>8     </td> <td>Relatos salvajes     </td> <td>2014</td> <td>2010  </td>\n",
       "        </tr>\n",
       "    </tbody>\n",
       "</table>\n",
       "<p>... (240 rows omitted)</p>"
      ],
      "text/plain": [
       "Votes  | Rating | Title                 | Year | Decade\n",
       "88355  | 8.4    | M                     | 1931 | 1930\n",
       "132823 | 8.3    | Singin' in the Rain   | 1952 | 1950\n",
       "74178  | 8.3    | All About Eve         | 1950 | 1950\n",
       "635139 | 8.6    | Léon                  | 1994 | 1990\n",
       "145514 | 8.2    | The Elephant Man      | 1980 | 1980\n",
       "425461 | 8.3    | Full Metal Jacket     | 1987 | 1980\n",
       "441174 | 8.1    | Gone Girl             | 2014 | 2010\n",
       "850601 | 8.3    | Batman Begins         | 2005 | 2000\n",
       "37664  | 8.2    | Judgment at Nuremberg | 1961 | 1960\n",
       "46987  | 8      | Relatos salvajes      | 2014 | 2010\n",
       "... (240 rows omitted)"
      ]
     },
     "execution_count": 11,
     "metadata": {},
     "output_type": "execute_result"
    }
   ],
   "source": [
    "imdb = Table.read_table(\"imdb.csv\") #file name\n",
    "imdb\n",
    "#read file into table"
   ]
  },
  {
   "cell_type": "code",
   "execution_count": 12,
   "metadata": {},
   "outputs": [
    {
     "data": {
      "text/html": [
       "<p><strong><pre style='display: inline;'>q12</pre></strong> passed! 💯</p>"
      ],
      "text/plain": [
       "q12 results: All test cases passed!"
      ]
     },
     "execution_count": 12,
     "metadata": {},
     "output_type": "execute_result"
    }
   ],
   "source": [
    "grader.check(\"q12\")"
   ]
  },
  {
   "cell_type": "markdown",
   "metadata": {},
   "source": [
    "Where did `imdb.csv` come from? Take a look at [this lab's folder](./). You should see a file called `imdb.csv`.\n",
    "\n",
    "Open up the `imdb.csv` file in that folder and look at the format. What do you notice? The `.csv` filename ending says that this file is in the [CSV (comma-separated value) format](http://edoceo.com/utilitas/csv-file-format)."
   ]
  },
  {
   "cell_type": "markdown",
   "metadata": {},
   "source": [
    "# 2. Table operations\n",
    "\n",
    "The table `farmers_markets.csv` contains data on farmers' markets in the United States  (data collected [by the USDA](https://apps.ams.usda.gov/FarmersMarketsExport/ExcelExport.aspx)).  Each row represents one such market.\n",
    "\n",
    "Run the next cell to load the `farmers_markets` table."
   ]
  },
  {
   "cell_type": "code",
   "execution_count": 13,
   "metadata": {},
   "outputs": [],
   "source": [
    "# Just run this cell\n",
    "\n",
    "farmers_markets = Table.read_table('farmers_markets.csv')"
   ]
  },
  {
   "cell_type": "markdown",
   "metadata": {},
   "source": [
    "Let's examine our table to see what data it contains.\n",
    "\n",
    "**Question 2.1.** Use the method `show` to display the first 5 rows of `farmers_markets`. \n",
    "\n",
    "*Note:* The terms \"method\" and \"function\" are technically not the same thing, but for the purposes of this course, we will use them interchangeably.\n",
    "\n",
    "**Hint:** `tbl.show(3)` will show the first 3 rows of `tbl`. Additionally, make sure not to call `.show()` without an argument, as this will crash your kernel!\n"
   ]
  },
  {
   "cell_type": "code",
   "execution_count": 14,
   "metadata": {},
   "outputs": [
    {
     "data": {
      "text/html": [
       "<table border=\"1\" class=\"dataframe\">\n",
       "    <thead>\n",
       "        <tr>\n",
       "            <th>FMID</th> <th>MarketName</th> <th>street</th> <th>city</th> <th>County</th> <th>State</th> <th>zip</th> <th>x</th> <th>y</th> <th>Website</th> <th>Facebook</th> <th>Twitter</th> <th>Youtube</th> <th>OtherMedia</th> <th>Organic</th> <th>Tofu</th> <th>Bakedgoods</th> <th>Cheese</th> <th>Crafts</th> <th>Flowers</th> <th>Eggs</th> <th>Seafood</th> <th>Herbs</th> <th>Vegetables</th> <th>Honey</th> <th>Jams</th> <th>Maple</th> <th>Meat</th> <th>Nursery</th> <th>Nuts</th> <th>Plants</th> <th>Poultry</th> <th>Prepared</th> <th>Soap</th> <th>Trees</th> <th>Wine</th> <th>Coffee</th> <th>Beans</th> <th>Fruits</th> <th>Grains</th> <th>Juices</th> <th>Mushrooms</th> <th>PetFood</th> <th>WildHarvested</th> <th>updateTime</th> <th>Location</th> <th>Credit</th> <th>WIC</th> <th>WICcash</th> <th>SFMNP</th> <th>SNAP</th> <th>Season1Date</th> <th>Season1Time</th> <th>Season2Date</th> <th>Season2Time</th> <th>Season3Date</th> <th>Season3Time</th> <th>Season4Date</th> <th>Season4Time</th>\n",
       "        </tr>\n",
       "    </thead>\n",
       "    <tbody>\n",
       "        <tr>\n",
       "            <td>1012063</td> <td> Caledonia Farmers Market Association - Danville</td> <td>nan                   </td> <td>Danville </td> <td>Caledonia</td> <td>Vermont       </td> <td>05828</td> <td>-72.1403</td> <td>44.411 </td> <td>https://sites.google.com/site/caledoniafarmersmarket/</td> <td>https://www.facebook.com/Danville.VT.Farmers.Market/</td> <td>nan    </td> <td>nan    </td> <td>nan                                                         </td> <td>Y      </td> <td>N   </td> <td>Y         </td> <td>Y     </td> <td>Y     </td> <td>Y      </td> <td>Y   </td> <td>N      </td> <td>Y    </td> <td>Y         </td> <td>Y    </td> <td>Y   </td> <td>Y    </td> <td>Y   </td> <td>N      </td> <td>N   </td> <td>Y     </td> <td>Y      </td> <td>Y       </td> <td>Y   </td> <td>Y    </td> <td>N   </td> <td>Y     </td> <td>Y    </td> <td>Y     </td> <td>N     </td> <td>Y     </td> <td>N        </td> <td>Y      </td> <td>N            </td> <td>6/28/2016 12:10:09 PM</td> <td>nan     </td> <td>Y     </td> <td>Y   </td> <td>N      </td> <td>Y    </td> <td>N   </td> <td>06/08/2016 to 10/12/2016</td> <td>Wed: 9:00 AM-1:00 PM;                     </td> <td>nan        </td> <td>nan        </td> <td>nan        </td> <td>nan        </td> <td>nan        </td> <td>nan        </td>\n",
       "        </tr>\n",
       "        <tr>\n",
       "            <td>1011871</td> <td> Stearns Homestead Farmers' Market              </td> <td>6975 Ridge Road       </td> <td>Parma    </td> <td>Cuyahoga </td> <td>Ohio          </td> <td>44130</td> <td>-81.7286</td> <td>41.3751</td> <td>http://Stearnshomestead.com                          </td> <td>nan                                                 </td> <td>nan    </td> <td>nan    </td> <td>nan                                                         </td> <td>-      </td> <td>N   </td> <td>Y         </td> <td>N     </td> <td>N     </td> <td>Y      </td> <td>Y   </td> <td>N      </td> <td>Y    </td> <td>Y         </td> <td>Y    </td> <td>Y   </td> <td>Y    </td> <td>Y   </td> <td>N      </td> <td>N   </td> <td>Y     </td> <td>N      </td> <td>N       </td> <td>N   </td> <td>N    </td> <td>N   </td> <td>N     </td> <td>N    </td> <td>Y     </td> <td>N     </td> <td>N     </td> <td>N        </td> <td>Y      </td> <td>N            </td> <td>4/9/2016 8:05:17 PM  </td> <td>nan     </td> <td>Y     </td> <td>Y   </td> <td>N      </td> <td>Y    </td> <td>Y   </td> <td>06/25/2016 to 10/01/2016</td> <td>Sat: 9:00 AM-1:00 PM;                     </td> <td>nan        </td> <td>nan        </td> <td>nan        </td> <td>nan        </td> <td>nan        </td> <td>nan        </td>\n",
       "        </tr>\n",
       "        <tr>\n",
       "            <td>1011878</td> <td>100 Mile Market                                 </td> <td>507 Harrison St       </td> <td>Kalamazoo</td> <td>Kalamazoo</td> <td>Michigan      </td> <td>49007</td> <td>-85.5749</td> <td>42.296 </td> <td>http://www.pfcmarkets.com                            </td> <td>https://www.facebook.com/100MileMarket/?fref=ts     </td> <td>nan    </td> <td>nan    </td> <td>https://www.instagram.com/100milemarket/                    </td> <td>N      </td> <td>N   </td> <td>Y         </td> <td>Y     </td> <td>N     </td> <td>Y      </td> <td>Y   </td> <td>N      </td> <td>Y    </td> <td>Y         </td> <td>Y    </td> <td>Y   </td> <td>Y    </td> <td>Y   </td> <td>N      </td> <td>N   </td> <td>N     </td> <td>Y      </td> <td>Y       </td> <td>Y   </td> <td>N    </td> <td>Y   </td> <td>N     </td> <td>N    </td> <td>Y     </td> <td>Y     </td> <td>N     </td> <td>N        </td> <td>N      </td> <td>N            </td> <td>4/16/2016 12:37:56 PM</td> <td>nan     </td> <td>Y     </td> <td>Y   </td> <td>N      </td> <td>Y    </td> <td>Y   </td> <td>05/04/2016 to 10/12/2016</td> <td>Wed: 3:00 PM-7:00 PM;                     </td> <td>nan        </td> <td>nan        </td> <td>nan        </td> <td>nan        </td> <td>nan        </td> <td>nan        </td>\n",
       "        </tr>\n",
       "        <tr>\n",
       "            <td>1009364</td> <td>106 S. Main Street Farmers Market               </td> <td>106 S. Main Street    </td> <td>Six Mile </td> <td>nan      </td> <td>South Carolina</td> <td>29682</td> <td>-82.8187</td> <td>34.8042</td> <td>http://thetownofsixmile.wordpress.com/               </td> <td>nan                                                 </td> <td>nan    </td> <td>nan    </td> <td>nan                                                         </td> <td>-      </td> <td>N   </td> <td>N         </td> <td>N     </td> <td>N     </td> <td>N      </td> <td>N   </td> <td>N      </td> <td>N    </td> <td>N         </td> <td>N    </td> <td>N   </td> <td>N    </td> <td>N   </td> <td>N      </td> <td>N   </td> <td>N     </td> <td>N      </td> <td>N       </td> <td>N   </td> <td>N    </td> <td>N   </td> <td>N     </td> <td>N    </td> <td>N     </td> <td>N     </td> <td>N     </td> <td>N        </td> <td>N      </td> <td>N            </td> <td>2013                 </td> <td>nan     </td> <td>Y     </td> <td>N   </td> <td>N      </td> <td>N    </td> <td>N   </td> <td>nan                     </td> <td>nan                                       </td> <td>nan        </td> <td>nan        </td> <td>nan        </td> <td>nan        </td> <td>nan        </td> <td>nan        </td>\n",
       "        </tr>\n",
       "        <tr>\n",
       "            <td>1010691</td> <td>10th Steet Community Farmers Market             </td> <td>10th Street and Poplar</td> <td>Lamar    </td> <td>Barton   </td> <td>Missouri      </td> <td>64759</td> <td>-94.2746</td> <td>37.4956</td> <td>nan                                                  </td> <td>nan                                                 </td> <td>nan    </td> <td>nan    </td> <td>http://agrimissouri.com/mo-grown/grodetail.php?type=mo-g ...</td> <td>-      </td> <td>N   </td> <td>Y         </td> <td>N     </td> <td>Y     </td> <td>N      </td> <td>Y   </td> <td>N      </td> <td>Y    </td> <td>Y         </td> <td>Y    </td> <td>Y   </td> <td>N    </td> <td>Y   </td> <td>N      </td> <td>N   </td> <td>Y     </td> <td>Y      </td> <td>Y       </td> <td>Y   </td> <td>N    </td> <td>N   </td> <td>N     </td> <td>N    </td> <td>Y     </td> <td>N     </td> <td>N     </td> <td>N        </td> <td>N      </td> <td>N            </td> <td>10/28/2014 9:49:46 AM</td> <td>nan     </td> <td>Y     </td> <td>N   </td> <td>N      </td> <td>N    </td> <td>N   </td> <td>04/02/2014 to 11/30/2014</td> <td>Wed: 3:00 PM-6:00 PM;Sat: 8:00 AM-1:00 PM;</td> <td>nan        </td> <td>nan        </td> <td>nan        </td> <td>nan        </td> <td>nan        </td> <td>nan        </td>\n",
       "        </tr>\n",
       "    </tbody>\n",
       "</table>\n",
       "<p>... (8541 rows omitted)</p>"
      ],
      "text/plain": [
       "<IPython.core.display.HTML object>"
      ]
     },
     "metadata": {},
     "output_type": "display_data"
    }
   ],
   "source": [
    "farmers_markets.show(5) #show first 5 "
   ]
  },
  {
   "cell_type": "markdown",
   "metadata": {
    "deletable": false
   },
   "source": [
    "Notice that some of the values in this table are missing, as denoted by \"nan.\" This means either that the value is not available (e.g. if we don’t know the market’s street address) or not applicable (e.g. if the market doesn’t have a street address). You'll also notice that the table has a large number of columns in it!\n",
    "\n",
    "### `num_columns`\n",
    "\n",
    "The table property `num_columns` returns the number of columns in a table. (A \"property\" is just a method that doesn't need to be called by adding parentheses.)\n",
    "\n",
    "Example call: `<tbl>.num_columns`\n",
    "\n",
    "**Question 2.2.** Use `num_columns` to find the number of columns in our farmers' markets dataset.\n",
    "\n",
    "Assign the number of columns to `num_farmers_markets_columns`.\n",
    "\n",
    "<!--\n",
    "BEGIN QUESTION\n",
    "name: q22\n",
    "-->"
   ]
  },
  {
   "cell_type": "code",
   "execution_count": 15,
   "metadata": {},
   "outputs": [
    {
     "name": "stdout",
     "output_type": "stream",
     "text": [
      "The table has 59 columns in it!\n"
     ]
    }
   ],
   "source": [
    "num_farmers_markets_columns = farmers_markets.num_columns\n",
    "print(\"The table has\", num_farmers_markets_columns, \"columns in it!\")"
   ]
  },
  {
   "cell_type": "code",
   "execution_count": 103,
   "metadata": {
    "deletable": false
   },
   "outputs": [
    {
     "data": {
      "text/html": [
       "<p><strong><pre style='display: inline;'>q22</pre></strong> passed! 🌈</p>"
      ],
      "text/plain": [
       "q22 results: All test cases passed!"
      ]
     },
     "execution_count": 103,
     "metadata": {},
     "output_type": "execute_result"
    }
   ],
   "source": [
    "grader.check(\"q22\")"
   ]
  },
  {
   "cell_type": "markdown",
   "metadata": {},
   "source": [
    "### `num_rows`\n",
    "\n",
    "Similarly, the property `num_rows` tells you how many rows are in a table."
   ]
  },
  {
   "cell_type": "code",
   "execution_count": 104,
   "metadata": {},
   "outputs": [
    {
     "name": "stdout",
     "output_type": "stream",
     "text": [
      "The table has 8546 rows in it!\n"
     ]
    }
   ],
   "source": [
    "# Just run this cell\n",
    "\n",
    "num_farmers_markets_rows = farmers_markets.num_rows\n",
    "print(\"The table has\", num_farmers_markets_rows, \"rows in it!\")"
   ]
  },
  {
   "cell_type": "markdown",
   "metadata": {
    "deletable": false
   },
   "source": [
    "### `select`\n",
    "\n",
    "Most of the columns are about particular products -- whether the market sells tofu, pet food, etc.  If we're not interested in that information, it just makes the table difficult to read.  This comes up more than you might think, because people who collect and publish data may not know ahead of time what people will want to do with it.\n",
    "\n",
    "In such situations, we can use the table method `select` to choose only the columns that we want in a particular table. It takes any number of arguments. Each should be the name of a column in the table. It returns a new table with only those columns in it. The columns are in the order *in which they were listed as arguments*.\n",
    "\n",
    "For example, the value of `farmers_markets.select(\"MarketName\", \"State\")` is a table with only the name and the state of each farmers' market in `farmers_markets`.\n",
    "\n",
    "\n",
    "\n",
    "**Question 2.3.** Use `select` to create a table with only the name, city, state, latitude (`y`), and longitude (`x`) of each market.  Call that new table `farmers_markets_locations`.\n",
    "\n",
    "*Hint:* Make sure to be exact when using column names with `select`; double-check capitalization!\n",
    "\n",
    "<!--\n",
    "BEGIN QUESTION\n",
    "name: q23\n",
    "-->"
   ]
  },
  {
   "cell_type": "code",
   "execution_count": 105,
   "metadata": {},
   "outputs": [
    {
     "data": {
      "text/html": [
       "<table border=\"1\" class=\"dataframe\">\n",
       "    <thead>\n",
       "        <tr>\n",
       "            <th>MarketName</th> <th>city</th> <th>State</th> <th>y</th> <th>x</th>\n",
       "        </tr>\n",
       "    </thead>\n",
       "    <tbody>\n",
       "        <tr>\n",
       "            <td> Caledonia Farmers Market Association - Danville</td> <td>Danville  </td> <td>Vermont             </td> <td>44.411 </td> <td>-72.1403</td>\n",
       "        </tr>\n",
       "        <tr>\n",
       "            <td> Stearns Homestead Farmers' Market              </td> <td>Parma     </td> <td>Ohio                </td> <td>41.3751</td> <td>-81.7286</td>\n",
       "        </tr>\n",
       "        <tr>\n",
       "            <td>100 Mile Market                                 </td> <td>Kalamazoo </td> <td>Michigan            </td> <td>42.296 </td> <td>-85.5749</td>\n",
       "        </tr>\n",
       "        <tr>\n",
       "            <td>106 S. Main Street Farmers Market               </td> <td>Six Mile  </td> <td>South Carolina      </td> <td>34.8042</td> <td>-82.8187</td>\n",
       "        </tr>\n",
       "        <tr>\n",
       "            <td>10th Steet Community Farmers Market             </td> <td>Lamar     </td> <td>Missouri            </td> <td>37.4956</td> <td>-94.2746</td>\n",
       "        </tr>\n",
       "        <tr>\n",
       "            <td>112st Madison Avenue                            </td> <td>New York  </td> <td>New York            </td> <td>40.7939</td> <td>-73.9493</td>\n",
       "        </tr>\n",
       "        <tr>\n",
       "            <td>12 South Farmers Market                         </td> <td>Nashville </td> <td>Tennessee           </td> <td>36.1184</td> <td>-86.7907</td>\n",
       "        </tr>\n",
       "        <tr>\n",
       "            <td>125th Street Fresh Connect Farmers' Market      </td> <td>New York  </td> <td>New York            </td> <td>40.809 </td> <td>-73.9482</td>\n",
       "        </tr>\n",
       "        <tr>\n",
       "            <td>12th & Brandywine Urban Farm Market             </td> <td>Wilmington</td> <td>Delaware            </td> <td>39.7421</td> <td>-75.5345</td>\n",
       "        </tr>\n",
       "        <tr>\n",
       "            <td>14&U Farmers' Market                            </td> <td>Washington</td> <td>District of Columbia</td> <td>38.917 </td> <td>-77.0321</td>\n",
       "        </tr>\n",
       "    </tbody>\n",
       "</table>\n",
       "<p>... (8536 rows omitted)</p>"
      ],
      "text/plain": [
       "MarketName                                       | city       | State                | y       | x\n",
       " Caledonia Farmers Market Association - Danville | Danville   | Vermont              | 44.411  | -72.1403\n",
       " Stearns Homestead Farmers' Market               | Parma      | Ohio                 | 41.3751 | -81.7286\n",
       "100 Mile Market                                  | Kalamazoo  | Michigan             | 42.296  | -85.5749\n",
       "106 S. Main Street Farmers Market                | Six Mile   | South Carolina       | 34.8042 | -82.8187\n",
       "10th Steet Community Farmers Market              | Lamar      | Missouri             | 37.4956 | -94.2746\n",
       "112st Madison Avenue                             | New York   | New York             | 40.7939 | -73.9493\n",
       "12 South Farmers Market                          | Nashville  | Tennessee            | 36.1184 | -86.7907\n",
       "125th Street Fresh Connect Farmers' Market       | New York   | New York             | 40.809  | -73.9482\n",
       "12th & Brandywine Urban Farm Market              | Wilmington | Delaware             | 39.7421 | -75.5345\n",
       "14&U Farmers' Market                             | Washington | District of Columbia | 38.917  | -77.0321\n",
       "... (8536 rows omitted)"
      ]
     },
     "execution_count": 105,
     "metadata": {},
     "output_type": "execute_result"
    }
   ],
   "source": [
    "#shows only specified selected columns\n",
    "farmers_markets_locations = farmers_markets.select(\"MarketName\",\"city\",\"State\",\"y\",\"x\") #columns name in red\n",
    "farmers_markets_locations"
   ]
  },
  {
   "cell_type": "code",
   "execution_count": 106,
   "metadata": {
    "deletable": false
   },
   "outputs": [
    {
     "data": {
      "text/html": [
       "<p><strong><pre style='display: inline;'>q23</pre></strong> passed! ✨</p>"
      ],
      "text/plain": [
       "q23 results: All test cases passed!"
      ]
     },
     "execution_count": 106,
     "metadata": {},
     "output_type": "execute_result"
    }
   ],
   "source": [
    "grader.check(\"q23\")"
   ]
  },
  {
   "cell_type": "markdown",
   "metadata": {
    "deletable": false
   },
   "source": [
    "### `drop`\n",
    "\n",
    "`drop` serves the same purpose as `select`, but it takes away the columns that you provide rather than the ones that you don't provide. Like `select`, `drop` returns a new table.\n",
    "\n",
    "**Question 2.4.** Suppose you just didn't want the `FMID` and `updateTime` columns in `farmers_markets`.  Create a table that's a copy of `farmers_markets` but doesn't include those columns.  Call that table `farmers_markets_without_fmid`.\n",
    "\n",
    "<!--\n",
    "BEGIN QUESTION\n",
    "name: q24\n",
    "-->"
   ]
  },
  {
   "cell_type": "code",
   "execution_count": 107,
   "metadata": {},
   "outputs": [
    {
     "data": {
      "text/html": [
       "<table border=\"1\" class=\"dataframe\">\n",
       "    <thead>\n",
       "        <tr>\n",
       "            <th>MarketName</th> <th>street</th> <th>city</th> <th>County</th> <th>State</th> <th>zip</th> <th>x</th> <th>y</th> <th>Website</th> <th>Facebook</th> <th>Twitter</th> <th>Youtube</th> <th>OtherMedia</th> <th>Organic</th> <th>Tofu</th> <th>Bakedgoods</th> <th>Cheese</th> <th>Crafts</th> <th>Flowers</th> <th>Eggs</th> <th>Seafood</th> <th>Herbs</th> <th>Vegetables</th> <th>Honey</th> <th>Jams</th> <th>Maple</th> <th>Meat</th> <th>Nursery</th> <th>Nuts</th> <th>Plants</th> <th>Poultry</th> <th>Prepared</th> <th>Soap</th> <th>Trees</th> <th>Wine</th> <th>Coffee</th> <th>Beans</th> <th>Fruits</th> <th>Grains</th> <th>Juices</th> <th>Mushrooms</th> <th>PetFood</th> <th>WildHarvested</th> <th>Location</th> <th>Credit</th> <th>WIC</th> <th>WICcash</th> <th>SFMNP</th> <th>SNAP</th> <th>Season1Date</th> <th>Season1Time</th> <th>Season2Date</th> <th>Season2Time</th> <th>Season3Date</th> <th>Season3Time</th> <th>Season4Date</th> <th>Season4Time</th>\n",
       "        </tr>\n",
       "    </thead>\n",
       "    <tbody>\n",
       "        <tr>\n",
       "            <td> Caledonia Farmers Market Association - Danville</td> <td>nan                                                     </td> <td>Danville  </td> <td>Caledonia           </td> <td>Vermont             </td> <td>05828</td> <td>-72.1403</td> <td>44.411 </td> <td>https://sites.google.com/site/caledoniafarmersmarket/</td> <td>https://www.facebook.com/Danville.VT.Farmers.Market/        </td> <td>nan                                </td> <td>nan    </td> <td>nan                                                         </td> <td>Y      </td> <td>N   </td> <td>Y         </td> <td>Y     </td> <td>Y     </td> <td>Y      </td> <td>Y   </td> <td>N      </td> <td>Y    </td> <td>Y         </td> <td>Y    </td> <td>Y   </td> <td>Y    </td> <td>Y   </td> <td>N      </td> <td>N   </td> <td>Y     </td> <td>Y      </td> <td>Y       </td> <td>Y   </td> <td>Y    </td> <td>N   </td> <td>Y     </td> <td>Y    </td> <td>Y     </td> <td>N     </td> <td>Y     </td> <td>N        </td> <td>Y      </td> <td>N            </td> <td>nan                                                       </td> <td>Y     </td> <td>Y   </td> <td>N      </td> <td>Y    </td> <td>N   </td> <td>06/08/2016 to 10/12/2016</td> <td>Wed: 9:00 AM-1:00 PM;                       </td> <td>nan        </td> <td>nan        </td> <td>nan        </td> <td>nan        </td> <td>nan        </td> <td>nan        </td>\n",
       "        </tr>\n",
       "        <tr>\n",
       "            <td> Stearns Homestead Farmers' Market              </td> <td>6975 Ridge Road                                         </td> <td>Parma     </td> <td>Cuyahoga            </td> <td>Ohio                </td> <td>44130</td> <td>-81.7286</td> <td>41.3751</td> <td>http://Stearnshomestead.com                          </td> <td>nan                                                         </td> <td>nan                                </td> <td>nan    </td> <td>nan                                                         </td> <td>-      </td> <td>N   </td> <td>Y         </td> <td>N     </td> <td>N     </td> <td>Y      </td> <td>Y   </td> <td>N      </td> <td>Y    </td> <td>Y         </td> <td>Y    </td> <td>Y   </td> <td>Y    </td> <td>Y   </td> <td>N      </td> <td>N   </td> <td>Y     </td> <td>N      </td> <td>N       </td> <td>N   </td> <td>N    </td> <td>N   </td> <td>N     </td> <td>N    </td> <td>Y     </td> <td>N     </td> <td>N     </td> <td>N        </td> <td>Y      </td> <td>N            </td> <td>nan                                                       </td> <td>Y     </td> <td>Y   </td> <td>N      </td> <td>Y    </td> <td>Y   </td> <td>06/25/2016 to 10/01/2016</td> <td>Sat: 9:00 AM-1:00 PM;                       </td> <td>nan        </td> <td>nan        </td> <td>nan        </td> <td>nan        </td> <td>nan        </td> <td>nan        </td>\n",
       "        </tr>\n",
       "        <tr>\n",
       "            <td>100 Mile Market                                 </td> <td>507 Harrison St                                         </td> <td>Kalamazoo </td> <td>Kalamazoo           </td> <td>Michigan            </td> <td>49007</td> <td>-85.5749</td> <td>42.296 </td> <td>http://www.pfcmarkets.com                            </td> <td>https://www.facebook.com/100MileMarket/?fref=ts             </td> <td>nan                                </td> <td>nan    </td> <td>https://www.instagram.com/100milemarket/                    </td> <td>N      </td> <td>N   </td> <td>Y         </td> <td>Y     </td> <td>N     </td> <td>Y      </td> <td>Y   </td> <td>N      </td> <td>Y    </td> <td>Y         </td> <td>Y    </td> <td>Y   </td> <td>Y    </td> <td>Y   </td> <td>N      </td> <td>N   </td> <td>N     </td> <td>Y      </td> <td>Y       </td> <td>Y   </td> <td>N    </td> <td>Y   </td> <td>N     </td> <td>N    </td> <td>Y     </td> <td>Y     </td> <td>N     </td> <td>N        </td> <td>N      </td> <td>N            </td> <td>nan                                                       </td> <td>Y     </td> <td>Y   </td> <td>N      </td> <td>Y    </td> <td>Y   </td> <td>05/04/2016 to 10/12/2016</td> <td>Wed: 3:00 PM-7:00 PM;                       </td> <td>nan        </td> <td>nan        </td> <td>nan        </td> <td>nan        </td> <td>nan        </td> <td>nan        </td>\n",
       "        </tr>\n",
       "        <tr>\n",
       "            <td>106 S. Main Street Farmers Market               </td> <td>106 S. Main Street                                      </td> <td>Six Mile  </td> <td>nan                 </td> <td>South Carolina      </td> <td>29682</td> <td>-82.8187</td> <td>34.8042</td> <td>http://thetownofsixmile.wordpress.com/               </td> <td>nan                                                         </td> <td>nan                                </td> <td>nan    </td> <td>nan                                                         </td> <td>-      </td> <td>N   </td> <td>N         </td> <td>N     </td> <td>N     </td> <td>N      </td> <td>N   </td> <td>N      </td> <td>N    </td> <td>N         </td> <td>N    </td> <td>N   </td> <td>N    </td> <td>N   </td> <td>N      </td> <td>N   </td> <td>N     </td> <td>N      </td> <td>N       </td> <td>N   </td> <td>N    </td> <td>N   </td> <td>N     </td> <td>N    </td> <td>N     </td> <td>N     </td> <td>N     </td> <td>N        </td> <td>N      </td> <td>N            </td> <td>nan                                                       </td> <td>Y     </td> <td>N   </td> <td>N      </td> <td>N    </td> <td>N   </td> <td>nan                     </td> <td>nan                                         </td> <td>nan        </td> <td>nan        </td> <td>nan        </td> <td>nan        </td> <td>nan        </td> <td>nan        </td>\n",
       "        </tr>\n",
       "        <tr>\n",
       "            <td>10th Steet Community Farmers Market             </td> <td>10th Street and Poplar                                  </td> <td>Lamar     </td> <td>Barton              </td> <td>Missouri            </td> <td>64759</td> <td>-94.2746</td> <td>37.4956</td> <td>nan                                                  </td> <td>nan                                                         </td> <td>nan                                </td> <td>nan    </td> <td>http://agrimissouri.com/mo-grown/grodetail.php?type=mo-g ...</td> <td>-      </td> <td>N   </td> <td>Y         </td> <td>N     </td> <td>Y     </td> <td>N      </td> <td>Y   </td> <td>N      </td> <td>Y    </td> <td>Y         </td> <td>Y    </td> <td>Y   </td> <td>N    </td> <td>Y   </td> <td>N      </td> <td>N   </td> <td>Y     </td> <td>Y      </td> <td>Y       </td> <td>Y   </td> <td>N    </td> <td>N   </td> <td>N     </td> <td>N    </td> <td>Y     </td> <td>N     </td> <td>N     </td> <td>N        </td> <td>N      </td> <td>N            </td> <td>nan                                                       </td> <td>Y     </td> <td>N   </td> <td>N      </td> <td>N    </td> <td>N   </td> <td>04/02/2014 to 11/30/2014</td> <td>Wed: 3:00 PM-6:00 PM;Sat: 8:00 AM-1:00 PM;  </td> <td>nan        </td> <td>nan        </td> <td>nan        </td> <td>nan        </td> <td>nan        </td> <td>nan        </td>\n",
       "        </tr>\n",
       "        <tr>\n",
       "            <td>112st Madison Avenue                            </td> <td>112th Madison Avenue                                    </td> <td>New York  </td> <td>New York            </td> <td>New York            </td> <td>10029</td> <td>-73.9493</td> <td>40.7939</td> <td>nan                                                  </td> <td>nan                                                         </td> <td>nan                                </td> <td>nan    </td> <td>nan                                                         </td> <td>-      </td> <td>N   </td> <td>Y         </td> <td>N     </td> <td>Y     </td> <td>Y      </td> <td>N   </td> <td>N      </td> <td>Y    </td> <td>Y         </td> <td>Y    </td> <td>Y   </td> <td>N    </td> <td>N   </td> <td>N      </td> <td>Y   </td> <td>N     </td> <td>N      </td> <td>Y       </td> <td>Y   </td> <td>N    </td> <td>N   </td> <td>N     </td> <td>N    </td> <td>N     </td> <td>N     </td> <td>N     </td> <td>N        </td> <td>N      </td> <td>N            </td> <td>Private business parking lot                              </td> <td>N     </td> <td>N   </td> <td>Y      </td> <td>Y    </td> <td>N   </td> <td>July to November        </td> <td>Tue:8:00 am - 5:00 pm;Sat:8:00 am - 8:00 pm;</td> <td>nan        </td> <td>nan        </td> <td>nan        </td> <td>nan        </td> <td>nan        </td> <td>nan        </td>\n",
       "        </tr>\n",
       "        <tr>\n",
       "            <td>12 South Farmers Market                         </td> <td>3000 Granny White Pike                                  </td> <td>Nashville </td> <td>Davidson            </td> <td>Tennessee           </td> <td>37204</td> <td>-86.7907</td> <td>36.1184</td> <td>http://www.12southfarmersmarket.com                  </td> <td>12_South_Farmers_Market                                     </td> <td>@12southfrmsmkt                    </td> <td>nan    </td> <td>@12southfrmsmkt                                             </td> <td>Y      </td> <td>N   </td> <td>Y         </td> <td>Y     </td> <td>N     </td> <td>Y      </td> <td>Y   </td> <td>N      </td> <td>Y    </td> <td>Y         </td> <td>Y    </td> <td>Y   </td> <td>Y    </td> <td>Y   </td> <td>N      </td> <td>N   </td> <td>N     </td> <td>Y      </td> <td>Y       </td> <td>Y   </td> <td>N    </td> <td>N   </td> <td>Y     </td> <td>N    </td> <td>Y     </td> <td>N     </td> <td>Y     </td> <td>Y        </td> <td>Y      </td> <td>N            </td> <td>nan                                                       </td> <td>Y     </td> <td>N   </td> <td>N      </td> <td>N    </td> <td>Y   </td> <td>05/05/2015 to 10/27/2015</td> <td>Tue: 3:30 PM-6:30 PM;                       </td> <td>nan        </td> <td>nan        </td> <td>nan        </td> <td>nan        </td> <td>nan        </td> <td>nan        </td>\n",
       "        </tr>\n",
       "        <tr>\n",
       "            <td>125th Street Fresh Connect Farmers' Market      </td> <td>163 West 125th Street and Adam Clayton Powell, Jr. Blvd.</td> <td>New York  </td> <td>New York            </td> <td>New York            </td> <td>10027</td> <td>-73.9482</td> <td>40.809 </td> <td>http://www.125thStreetFarmersMarket.com              </td> <td>https://www.facebook.com/125thStreetFarmersMarket           </td> <td>https://twitter.com/FarmMarket125th</td> <td>nan    </td> <td>Instagram--> 125thStreetFarmersMarket                       </td> <td>Y      </td> <td>N   </td> <td>Y         </td> <td>Y     </td> <td>Y     </td> <td>Y      </td> <td>Y   </td> <td>N      </td> <td>Y    </td> <td>Y         </td> <td>Y    </td> <td>Y   </td> <td>Y    </td> <td>Y   </td> <td>N      </td> <td>Y   </td> <td>N     </td> <td>Y      </td> <td>Y       </td> <td>Y   </td> <td>N    </td> <td>Y   </td> <td>Y     </td> <td>N    </td> <td>Y     </td> <td>N     </td> <td>Y     </td> <td>N        </td> <td>N      </td> <td>N            </td> <td>Federal/State government building grounds                 </td> <td>Y     </td> <td>Y   </td> <td>N      </td> <td>Y    </td> <td>Y   </td> <td>06/10/2014 to 11/25/2014</td> <td>Tue: 10:00 AM-7:00 PM;                      </td> <td>nan        </td> <td>nan        </td> <td>nan        </td> <td>nan        </td> <td>nan        </td> <td>nan        </td>\n",
       "        </tr>\n",
       "        <tr>\n",
       "            <td>12th & Brandywine Urban Farm Market             </td> <td>12th & Brandywine Streets                               </td> <td>Wilmington</td> <td>New Castle          </td> <td>Delaware            </td> <td>19801</td> <td>-75.5345</td> <td>39.7421</td> <td>nan                                                  </td> <td>https://www.facebook.com/pages/12th-Brandywine-Urban-Far ...</td> <td>nan                                </td> <td>nan    </td> <td>https://www.facebook.com/delawareurbanfarmcoalition         </td> <td>N      </td> <td>N   </td> <td>N         </td> <td>N     </td> <td>N     </td> <td>N      </td> <td>N   </td> <td>N      </td> <td>Y    </td> <td>Y         </td> <td>N    </td> <td>N   </td> <td>N    </td> <td>N   </td> <td>N      </td> <td>N   </td> <td>N     </td> <td>N      </td> <td>N       </td> <td>N   </td> <td>N    </td> <td>N   </td> <td>N     </td> <td>N    </td> <td>Y     </td> <td>N     </td> <td>N     </td> <td>N        </td> <td>N      </td> <td>N            </td> <td>On a farm from: a barn, a greenhouse, a tent, a stand, etc</td> <td>N     </td> <td>N   </td> <td>N      </td> <td>N    </td> <td>Y   </td> <td>05/16/2014 to 10/17/2014</td> <td>Fri: 8:00 AM-11:00 AM;                      </td> <td>nan        </td> <td>nan        </td> <td>nan        </td> <td>nan        </td> <td>nan        </td> <td>nan        </td>\n",
       "        </tr>\n",
       "        <tr>\n",
       "            <td>14&U Farmers' Market                            </td> <td>1400 U Street NW                                        </td> <td>Washington</td> <td>District of Columbia</td> <td>District of Columbia</td> <td>20009</td> <td>-77.0321</td> <td>38.917 </td> <td>nan                                                  </td> <td>https://www.facebook.com/14UFarmersMarket                   </td> <td>https://twitter.com/14UFarmersMkt  </td> <td>nan    </td> <td>nan                                                         </td> <td>Y      </td> <td>N   </td> <td>Y         </td> <td>Y     </td> <td>N     </td> <td>Y      </td> <td>Y   </td> <td>N      </td> <td>Y    </td> <td>Y         </td> <td>Y    </td> <td>Y   </td> <td>N    </td> <td>Y   </td> <td>N      </td> <td>Y   </td> <td>Y     </td> <td>Y      </td> <td>N       </td> <td>N   </td> <td>N    </td> <td>N   </td> <td>N     </td> <td>Y    </td> <td>Y     </td> <td>Y     </td> <td>Y     </td> <td>N        </td> <td>N      </td> <td>N            </td> <td>Other                                                     </td> <td>Y     </td> <td>Y   </td> <td>Y      </td> <td>Y    </td> <td>Y   </td> <td>05/03/2014 to 11/22/2014</td> <td>Sat: 9:00 AM-1:00 PM;                       </td> <td>nan        </td> <td>nan        </td> <td>nan        </td> <td>nan        </td> <td>nan        </td> <td>nan        </td>\n",
       "        </tr>\n",
       "    </tbody>\n",
       "</table>\n",
       "<p>... (8536 rows omitted)</p>"
      ],
      "text/plain": [
       "MarketName                                       | street                                                   | city       | County               | State                | zip   | x        | y       | Website                                               | Facebook                                                     | Twitter                             | Youtube | OtherMedia                                                   | Organic | Tofu | Bakedgoods | Cheese | Crafts | Flowers | Eggs | Seafood | Herbs | Vegetables | Honey | Jams | Maple | Meat | Nursery | Nuts | Plants | Poultry | Prepared | Soap | Trees | Wine | Coffee | Beans | Fruits | Grains | Juices | Mushrooms | PetFood | WildHarvested | Location                                                   | Credit | WIC  | WICcash | SFMNP | SNAP | Season1Date              | Season1Time                                  | Season2Date | Season2Time | Season3Date | Season3Time | Season4Date | Season4Time\n",
       " Caledonia Farmers Market Association - Danville | nan                                                      | Danville   | Caledonia            | Vermont              | 05828 | -72.1403 | 44.411  | https://sites.google.com/site/caledoniafarmersmarket/ | https://www.facebook.com/Danville.VT.Farmers.Market/         | nan                                 | nan     | nan                                                          | Y       | N    | Y          | Y      | Y      | Y       | Y    | N       | Y     | Y          | Y     | Y    | Y     | Y    | N       | N    | Y      | Y       | Y        | Y    | Y     | N    | Y      | Y     | Y      | N      | Y      | N         | Y       | N             | nan                                                        | Y      | Y    | N       | Y     | N    | 06/08/2016 to 10/12/2016 | Wed: 9:00 AM-1:00 PM;                        | nan         | nan         | nan         | nan         | nan         | nan\n",
       " Stearns Homestead Farmers' Market               | 6975 Ridge Road                                          | Parma      | Cuyahoga             | Ohio                 | 44130 | -81.7286 | 41.3751 | http://Stearnshomestead.com                           | nan                                                          | nan                                 | nan     | nan                                                          | -       | N    | Y          | N      | N      | Y       | Y    | N       | Y     | Y          | Y     | Y    | Y     | Y    | N       | N    | Y      | N       | N        | N    | N     | N    | N      | N     | Y      | N      | N      | N         | Y       | N             | nan                                                        | Y      | Y    | N       | Y     | Y    | 06/25/2016 to 10/01/2016 | Sat: 9:00 AM-1:00 PM;                        | nan         | nan         | nan         | nan         | nan         | nan\n",
       "100 Mile Market                                  | 507 Harrison St                                          | Kalamazoo  | Kalamazoo            | Michigan             | 49007 | -85.5749 | 42.296  | http://www.pfcmarkets.com                             | https://www.facebook.com/100MileMarket/?fref=ts              | nan                                 | nan     | https://www.instagram.com/100milemarket/                     | N       | N    | Y          | Y      | N      | Y       | Y    | N       | Y     | Y          | Y     | Y    | Y     | Y    | N       | N    | N      | Y       | Y        | Y    | N     | Y    | N      | N     | Y      | Y      | N      | N         | N       | N             | nan                                                        | Y      | Y    | N       | Y     | Y    | 05/04/2016 to 10/12/2016 | Wed: 3:00 PM-7:00 PM;                        | nan         | nan         | nan         | nan         | nan         | nan\n",
       "106 S. Main Street Farmers Market                | 106 S. Main Street                                       | Six Mile   | nan                  | South Carolina       | 29682 | -82.8187 | 34.8042 | http://thetownofsixmile.wordpress.com/                | nan                                                          | nan                                 | nan     | nan                                                          | -       | N    | N          | N      | N      | N       | N    | N       | N     | N          | N     | N    | N     | N    | N       | N    | N      | N       | N        | N    | N     | N    | N      | N     | N      | N      | N      | N         | N       | N             | nan                                                        | Y      | N    | N       | N     | N    | nan                      | nan                                          | nan         | nan         | nan         | nan         | nan         | nan\n",
       "10th Steet Community Farmers Market              | 10th Street and Poplar                                   | Lamar      | Barton               | Missouri             | 64759 | -94.2746 | 37.4956 | nan                                                   | nan                                                          | nan                                 | nan     | http://agrimissouri.com/mo-grown/grodetail.php?type=mo-g ... | -       | N    | Y          | N      | Y      | N       | Y    | N       | Y     | Y          | Y     | Y    | N     | Y    | N       | N    | Y      | Y       | Y        | Y    | N     | N    | N      | N     | Y      | N      | N      | N         | N       | N             | nan                                                        | Y      | N    | N       | N     | N    | 04/02/2014 to 11/30/2014 | Wed: 3:00 PM-6:00 PM;Sat: 8:00 AM-1:00 PM;   | nan         | nan         | nan         | nan         | nan         | nan\n",
       "112st Madison Avenue                             | 112th Madison Avenue                                     | New York   | New York             | New York             | 10029 | -73.9493 | 40.7939 | nan                                                   | nan                                                          | nan                                 | nan     | nan                                                          | -       | N    | Y          | N      | Y      | Y       | N    | N       | Y     | Y          | Y     | Y    | N     | N    | N       | Y    | N      | N       | Y        | Y    | N     | N    | N      | N     | N      | N      | N      | N         | N       | N             | Private business parking lot                               | N      | N    | Y       | Y     | N    | July to November         | Tue:8:00 am - 5:00 pm;Sat:8:00 am - 8:00 pm; | nan         | nan         | nan         | nan         | nan         | nan\n",
       "12 South Farmers Market                          | 3000 Granny White Pike                                   | Nashville  | Davidson             | Tennessee            | 37204 | -86.7907 | 36.1184 | http://www.12southfarmersmarket.com                   | 12_South_Farmers_Market                                      | @12southfrmsmkt                     | nan     | @12southfrmsmkt                                              | Y       | N    | Y          | Y      | N      | Y       | Y    | N       | Y     | Y          | Y     | Y    | Y     | Y    | N       | N    | N      | Y       | Y        | Y    | N     | N    | Y      | N     | Y      | N      | Y      | Y         | Y       | N             | nan                                                        | Y      | N    | N       | N     | Y    | 05/05/2015 to 10/27/2015 | Tue: 3:30 PM-6:30 PM;                        | nan         | nan         | nan         | nan         | nan         | nan\n",
       "125th Street Fresh Connect Farmers' Market       | 163 West 125th Street and Adam Clayton Powell, Jr. Blvd. | New York   | New York             | New York             | 10027 | -73.9482 | 40.809  | http://www.125thStreetFarmersMarket.com               | https://www.facebook.com/125thStreetFarmersMarket            | https://twitter.com/FarmMarket125th | nan     | Instagram--> 125thStreetFarmersMarket                        | Y       | N    | Y          | Y      | Y      | Y       | Y    | N       | Y     | Y          | Y     | Y    | Y     | Y    | N       | Y    | N      | Y       | Y        | Y    | N     | Y    | Y      | N     | Y      | N      | Y      | N         | N       | N             | Federal/State government building grounds                  | Y      | Y    | N       | Y     | Y    | 06/10/2014 to 11/25/2014 | Tue: 10:00 AM-7:00 PM;                       | nan         | nan         | nan         | nan         | nan         | nan\n",
       "12th & Brandywine Urban Farm Market              | 12th & Brandywine Streets                                | Wilmington | New Castle           | Delaware             | 19801 | -75.5345 | 39.7421 | nan                                                   | https://www.facebook.com/pages/12th-Brandywine-Urban-Far ... | nan                                 | nan     | https://www.facebook.com/delawareurbanfarmcoalition          | N       | N    | N          | N      | N      | N       | N    | N       | Y     | Y          | N     | N    | N     | N    | N       | N    | N      | N       | N        | N    | N     | N    | N      | N     | Y      | N      | N      | N         | N       | N             | On a farm from: a barn, a greenhouse, a tent, a stand, etc | N      | N    | N       | N     | Y    | 05/16/2014 to 10/17/2014 | Fri: 8:00 AM-11:00 AM;                       | nan         | nan         | nan         | nan         | nan         | nan\n",
       "14&U Farmers' Market                             | 1400 U Street NW                                         | Washington | District of Columbia | District of Columbia | 20009 | -77.0321 | 38.917  | nan                                                   | https://www.facebook.com/14UFarmersMarket                    | https://twitter.com/14UFarmersMkt   | nan     | nan                                                          | Y       | N    | Y          | Y      | N      | Y       | Y    | N       | Y     | Y          | Y     | Y    | N     | Y    | N       | Y    | Y      | Y       | N        | N    | N     | N    | N      | Y     | Y      | Y      | Y      | N         | N       | N             | Other                                                      | Y      | Y    | Y       | Y     | Y    | 05/03/2014 to 11/22/2014 | Sat: 9:00 AM-1:00 PM;                        | nan         | nan         | nan         | nan         | nan         | nan\n",
       "... (8536 rows omitted)"
      ]
     },
     "execution_count": 107,
     "metadata": {},
     "output_type": "execute_result"
    }
   ],
   "source": [
    "#Drop, similiar to select. Reduce num of columns on table. Use columns you want to eleminate permanetly \n",
    "farmers_markets_without_fmid = farmers_markets.drop(\"FMID\", \"updateTime\") #dropped 2 columns\n",
    "farmers_markets_without_fmid"
   ]
  },
  {
   "cell_type": "code",
   "execution_count": 108,
   "metadata": {
    "deletable": false
   },
   "outputs": [
    {
     "data": {
      "text/html": [
       "<p><strong><pre style='display: inline;'>q24</pre></strong> passed! 🌟</p>"
      ],
      "text/plain": [
       "q24 results: All test cases passed!"
      ]
     },
     "execution_count": 108,
     "metadata": {},
     "output_type": "execute_result"
    }
   ],
   "source": [
    "grader.check(\"q24\")"
   ]
  },
  {
   "cell_type": "markdown",
   "metadata": {},
   "source": [
    "Now, suppose we want to answer some questions about farmers' markets in the US. For example, which market(s) have the largest longitude (given by the `x` column)? \n",
    "\n",
    "To answer this, we'll sort `farmers_markets_locations` by longitude."
   ]
  },
  {
   "cell_type": "code",
   "execution_count": 109,
   "metadata": {},
   "outputs": [
    {
     "data": {
      "text/html": [
       "<table border=\"1\" class=\"dataframe\">\n",
       "    <thead>\n",
       "        <tr>\n",
       "            <th>MarketName</th> <th>city</th> <th>State</th> <th>y</th> <th>x</th>\n",
       "        </tr>\n",
       "    </thead>\n",
       "    <tbody>\n",
       "        <tr>\n",
       "            <td>Trapper Creek Farmers Market                  </td> <td>Trapper Creek</td> <td>Alaska</td> <td>53.8748</td> <td>-166.54 </td>\n",
       "        </tr>\n",
       "        <tr>\n",
       "            <td>Kekaha Neighborhood Center (Sunshine Markets) </td> <td>Kekaha       </td> <td>Hawaii</td> <td>21.9704</td> <td>-159.718</td>\n",
       "        </tr>\n",
       "        <tr>\n",
       "            <td>Hanapepe Park (Sunshine Markets)              </td> <td>Hanapepe     </td> <td>Hawaii</td> <td>21.9101</td> <td>-159.588</td>\n",
       "        </tr>\n",
       "        <tr>\n",
       "            <td>Kalaheo Neighborhood Center (Sunshine Markets)</td> <td>Kalaheo      </td> <td>Hawaii</td> <td>21.9251</td> <td>-159.527</td>\n",
       "        </tr>\n",
       "        <tr>\n",
       "            <td>Hawaiian Farmers of Hanalei                   </td> <td>Hanalei      </td> <td>Hawaii</td> <td>22.2033</td> <td>-159.514</td>\n",
       "        </tr>\n",
       "        <tr>\n",
       "            <td>Hanalei Saturday Farmers Market               </td> <td>Hanalei      </td> <td>Hawaii</td> <td>22.2042</td> <td>-159.492</td>\n",
       "        </tr>\n",
       "        <tr>\n",
       "            <td>Kauai Culinary Market                         </td> <td>Koloa        </td> <td>Hawaii</td> <td>21.9067</td> <td>-159.469</td>\n",
       "        </tr>\n",
       "        <tr>\n",
       "            <td>Koloa Ball Park (Knudsen) (Sunshine Markets)  </td> <td>Koloa        </td> <td>Hawaii</td> <td>21.9081</td> <td>-159.465</td>\n",
       "        </tr>\n",
       "        <tr>\n",
       "            <td>West Kauai Agricultural Association           </td> <td>Poipu        </td> <td>Hawaii</td> <td>21.8815</td> <td>-159.435</td>\n",
       "        </tr>\n",
       "        <tr>\n",
       "            <td>Kilauea Neighborhood Center (Sunshine Markets)</td> <td>Kilauea      </td> <td>Hawaii</td> <td>22.2112</td> <td>-159.406</td>\n",
       "        </tr>\n",
       "    </tbody>\n",
       "</table>\n",
       "<p>... (8536 rows omitted)</p>"
      ],
      "text/plain": [
       "MarketName                                     | city          | State  | y       | x\n",
       "Trapper Creek Farmers Market                   | Trapper Creek | Alaska | 53.8748 | -166.54\n",
       "Kekaha Neighborhood Center (Sunshine Markets)  | Kekaha        | Hawaii | 21.9704 | -159.718\n",
       "Hanapepe Park (Sunshine Markets)               | Hanapepe      | Hawaii | 21.9101 | -159.588\n",
       "Kalaheo Neighborhood Center (Sunshine Markets) | Kalaheo       | Hawaii | 21.9251 | -159.527\n",
       "Hawaiian Farmers of Hanalei                    | Hanalei       | Hawaii | 22.2033 | -159.514\n",
       "Hanalei Saturday Farmers Market                | Hanalei       | Hawaii | 22.2042 | -159.492\n",
       "Kauai Culinary Market                          | Koloa         | Hawaii | 21.9067 | -159.469\n",
       "Koloa Ball Park (Knudsen) (Sunshine Markets)   | Koloa         | Hawaii | 21.9081 | -159.465\n",
       "West Kauai Agricultural Association            | Poipu         | Hawaii | 21.8815 | -159.435\n",
       "Kilauea Neighborhood Center (Sunshine Markets) | Kilauea       | Hawaii | 22.2112 | -159.406\n",
       "... (8536 rows omitted)"
      ]
     },
     "execution_count": 109,
     "metadata": {},
     "output_type": "execute_result"
    }
   ],
   "source": [
    "#organizing by longitutde, and sort in that specific order\n",
    "farmers_markets_locations.sort('x')"
   ]
  },
  {
   "cell_type": "markdown",
   "metadata": {},
   "source": [
    "Oops, that didn't answer our question because we sorted from smallest to largest longitude. To look at the largest longitudes, we'll have to sort in reverse order."
   ]
  },
  {
   "cell_type": "code",
   "execution_count": 110,
   "metadata": {},
   "outputs": [
    {
     "data": {
      "text/html": [
       "<table border=\"1\" class=\"dataframe\">\n",
       "    <thead>\n",
       "        <tr>\n",
       "            <th>MarketName</th> <th>city</th> <th>State</th> <th>y</th> <th>x</th>\n",
       "        </tr>\n",
       "    </thead>\n",
       "    <tbody>\n",
       "        <tr>\n",
       "            <td>Christian \"Shan\" Hendricks Vegetable Market</td> <td>Saint Croix       </td> <td>Virgin Islands</td> <td>17.7449</td> <td>-64.7043</td>\n",
       "        </tr>\n",
       "        <tr>\n",
       "            <td>La Reine Farmers Market                    </td> <td>Saint Croix       </td> <td>Virgin Islands</td> <td>17.7322</td> <td>-64.7789</td>\n",
       "        </tr>\n",
       "        <tr>\n",
       "            <td>Anne Heyliger Vegetable Market             </td> <td>Saint Croix       </td> <td>Virgin Islands</td> <td>17.7099</td> <td>-64.8799</td>\n",
       "        </tr>\n",
       "        <tr>\n",
       "            <td>Rothschild Francis Vegetable Market        </td> <td>St. Thomas        </td> <td>Virgin Islands</td> <td>18.3428</td> <td>-64.9326</td>\n",
       "        </tr>\n",
       "        <tr>\n",
       "            <td>Feria Agrícola de Luquillo                 </td> <td>Luquillo          </td> <td>Puerto Rico   </td> <td>18.3782</td> <td>-65.7207</td>\n",
       "        </tr>\n",
       "        <tr>\n",
       "            <td>El Mercado Familiar                        </td> <td>San Lorenzo       </td> <td>Puerto Rico   </td> <td>18.1871</td> <td>-65.9674</td>\n",
       "        </tr>\n",
       "        <tr>\n",
       "            <td>El Mercado Familiar                        </td> <td>Gurabo            </td> <td>Puerto Rico   </td> <td>18.2526</td> <td>-65.9786</td>\n",
       "        </tr>\n",
       "        <tr>\n",
       "            <td>El Mercado Familiar                        </td> <td>Patillas          </td> <td>Puerto Rico   </td> <td>18.0069</td> <td>-66.0135</td>\n",
       "        </tr>\n",
       "        <tr>\n",
       "            <td>El Mercado Familiar                        </td> <td>Caguas zona urbana</td> <td>Puerto Rico   </td> <td>18.2324</td> <td>-66.039 </td>\n",
       "        </tr>\n",
       "        <tr>\n",
       "            <td>El Maercado Familiar                       </td> <td>Arroyo zona urbana</td> <td>Puerto Rico   </td> <td>17.9686</td> <td>-66.0617</td>\n",
       "        </tr>\n",
       "    </tbody>\n",
       "</table>\n",
       "<p>... (8536 rows omitted)</p>"
      ],
      "text/plain": [
       "MarketName                                  | city               | State          | y       | x\n",
       "Christian \"Shan\" Hendricks Vegetable Market | Saint Croix        | Virgin Islands | 17.7449 | -64.7043\n",
       "La Reine Farmers Market                     | Saint Croix        | Virgin Islands | 17.7322 | -64.7789\n",
       "Anne Heyliger Vegetable Market              | Saint Croix        | Virgin Islands | 17.7099 | -64.8799\n",
       "Rothschild Francis Vegetable Market         | St. Thomas         | Virgin Islands | 18.3428 | -64.9326\n",
       "Feria Agrícola de Luquillo                  | Luquillo           | Puerto Rico    | 18.3782 | -65.7207\n",
       "El Mercado Familiar                         | San Lorenzo        | Puerto Rico    | 18.1871 | -65.9674\n",
       "El Mercado Familiar                         | Gurabo             | Puerto Rico    | 18.2526 | -65.9786\n",
       "El Mercado Familiar                         | Patillas           | Puerto Rico    | 18.0069 | -66.0135\n",
       "El Mercado Familiar                         | Caguas zona urbana | Puerto Rico    | 18.2324 | -66.039\n",
       "El Maercado Familiar                        | Arroyo zona urbana | Puerto Rico    | 17.9686 | -66.0617\n",
       "... (8536 rows omitted)"
      ]
     },
     "execution_count": 110,
     "metadata": {},
     "output_type": "execute_result"
    }
   ],
   "source": [
    "#max to minmum depending on true of false statement \n",
    "farmers_markets_locations.sort('x', descending=True)"
   ]
  },
  {
   "cell_type": "markdown",
   "metadata": {
    "deletable": false
   },
   "source": [
    "(The `descending=True` bit is called an *optional argument*. It has a default value of `False`, so when you explicitly tell the function `descending=True`, then the function will sort in descending order.)\n",
    "\n",
    "### `sort`\n",
    "\n",
    "Some details about sort:\n",
    "\n",
    "1. The first argument to `sort` is the name of a column to sort by.\n",
    "2. If the column has text in it, `sort` will sort alphabetically; if the column has numbers, it will sort numerically.\n",
    "3. The value of `farmers_markets_locations.sort(\"x\")` is a *copy* of `farmers_markets_locations`; the `farmers_markets_locations` table doesn't get modified. For example, if we called `farmers_markets_locations.sort(\"x\")`, then running `farmers_markets_locations` by itself would still return the unsorted table.\n",
    "4. Rows always stick together when a table is sorted.  It wouldn't make sense to sort just one column and leave the other columns alone.  For example, in this case, if we sorted just the `x` column, the farmers' markets would all end up with the wrong longitudes.\n",
    "\n",
    "**Question 2.5.** Create a version of `farmers_markets_locations` that's sorted by **latitude (`y`)**, with the largest latitudes first.  Call it `farmers_markets_locations_by_latitude`.\n",
    "\n",
    "<!--\n",
    "BEGIN QUESTION\n",
    "name: q25\n",
    "-->"
   ]
  },
  {
   "cell_type": "code",
   "execution_count": 111,
   "metadata": {
    "scrolled": true
   },
   "outputs": [
    {
     "data": {
      "text/html": [
       "<table border=\"1\" class=\"dataframe\">\n",
       "    <thead>\n",
       "        <tr>\n",
       "            <th>MarketName</th> <th>city</th> <th>State</th> <th>y</th> <th>x</th>\n",
       "        </tr>\n",
       "    </thead>\n",
       "    <tbody>\n",
       "        <tr>\n",
       "            <td>Tanana Valley Farmers Market  </td> <td>Fairbanks     </td> <td>Alaska</td> <td>64.8628</td> <td>-147.781</td>\n",
       "        </tr>\n",
       "        <tr>\n",
       "            <td>Ester Community Market        </td> <td>Ester         </td> <td>Alaska</td> <td>64.8459</td> <td>-148.01 </td>\n",
       "        </tr>\n",
       "        <tr>\n",
       "            <td>Fairbanks Downtown Market     </td> <td>Fairbanks     </td> <td>Alaska</td> <td>64.8444</td> <td>-147.72 </td>\n",
       "        </tr>\n",
       "        <tr>\n",
       "            <td>Nenana Open Air Market        </td> <td>Nenana        </td> <td>Alaska</td> <td>64.5566</td> <td>-149.096</td>\n",
       "        </tr>\n",
       "        <tr>\n",
       "            <td>Highway's End Farmers' Market </td> <td>Delta Junction</td> <td>Alaska</td> <td>64.0385</td> <td>-145.733</td>\n",
       "        </tr>\n",
       "        <tr>\n",
       "            <td>MountainTraders               </td> <td>Talkeetna     </td> <td>Alaska</td> <td>62.3231</td> <td>-150.118</td>\n",
       "        </tr>\n",
       "        <tr>\n",
       "            <td>Talkeetna Farmers Market      </td> <td>Talkeetna     </td> <td>Alaska</td> <td>62.3228</td> <td>-150.118</td>\n",
       "        </tr>\n",
       "        <tr>\n",
       "            <td>Denali Farmers Market         </td> <td>Anchorage     </td> <td>Alaska</td> <td>62.3163</td> <td>-150.234</td>\n",
       "        </tr>\n",
       "        <tr>\n",
       "            <td>Kenny Lake Harvest II         </td> <td>Valdez        </td> <td>Alaska</td> <td>62.1079</td> <td>-145.476</td>\n",
       "        </tr>\n",
       "        <tr>\n",
       "            <td>Copper Valley Community Market</td> <td>Copper Valley </td> <td>Alaska</td> <td>62.0879</td> <td>-145.444</td>\n",
       "        </tr>\n",
       "    </tbody>\n",
       "</table>\n",
       "<p>... (8536 rows omitted)</p>"
      ],
      "text/plain": [
       "MarketName                     | city           | State  | y       | x\n",
       "Tanana Valley Farmers Market   | Fairbanks      | Alaska | 64.8628 | -147.781\n",
       "Ester Community Market         | Ester          | Alaska | 64.8459 | -148.01\n",
       "Fairbanks Downtown Market      | Fairbanks      | Alaska | 64.8444 | -147.72\n",
       "Nenana Open Air Market         | Nenana         | Alaska | 64.5566 | -149.096\n",
       "Highway's End Farmers' Market  | Delta Junction | Alaska | 64.0385 | -145.733\n",
       "MountainTraders                | Talkeetna      | Alaska | 62.3231 | -150.118\n",
       "Talkeetna Farmers Market       | Talkeetna      | Alaska | 62.3228 | -150.118\n",
       "Denali Farmers Market          | Anchorage      | Alaska | 62.3163 | -150.234\n",
       "Kenny Lake Harvest II          | Valdez         | Alaska | 62.1079 | -145.476\n",
       "Copper Valley Community Market | Copper Valley  | Alaska | 62.0879 | -145.444\n",
       "... (8536 rows omitted)"
      ]
     },
     "execution_count": 111,
     "metadata": {},
     "output_type": "execute_result"
    }
   ],
   "source": [
    "farmers_markets_locations_by_latitude = farmers_markets_locations.sort(\"y\", descending=True)  \n",
    "farmers_markets_locations_by_latitude"
   ]
  },
  {
   "cell_type": "code",
   "execution_count": 112,
   "metadata": {
    "deletable": false
   },
   "outputs": [
    {
     "data": {
      "text/html": [
       "<p><strong><pre style='display: inline;'>q25</pre></strong> passed! 🚀</p>"
      ],
      "text/plain": [
       "q25 results: All test cases passed!"
      ]
     },
     "execution_count": 112,
     "metadata": {},
     "output_type": "execute_result"
    }
   ],
   "source": [
    "grader.check(\"q25\")"
   ]
  },
  {
   "cell_type": "markdown",
   "metadata": {},
   "source": [
    "Now let's say we want a table of all farmers' markets in Oregon. Sorting won't help us much here because Oregon  is about 2/3 of the way through the dataset.\n",
    "\n",
    "Instead, we use the table method `where`."
   ]
  },
  {
   "cell_type": "code",
   "execution_count": 113,
   "metadata": {},
   "outputs": [
    {
     "data": {
      "text/html": [
       "<table border=\"1\" class=\"dataframe\">\n",
       "    <thead>\n",
       "        <tr>\n",
       "            <th>MarketName</th> <th>city</th> <th>State</th> <th>y</th> <th>x</th>\n",
       "        </tr>\n",
       "    </thead>\n",
       "    <tbody>\n",
       "        <tr>\n",
       "            <td>Albany Farmers' Market              </td> <td>Albany    </td> <td>Oregon</td> <td>44.6349</td> <td>-123.106</td>\n",
       "        </tr>\n",
       "        <tr>\n",
       "            <td>Alberta Farmers Market              </td> <td>Portland  </td> <td>Oregon</td> <td>45.5591</td> <td>-122.65 </td>\n",
       "        </tr>\n",
       "        <tr>\n",
       "            <td>Aloha Farmers Market                </td> <td>Aloha     </td> <td>Oregon</td> <td>45.4941</td> <td>-122.87 </td>\n",
       "        </tr>\n",
       "        <tr>\n",
       "            <td>Ashland Tuesday Market              </td> <td>Ashland   </td> <td>Oregon</td> <td>42.1945</td> <td>-122.692</td>\n",
       "        </tr>\n",
       "        <tr>\n",
       "            <td>Astoria Sunday Market               </td> <td>Astoria   </td> <td>Oregon</td> <td>46.1855</td> <td>-123.83 </td>\n",
       "        </tr>\n",
       "        <tr>\n",
       "            <td>Baker City Farmers Market           </td> <td>Baker City</td> <td>Oregon</td> <td>44.7828</td> <td>-117.823</td>\n",
       "        </tr>\n",
       "        <tr>\n",
       "            <td>Beaverton Farmers Market            </td> <td>Beaverton </td> <td>Oregon</td> <td>45.4843</td> <td>-122.805</td>\n",
       "        </tr>\n",
       "        <tr>\n",
       "            <td>Beaverton Farmers Market - Wednesday</td> <td>Beaverton </td> <td>Oregon</td> <td>45.4843</td> <td>-122.805</td>\n",
       "        </tr>\n",
       "        <tr>\n",
       "            <td>Bend Farmers Market                 </td> <td>Bend      </td> <td>Oregon</td> <td>44.06  </td> <td>-121.321</td>\n",
       "        </tr>\n",
       "        <tr>\n",
       "            <td>Boring Farmer's Market              </td> <td>Boring    </td> <td>Oregon</td> <td>45.4314</td> <td>-122.374</td>\n",
       "        </tr>\n",
       "    </tbody>\n",
       "</table>\n",
       "<p>... (160 rows omitted)</p>"
      ],
      "text/plain": [
       "MarketName                           | city       | State  | y       | x\n",
       "Albany Farmers' Market               | Albany     | Oregon | 44.6349 | -123.106\n",
       "Alberta Farmers Market               | Portland   | Oregon | 45.5591 | -122.65\n",
       "Aloha Farmers Market                 | Aloha      | Oregon | 45.4941 | -122.87\n",
       "Ashland Tuesday Market               | Ashland    | Oregon | 42.1945 | -122.692\n",
       "Astoria Sunday Market                | Astoria    | Oregon | 46.1855 | -123.83\n",
       "Baker City Farmers Market            | Baker City | Oregon | 44.7828 | -117.823\n",
       "Beaverton Farmers Market             | Beaverton  | Oregon | 45.4843 | -122.805\n",
       "Beaverton Farmers Market - Wednesday | Beaverton  | Oregon | 45.4843 | -122.805\n",
       "Bend Farmers Market                  | Bend       | Oregon | 44.06   | -121.321\n",
       "Boring Farmer's Market               | Boring     | Oregon | 45.4314 | -122.374\n",
       "... (160 rows omitted)"
      ]
     },
     "execution_count": 113,
     "metadata": {},
     "output_type": "execute_result"
    }
   ],
   "source": [
    "#where, filters our rows\n",
    "oregon_farmers_markets = farmers_markets_locations.where('State', are.equal_to('Oregon'))\n",
    "oregon_farmers_markets"
   ]
  },
  {
   "cell_type": "markdown",
   "metadata": {},
   "source": [
    "Ignore the syntax for the moment.  Instead, try to read that line like this:\n",
    "\n",
    "> Assign the name **`oregon_farmers_markets`** to a table whose rows are the rows in the **`farmers_markets_locations`** table **`where`** the **`'State'`**s **`are` `equal` `to` `Oregon`**."
   ]
  },
  {
   "cell_type": "markdown",
   "metadata": {},
   "source": [
    "### `where`\n",
    "\n",
    "Now let's dive into the details a bit more.  `where` takes 2 arguments:\n",
    "\n",
    "1. The name of a column.  `where` finds rows where that column's values meet some criterion.\n",
    "2. A predicate that describes the criterion that the column needs to meet.\n",
    "\n",
    "The predicate in the example above called the function `are.equal_to` with the value we wanted, 'Oregon'.  We'll see other predicates soon.\n",
    "\n",
    "`where` returns a table that's a copy of the original table, but **with only the rows that meet the given predicate**."
   ]
  },
  {
   "cell_type": "markdown",
   "metadata": {
    "deletable": false
   },
   "source": [
    "**Question 2.6.** Use `oregon_farmers_markets` to create a table called `eugene_markets` containing farmers' markets in Eugene, Oregon.\n",
    "<!--\n",
    "BEGIN QUESTION\n",
    "name: q26\n",
    "-->"
   ]
  },
  {
   "cell_type": "code",
   "execution_count": 114,
   "metadata": {},
   "outputs": [
    {
     "data": {
      "text/html": [
       "<table border=\"1\" class=\"dataframe\">\n",
       "    <thead>\n",
       "        <tr>\n",
       "            <th>MarketName</th> <th>city</th> <th>State</th> <th>y</th> <th>x</th>\n",
       "        </tr>\n",
       "    </thead>\n",
       "    <tbody>\n",
       "        <tr>\n",
       "            <td>Fairmount Neighborhood Farmers' Market </td> <td>Eugene</td> <td>Oregon</td> <td>44.0389</td> <td>-123.07 </td>\n",
       "        </tr>\n",
       "        <tr>\n",
       "            <td>Hideaway Farmers Market                </td> <td>Eugene</td> <td>Oregon</td> <td>44.0202</td> <td>-123.08 </td>\n",
       "        </tr>\n",
       "        <tr>\n",
       "            <td>King Estate Market Place               </td> <td>Eugene</td> <td>Oregon</td> <td>45.6905</td> <td>-121.531</td>\n",
       "        </tr>\n",
       "        <tr>\n",
       "            <td>Lane County Farmers Holiday Market     </td> <td>Eugene</td> <td>Oregon</td> <td>44.0439</td> <td>-123.104</td>\n",
       "        </tr>\n",
       "        <tr>\n",
       "            <td>Spencer Creek Community Growers' Market</td> <td>Eugene</td> <td>Oregon</td> <td>43.9957</td> <td>-123.153</td>\n",
       "        </tr>\n",
       "    </tbody>\n",
       "</table>"
      ],
      "text/plain": [
       "MarketName                              | city   | State  | y       | x\n",
       "Fairmount Neighborhood Farmers' Market  | Eugene | Oregon | 44.0389 | -123.07\n",
       "Hideaway Farmers Market                 | Eugene | Oregon | 44.0202 | -123.08\n",
       "King Estate Market Place                | Eugene | Oregon | 45.6905 | -121.531\n",
       "Lane County Farmers Holiday Market      | Eugene | Oregon | 44.0439 | -123.104\n",
       "Spencer Creek Community Growers' Market | Eugene | Oregon | 43.9957 | -123.153"
      ]
     },
     "execution_count": 114,
     "metadata": {},
     "output_type": "execute_result"
    }
   ],
   "source": [
    "eugene_markets = oregon_farmers_markets.where(\"city\", are.equal_to('Eugene'))\n",
    "eugene_markets"
   ]
  },
  {
   "cell_type": "code",
   "execution_count": 115,
   "metadata": {
    "deletable": false
   },
   "outputs": [
    {
     "data": {
      "text/html": [
       "<p><strong><pre style='display: inline;'>q26</pre></strong> passed! ✨</p>"
      ],
      "text/plain": [
       "q26 results: All test cases passed!"
      ]
     },
     "execution_count": 115,
     "metadata": {},
     "output_type": "execute_result"
    }
   ],
   "source": [
    "grader.check(\"q26\")"
   ]
  },
  {
   "cell_type": "markdown",
   "metadata": {},
   "source": [
    "Recognize any of them?"
   ]
  },
  {
   "cell_type": "markdown",
   "metadata": {},
   "source": [
    "So far we've only been using `where` with the predicate that requires finding the values in a column to be *exactly* equal to a certain value. However, there are many other predicates. Here are a few:\n",
    "\n",
    "|Predicate|Example|Result|\n",
    "|-|-|-|\n",
    "|`are.equal_to`|`are.equal_to(50)`|Find rows with values equal to 50|\n",
    "|`are.not_equal_to`|`are.not_equal_to(50)`|Find rows with values not equal to 50|\n",
    "|`are.above`|`are.above(50)`|Find rows with values above (and not equal to) 50|\n",
    "|`are.above_or_equal_to`|`are.above_or_equal_to(50)`|Find rows with values above 50 or equal to 50|\n",
    "|`are.below`|`are.below(50)`|Find rows with values below 50|\n",
    "|`are.between`|`are.between(2, 10)`|Find rows with values above or equal to 2 and below 10|"
   ]
  },
  {
   "cell_type": "markdown",
   "metadata": {},
   "source": [
    "## 3. More Table Operations!\n",
    "\n",
    "Let's add a few more methods to the list of table operations using our knowledge of arrays from Lab 2.\n",
    "\n",
    "### `column`\n",
    "\n",
    "`column` takes the column name of a table (in string format) as its argument and returns the values in that column as an **array** (as compared to `select`, which returns a table). "
   ]
  },
  {
   "cell_type": "code",
   "execution_count": 116,
   "metadata": {},
   "outputs": [
    {
     "data": {
      "text/plain": [
       "array(['The Shawshank Redemption (1994)', 'The Godfather (1972)',\n",
       "       'The Godfather: Part II (1974)', 'Pulp Fiction (1994)',\n",
       "       \"Schindler's List (1993)\",\n",
       "       'The Lord of the Rings: The Return of the King (2003)',\n",
       "       '12 Angry Men (1957)', 'The Dark Knight (2008)',\n",
       "       'Il buono, il brutto, il cattivo (1966)',\n",
       "       'The Lord of the Rings: The Fellowship of the Ring (2001)'],\n",
       "      dtype='<U56')"
      ]
     },
     "execution_count": 116,
     "metadata": {},
     "output_type": "execute_result"
    }
   ],
   "source": [
    "# Returns an array of movie names\n",
    "top_10_movies.column('Name')"
   ]
  },
  {
   "cell_type": "markdown",
   "metadata": {},
   "source": [
    "### `take`\n",
    "The table method `take` takes as its argument an array of numbers.  Each number should be the index of a row in the table.  It returns a **new table** with only those rows. \n",
    "\n",
    "You'll usually want to use `take` in conjunction with `np.arange` to take the first few rows of a table."
   ]
  },
  {
   "cell_type": "code",
   "execution_count": 117,
   "metadata": {},
   "outputs": [
    {
     "data": {
      "text/html": [
       "<table border=\"1\" class=\"dataframe\">\n",
       "    <thead>\n",
       "        <tr>\n",
       "            <th>Rating</th> <th>Name</th>\n",
       "        </tr>\n",
       "    </thead>\n",
       "    <tbody>\n",
       "        <tr>\n",
       "            <td>9.2   </td> <td>The Shawshank Redemption (1994)</td>\n",
       "        </tr>\n",
       "        <tr>\n",
       "            <td>9.2   </td> <td>The Godfather (1972)           </td>\n",
       "        </tr>\n",
       "        <tr>\n",
       "            <td>9     </td> <td>The Godfather: Part II (1974)  </td>\n",
       "        </tr>\n",
       "        <tr>\n",
       "            <td>8.9   </td> <td>Pulp Fiction (1994)            </td>\n",
       "        </tr>\n",
       "        <tr>\n",
       "            <td>8.9   </td> <td>Schindler's List (1993)        </td>\n",
       "        </tr>\n",
       "    </tbody>\n",
       "</table>"
      ],
      "text/plain": [
       "Rating | Name\n",
       "9.2    | The Shawshank Redemption (1994)\n",
       "9.2    | The Godfather (1972)\n",
       "9      | The Godfather: Part II (1974)\n",
       "8.9    | Pulp Fiction (1994)\n",
       "8.9    | Schindler's List (1993)"
      ]
     },
     "execution_count": 117,
     "metadata": {},
     "output_type": "execute_result"
    }
   ],
   "source": [
    "#returns index\n",
    "\n",
    "# Take first 5 movies of top_10_movies\n",
    "top_10_movies.take(np.arange(0, 5, 1))"
   ]
  },
  {
   "cell_type": "markdown",
   "metadata": {},
   "source": [
    "The next three questions will give you practice with combining the operations you've learned in this lab to answer questions about the `population` and `imdb` tables. First, check out the `population` table from section 1."
   ]
  },
  {
   "cell_type": "code",
   "execution_count": 118,
   "metadata": {},
   "outputs": [
    {
     "data": {
      "text/html": [
       "<table border=\"1\" class=\"dataframe\">\n",
       "    <thead>\n",
       "        <tr>\n",
       "            <th>Population</th> <th>Year</th>\n",
       "        </tr>\n",
       "    </thead>\n",
       "    <tbody>\n",
       "        <tr>\n",
       "            <td>2557628654</td> <td>1950</td>\n",
       "        </tr>\n",
       "        <tr>\n",
       "            <td>2594939877</td> <td>1951</td>\n",
       "        </tr>\n",
       "        <tr>\n",
       "            <td>2636772306</td> <td>1952</td>\n",
       "        </tr>\n",
       "        <tr>\n",
       "            <td>2682053389</td> <td>1953</td>\n",
       "        </tr>\n",
       "        <tr>\n",
       "            <td>2730228104</td> <td>1954</td>\n",
       "        </tr>\n",
       "        <tr>\n",
       "            <td>2782098943</td> <td>1955</td>\n",
       "        </tr>\n",
       "        <tr>\n",
       "            <td>2835299673</td> <td>1956</td>\n",
       "        </tr>\n",
       "        <tr>\n",
       "            <td>2891349717</td> <td>1957</td>\n",
       "        </tr>\n",
       "        <tr>\n",
       "            <td>2948137248</td> <td>1958</td>\n",
       "        </tr>\n",
       "        <tr>\n",
       "            <td>3000716593</td> <td>1959</td>\n",
       "        </tr>\n",
       "    </tbody>\n",
       "</table>\n",
       "<p>... (56 rows omitted)</p>"
      ],
      "text/plain": [
       "Population | Year\n",
       "2557628654 | 1950\n",
       "2594939877 | 1951\n",
       "2636772306 | 1952\n",
       "2682053389 | 1953\n",
       "2730228104 | 1954\n",
       "2782098943 | 1955\n",
       "2835299673 | 1956\n",
       "2891349717 | 1957\n",
       "2948137248 | 1958\n",
       "3000716593 | 1959\n",
       "... (56 rows omitted)"
      ]
     },
     "execution_count": 118,
     "metadata": {},
     "output_type": "execute_result"
    }
   ],
   "source": [
    "# Run this cell to display the population table.\n",
    "population"
   ]
  },
  {
   "cell_type": "markdown",
   "metadata": {},
   "source": [
    "**Question 3.1.** Compute the year when the world population first went above 6 billion. Assign the year to `year_population_crossed_6_billion`.\n",
    "\n",
    "<!--\n",
    "BEGIN QUESTION\n",
    "name: q31\n",
    "-->"
   ]
  },
  {
   "cell_type": "code",
   "execution_count": 119,
   "metadata": {},
   "outputs": [
    {
     "data": {
      "text/plain": [
       "1999"
      ]
     },
     "execution_count": 119,
     "metadata": {},
     "output_type": "execute_result"
    }
   ],
   "source": [
    "year_population_crossed_6_billion = population.where(\"Population\", are.above_or_equal_to(6000000000)).take(0).column(\"Year\").item(0)\n",
    "#year_population_crossed_6_billion = population.sort('Year').where('Population',are.above(5999999999)).column('Year').item(0)\n",
    "year_population_crossed_6_billion"
   ]
  },
  {
   "cell_type": "code",
   "execution_count": 120,
   "metadata": {},
   "outputs": [
    {
     "data": {
      "text/html": [
       "<p><strong><pre style='display: inline;'>q31</pre></strong> passed! 🌟</p>"
      ],
      "text/plain": [
       "q31 results: All test cases passed!"
      ]
     },
     "execution_count": 120,
     "metadata": {},
     "output_type": "execute_result"
    }
   ],
   "source": [
    "grader.check(\"q31\")"
   ]
  },
  {
   "cell_type": "markdown",
   "metadata": {},
   "source": [
    "**Question 3.2.** Find the average rating for movies released before the year 2000 and the average rating for movies released in the year 2000 or after for the movies in `imdb`.\n",
    "\n",
    "*Hint*: Think of the steps you need to do (take the average, find the ratings, find movies released in 20th/21st centuries), and try to put them in an order that makes sense.\n",
    "\n",
    "<!--\n",
    "BEGIN QUESTION\n",
    "name: q32\n",
    "-->"
   ]
  },
  {
   "cell_type": "code",
   "execution_count": 121,
   "metadata": {},
   "outputs": [
    {
     "name": "stdout",
     "output_type": "stream",
     "text": [
      "Average before 2000 rating: 8.2783625731\n",
      "Average after or in 2000 rating: 8.23797468354\n"
     ]
    }
   ],
   "source": [
    "#avergae rating of movies before and after 2000\n",
    "before_2000 = np.average(imdb.sort('Year').where('Year',are.below(2000)).column('Rating'))\n",
    "#use.column which gives you an array to calculate the average, .select gives you a table but you dont get average\n",
    "after_or_in_2000 = np.average(imdb.sort('Year').where('Year',are.above(1999)).column('Rating'))\n",
    "print(\"Average before 2000 rating:\", before_2000)\n",
    "print(\"Average after or in 2000 rating:\", after_or_in_2000)"
   ]
  },
  {
   "cell_type": "code",
   "execution_count": 122,
   "metadata": {},
   "outputs": [
    {
     "data": {
      "text/html": [
       "<p><strong><pre style='display: inline;'>q32</pre></strong> passed! 🌈</p>"
      ],
      "text/plain": [
       "q32 results: All test cases passed!"
      ]
     },
     "execution_count": 122,
     "metadata": {},
     "output_type": "execute_result"
    }
   ],
   "source": [
    "grader.check(\"q32\")"
   ]
  },
  {
   "cell_type": "markdown",
   "metadata": {},
   "source": [
    "**Question 3.3.** Here's a challenge: Find the number of movies that came out in *even* years.\n",
    "\n",
    "*Hint:* The operator `%` computes the remainder when dividing by a number.  So `5 % 2` is 1 and `6 % 2` is 0.  A number is even if the remainder is 0 when you divide by 2.\n",
    "\n",
    "*Hint 2:* `%` can be used on arrays, operating elementwise like `+` or `*`.  So `make_array(5, 6, 7) % 2` is `array([1, 0, 1])`.\n",
    "\n",
    "*Hint 3:* Create a column called \"Year Remainder\" that's the remainder when each movie's release year is divided by 2.  Make a copy of `imdb` that includes that column (`imdb.with_column(...)` returns a new table).  Then use `where` to find rows where that new column is equal to 0.  Then use `num_rows` to count the number of such rows.\n",
    "\n",
    "*Note:* These steps can be chained in one single statement, or broken up across several lines with intermediate names assigned. You’re always welcome to break down problems however you wish!\n",
    "\n",
    "<!--\n",
    "BEGIN QUESTION\n",
    "name: q33\n",
    "-->"
   ]
  },
  {
   "cell_type": "code",
   "execution_count": 123,
   "metadata": {},
   "outputs": [
    {
     "data": {
      "text/plain": [
       "127"
      ]
     },
     "execution_count": 123,
     "metadata": {},
     "output_type": "execute_result"
    }
   ],
   "source": [
    "#%2 operator to get even numbers \n",
    "#get year out of column\n",
    "num_even_year_movies = imdb.with_column(\"Year Remainder\",imdb.column('Year') %2).where ('Year Remainder', are.equal_to(0)).num_rows \n",
    "#imdb.column('Year') %2) each remainder year divided by 2\n",
    "#where ('Year Remainder', are.equal_to(0)).num_rows locate and filters out the new column labeled year remainder\n",
    "num_even_year_movies"
   ]
  },
  {
   "cell_type": "code",
   "execution_count": 124,
   "metadata": {},
   "outputs": [
    {
     "data": {
      "text/html": [
       "<p><strong><pre style='display: inline;'>q33</pre></strong> passed! 💯</p>"
      ],
      "text/plain": [
       "q33 results: All test cases passed!"
      ]
     },
     "execution_count": 124,
     "metadata": {},
     "output_type": "execute_result"
    }
   ],
   "source": [
    "grader.check(\"q33\")"
   ]
  },
  {
   "cell_type": "markdown",
   "metadata": {},
   "source": [
    "## 4. Analyzing a dataset\n",
    "\n",
    "Now that you're familiar with table operations, let’s answer an interesting question about a dataset!\n",
    "\n",
    "Run the cell below to load the `imdb` table. It contains information about the 250 highest-rated movies on IMDb."
   ]
  },
  {
   "cell_type": "code",
   "execution_count": 16,
   "metadata": {
    "scrolled": true
   },
   "outputs": [
    {
     "data": {
      "text/html": [
       "<table border=\"1\" class=\"dataframe\">\n",
       "    <thead>\n",
       "        <tr>\n",
       "            <th>Votes</th> <th>Rating</th> <th>Title</th> <th>Year</th> <th>Decade</th>\n",
       "        </tr>\n",
       "    </thead>\n",
       "    <tbody>\n",
       "        <tr>\n",
       "            <td>88355 </td> <td>8.4   </td> <td>M                    </td> <td>1931</td> <td>1930  </td>\n",
       "        </tr>\n",
       "        <tr>\n",
       "            <td>132823</td> <td>8.3   </td> <td>Singin' in the Rain  </td> <td>1952</td> <td>1950  </td>\n",
       "        </tr>\n",
       "        <tr>\n",
       "            <td>74178 </td> <td>8.3   </td> <td>All About Eve        </td> <td>1950</td> <td>1950  </td>\n",
       "        </tr>\n",
       "        <tr>\n",
       "            <td>635139</td> <td>8.6   </td> <td>Léon                 </td> <td>1994</td> <td>1990  </td>\n",
       "        </tr>\n",
       "        <tr>\n",
       "            <td>145514</td> <td>8.2   </td> <td>The Elephant Man     </td> <td>1980</td> <td>1980  </td>\n",
       "        </tr>\n",
       "        <tr>\n",
       "            <td>425461</td> <td>8.3   </td> <td>Full Metal Jacket    </td> <td>1987</td> <td>1980  </td>\n",
       "        </tr>\n",
       "        <tr>\n",
       "            <td>441174</td> <td>8.1   </td> <td>Gone Girl            </td> <td>2014</td> <td>2010  </td>\n",
       "        </tr>\n",
       "        <tr>\n",
       "            <td>850601</td> <td>8.3   </td> <td>Batman Begins        </td> <td>2005</td> <td>2000  </td>\n",
       "        </tr>\n",
       "        <tr>\n",
       "            <td>37664 </td> <td>8.2   </td> <td>Judgment at Nuremberg</td> <td>1961</td> <td>1960  </td>\n",
       "        </tr>\n",
       "        <tr>\n",
       "            <td>46987 </td> <td>8     </td> <td>Relatos salvajes     </td> <td>2014</td> <td>2010  </td>\n",
       "        </tr>\n",
       "    </tbody>\n",
       "</table>\n",
       "<p>... (240 rows omitted)</p>"
      ],
      "text/plain": [
       "Votes  | Rating | Title                 | Year | Decade\n",
       "88355  | 8.4    | M                     | 1931 | 1930\n",
       "132823 | 8.3    | Singin' in the Rain   | 1952 | 1950\n",
       "74178  | 8.3    | All About Eve         | 1950 | 1950\n",
       "635139 | 8.6    | Léon                  | 1994 | 1990\n",
       "145514 | 8.2    | The Elephant Man      | 1980 | 1980\n",
       "425461 | 8.3    | Full Metal Jacket     | 1987 | 1980\n",
       "441174 | 8.1    | Gone Girl             | 2014 | 2010\n",
       "850601 | 8.3    | Batman Begins         | 2005 | 2000\n",
       "37664  | 8.2    | Judgment at Nuremberg | 1961 | 1960\n",
       "46987  | 8      | Relatos salvajes      | 2014 | 2010\n",
       "... (240 rows omitted)"
      ]
     },
     "execution_count": 16,
     "metadata": {},
     "output_type": "execute_result"
    }
   ],
   "source": [
    "# Just run this cell\n",
    "\n",
    "imdb = Table.read_table('imdb.csv')\n",
    "imdb"
   ]
  },
  {
   "cell_type": "markdown",
   "metadata": {},
   "source": [
    "Often, we want to perform multiple operations - sorting, filtering, or others - in order to turn a table we have into something more useful. You can do these operations one by one, e.g.\n",
    "\n",
    "```\n",
    "first_step = original_tbl.where(“col1”, are.equal_to(12))\n",
    "second_step = first_step.sort(‘col2’, descending=True)\n",
    "```\n",
    "\n",
    "However, since the value of the expression `original_tbl.where(“col1”, are.equal_to(12))` is itself a table, you can just call a table method on it:\n",
    "\n",
    "```\n",
    "original_tbl.where(“col1”, are.equal_to(12)).sort(‘col2’, descending=True)\n",
    "```\n",
    "You should organize your work in the way that makes the most sense to you, using informative names for any intermediate tables you create. "
   ]
  },
  {
   "cell_type": "markdown",
   "metadata": {
    "deletable": false
   },
   "source": [
    "**Question 4.1.** Create a table of movies released between 2010 and 2016 (inclusive) with ratings above 8. The table should only contain the columns `Title` and `Rating`, **in that order**.\n",
    "\n",
    "Assign the table to the name `above_eight`.\n",
    "\n",
    "*Hint:* Think about the steps you need to take, and try to put them in an order that make sense. Feel free to create intermediate tables for each step, but please make sure you assign your final table the name `above_eight`!\n",
    "\n",
    "<!--\n",
    "BEGIN QUESTION\n",
    "name: q41\n",
    "-->"
   ]
  },
  {
   "cell_type": "code",
   "execution_count": 26,
   "metadata": {},
   "outputs": [
    {
     "data": {
      "text/html": [
       "<table border=\"1\" class=\"dataframe\">\n",
       "    <thead>\n",
       "        <tr>\n",
       "            <th>Title</th> <th>Rating</th>\n",
       "        </tr>\n",
       "    </thead>\n",
       "    <tbody>\n",
       "        <tr>\n",
       "            <td>Gone Girl               </td> <td>8.1   </td>\n",
       "        </tr>\n",
       "        <tr>\n",
       "            <td>Warrior                 </td> <td>8.2   </td>\n",
       "        </tr>\n",
       "        <tr>\n",
       "            <td>Intouchables            </td> <td>8.5   </td>\n",
       "        </tr>\n",
       "        <tr>\n",
       "            <td>Shutter Island          </td> <td>8.1   </td>\n",
       "        </tr>\n",
       "        <tr>\n",
       "            <td>12 Years a Slave        </td> <td>8.1   </td>\n",
       "        </tr>\n",
       "        <tr>\n",
       "            <td>Inside Out (2015/I)     </td> <td>8.5   </td>\n",
       "        </tr>\n",
       "        <tr>\n",
       "            <td>Jagten                  </td> <td>8.2   </td>\n",
       "        </tr>\n",
       "        <tr>\n",
       "            <td>Toy Story 3             </td> <td>8.3   </td>\n",
       "        </tr>\n",
       "        <tr>\n",
       "            <td>How to Train Your Dragon</td> <td>8.1   </td>\n",
       "        </tr>\n",
       "        <tr>\n",
       "            <td>Interstellar            </td> <td>8.6   </td>\n",
       "        </tr>\n",
       "    </tbody>\n",
       "</table>\n",
       "<p>... (10 rows omitted)</p>"
      ],
      "text/plain": [
       "Title                    | Rating\n",
       "Gone Girl                | 8.1\n",
       "Warrior                  | 8.2\n",
       "Intouchables             | 8.5\n",
       "Shutter Island           | 8.1\n",
       "12 Years a Slave         | 8.1\n",
       "Inside Out (2015/I)      | 8.5\n",
       "Jagten                   | 8.2\n",
       "Toy Story 3              | 8.3\n",
       "How to Train Your Dragon | 8.1\n",
       "Interstellar             | 8.6\n",
       "... (10 rows omitted)"
      ]
     },
     "execution_count": 26,
     "metadata": {},
     "output_type": "execute_result"
    }
   ],
   "source": [
    "above_eight = imdb.where('Year', are.between(2010,2017)).where('Rating', are.above(8)).select('Title','Rating').drop('Decade')\n",
    "#where('Rating',are.above(8)): filter anything lower then an 8 rating\n",
    "#above_eight = imdb.select('Title','Rating','Decade').where('Rating',are.above(8)).where('Decade',are.between(2010,2016)).drop('Decade')\n",
    "above_eight"
   ]
  },
  {
   "cell_type": "code",
   "execution_count": 27,
   "metadata": {
    "deletable": false
   },
   "outputs": [
    {
     "data": {
      "text/html": [
       "<p><strong><pre style='display: inline;'>q41</pre></strong> passed! 🌈</p>"
      ],
      "text/plain": [
       "q41 results: All test cases passed!"
      ]
     },
     "execution_count": 27,
     "metadata": {},
     "output_type": "execute_result"
    }
   ],
   "source": [
    "grader.check(\"q41\")"
   ]
  },
  {
   "cell_type": "markdown",
   "metadata": {
    "deletable": false
   },
   "source": [
    "**Question 4.2.** Use `num_rows` (and arithmetic) to find the *proportion* of movies in the dataset that were released 1900-1999, and the *proportion* of movies in the dataset that were released in the year 2000 or later.\n",
    "\n",
    "Assign `proportion_in_20th_century` to the proportion of movies in the dataset that were released 1900-1999, and `proportion_in_21st_century` to the proportion of movies in the dataset that were released in the year 2000 or later.\n",
    "\n",
    "*Hint:* The *proportion* of movies released in the 1900's is the *number* of movies released in the 1900's, divided by the *total number* of movies.\n",
    "\n",
    "<!--\n",
    "BEGIN QUESTION\n",
    "name: q42\n",
    "-->"
   ]
  },
  {
   "cell_type": "code",
   "execution_count": 29,
   "metadata": {},
   "outputs": [
    {
     "name": "stdout",
     "output_type": "stream",
     "text": [
      "Proportion in 20th century: 0.316\n",
      "Proportion in 21st century: 0.316\n"
     ]
    }
   ],
   "source": [
    "num_movies_in_dataset = imdb.num_rows\n",
    "num_in_20th_century = imdb.where(\"Year\", are.between(1900, 2000)).num_rows\n",
    "num_in_20th_century = imdb.where (\"Year\", are.above(1999)).num_rows\n",
    "#num_in_20th_century = imdb.where('Decade', are.below(2000)).num_rows #Create a copy of a table with only the rows that match some predicate\n",
    "#num_in_20th_century =('Decade', are.above(1999)).num_rows\n",
    "proportion_in_20th_century = num_in_20th_century / num_movies_in_dataset #dividing the two\n",
    "proportion_in_21st_century = num_in_21st_century / num_movies_in_dataset #dividing\n",
    "print(\"Proportion in 20th century:\", proportion_in_20th_century)\n",
    "print(\"Proportion in 21st century:\", proportion_in_21st_century)"
   ]
  },
  {
   "cell_type": "code",
   "execution_count": 30,
   "metadata": {
    "deletable": false
   },
   "outputs": [
    {
     "data": {
      "text/html": [
       "<p><strong style='color: red;'><pre style='display: inline;'>q42</pre> results:</strong></p><p><strong><pre style='display: inline;'>q42 - 1</pre> result:</strong></p><pre>    ❌ Test case failed\n",
       "    Trying:\n",
       "        proportion_in_20th_century == 0.684\n",
       "    Expecting:\n",
       "        True\n",
       "    **********************************************************************\n",
       "    Line 2, in q42 0\n",
       "    Failed example:\n",
       "        proportion_in_20th_century == 0.684\n",
       "    Expected:\n",
       "        True\n",
       "    Got:\n",
       "        False\n",
       "</pre><p><strong><pre style='display: inline;'>q42 - 2</pre> result:</strong></p><pre>    ✅ Test case passed</pre>"
      ],
      "text/plain": [
       "q42 results:\n",
       "    q42 - 1 result:\n",
       "        ❌ Test case failed\n",
       "        Trying:\n",
       "            proportion_in_20th_century == 0.684\n",
       "        Expecting:\n",
       "            True\n",
       "        **********************************************************************\n",
       "        Line 2, in q42 0\n",
       "        Failed example:\n",
       "            proportion_in_20th_century == 0.684\n",
       "        Expected:\n",
       "            True\n",
       "        Got:\n",
       "            False\n",
       "\n",
       "    q42 - 2 result:\n",
       "        ✅ Test case passed"
      ]
     },
     "execution_count": 30,
     "metadata": {},
     "output_type": "execute_result"
    }
   ],
   "source": [
    "grader.check(\"q42\")"
   ]
  },
  {
   "cell_type": "markdown",
   "metadata": {},
   "source": [
    "## 5. Summary\n",
    "\n",
    "For your reference, here's a table of all the functions and methods we saw in this lab.\n",
    "\n",
    "|Name|Example|Purpose|\n",
    "|-|-|-|\n",
    "|`sort`|`tbl.sort(\"N\")`|Create a copy of a table sorted by the values in a column|\n",
    "|`where`|`tbl.where(\"N\", are.above(2))`|Create a copy of a table with only the rows that match some *predicate*|\n",
    "|`num_rows`|`tbl.num_rows`|Compute the number of rows in a table|\n",
    "|`num_columns`|`tbl.num_columns`|Compute the number of columns in a table|\n",
    "|`select`|`tbl.select(\"N\")`|Create a copy of a table with only some of the columns|\n",
    "|`drop`|`tbl.drop(\"2*N\")`|Create a copy of a table without some of the columns|\n",
    "|`column`|`tbl.column(\"N\")`|Returns the values of a column as an array|\n",
    "|`take`|`tbl.take(np.arange(0,2,1))`|Create a copy of a table selecting only some of the rows by their index|\n",
    "\n",
    "<br/>\n",
    "\n",
    "You're done with Lab 3!  Be sure to run the tests and verify that they all pass, then choose **Save** your changes, then **Download** your file to your host machine (if you are using jupyterhub), then submit your file to the Lab3 assignment in **Canvas** by 11:59pm on the due date."
   ]
  }
 ],
 "metadata": {
  "kernelspec": {
   "display_name": "Python 3 (ipykernel)",
   "language": "python",
   "name": "python3"
  },
  "language_info": {
   "codemirror_mode": {
    "name": "ipython",
    "version": 3
   },
   "file_extension": ".py",
   "mimetype": "text/x-python",
   "name": "python",
   "nbconvert_exporter": "python",
   "pygments_lexer": "ipython3",
   "version": "3.10.11"
  }
 },
 "nbformat": 4,
 "nbformat_minor": 4
}
