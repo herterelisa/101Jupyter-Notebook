{
 "cells": [
  {
   "cell_type": "code",
   "execution_count": 1,
   "metadata": {
    "deletable": false,
    "editable": false
   },
   "outputs": [],
   "source": [
    "import otter\n",
    "grader = otter.Notebook()"
   ]
  },
  {
   "cell_type": "markdown",
   "metadata": {},
   "source": [
    "# Lab 8: Confidence Intervals and Characteristics of Distributions"
   ]
  },
  {
   "cell_type": "markdown",
   "metadata": {},
   "source": [
    "**Reading**: \n",
    "* [Estimation](https://www.inferentialthinking.com/chapters/13/Estimation.html)\n",
    "* [Mean](https://inferentialthinking.com/chapters/14/1/Properties_of_the_Mean.html) and [Variability](https://inferentialthinking.com/chapters/14/2/Variability.html)"
   ]
  },
  {
   "cell_type": "markdown",
   "metadata": {},
   "source": [
    "Please complete this notebook by filling in the cells provided. Before you begin, execute the following cell to load the provided tests. Each time you start your server, you will need to execute this cell again to load the tests. \n",
    "\n",
    "In this lab, we will learn how to generate confidence intervals from samples to infer information about a population. We will also introduce some important statistics characterizing distributions. "
   ]
  },
  {
   "cell_type": "code",
   "execution_count": 2,
   "metadata": {},
   "outputs": [],
   "source": [
    "# Don't change this cell; just run it. \n",
    "\n",
    "import numpy as np\n",
    "from datascience import *\n",
    "\n",
    "# These lines do some fancy plotting magic.\n",
    "import matplotlib\n",
    "%matplotlib inline\n",
    "import matplotlib.pyplot as plt\n",
    "plt.style.use('fivethirtyeight')\n",
    "import warnings\n",
    "warnings.simplefilter('ignore', FutureWarning)\n",
    "\n",
    "import otter\n",
    "grader = otter.Notebook()"
   ]
  },
  {
   "cell_type": "markdown",
   "metadata": {},
   "source": [
    "## 1. Thai Restaurants\n"
   ]
  },
  {
   "cell_type": "markdown",
   "metadata": {},
   "source": [
    "Ben and Frank are trying see what the best Thai restaurant in Eugene is. They survey 1500 UO students selected uniformly at random, and ask each student what Thai restaurant is the best (*Note: this data is fabricated for the purposes of this homework*). The choices of Thai restaurant are Sweet Basil Express, Drumrongthai, Manola's Thai Cuisine, and Tasty Thai. After compiling the results, Ben and Frank release the following percentages from their sample:\n",
    "\n",
    "|Thai Restaurant  | Percentage|\n",
    "|:------------:|:------------:|\n",
    "|Sweet Basil Express | 8% |\n",
    "|Drumrongthai | 52% |\n",
    "|Manola's Thai Cuisine | 25% |\n",
    "|Tasty Thai | 15% |\n",
    "\n",
    "These percentages represent a uniform random sample of the population of UO students. The sample suggests that UO students heavily prefer Drumrongthai to other Thai restaurants, but to what extent does this sample reflect the overall population's preference (the entire population of all UO students)? To answer this, \n",
    "\n",
    "1. We could take more random samples and compare them to our initial sample. However, this is time- and cost-intensive and if we could do this, we probably would have taken a larger initial sample anyway.\n",
    "2. We could take our estimate for UO's favorite Thai restaurant (Drumrongthai, 52%) at face value and decide that this is as good as it gets.\n",
    "3. We could bootstrap our sample by resampling it thousands of times to create a confidence interval for our estimate.\n",
    "\n",
    "You've probably guessed that the third option is our best one. But why? In lieu of having the true population estimate at hand, our sample is what we have to work with. The estimate itself is ok, but its even better to know how much this estimate might have varied (as if we had taken multiple random samples and not just one). By bootstrapping our sample, we are tacitly acknowledging that our sample estimate is almost certainly wrong, but a confidence interval derived via resampling provides a range of values that could contain the true value.\n",
    "\n",
    "\n",
    "Using this sample, we will attempt to estimate the corresponding *parameters*, or the percentage of the votes that each restaurant will receive from the entire population. We will first attain confidence intervals by bootstrapping and then use them to compute a range of values that reflects the uncertainty of our estimates."
   ]
  },
  {
   "cell_type": "markdown",
   "metadata": {},
   "source": [
    "The table `votes` contains the results of the survey."
   ]
  },
  {
   "cell_type": "code",
   "execution_count": 3,
   "metadata": {
    "deletable": false,
    "editable": false
   },
   "outputs": [
    {
     "data": {
      "text/html": [
       "<table border=\"1\" class=\"dataframe\">\n",
       "    <thead>\n",
       "        <tr>\n",
       "            <th>Vote</th>\n",
       "        </tr>\n",
       "    </thead>\n",
       "    <tbody>\n",
       "        <tr>\n",
       "            <td>Sweet Basil Express</td>\n",
       "        </tr>\n",
       "        <tr>\n",
       "            <td>Sweet Basil Express</td>\n",
       "        </tr>\n",
       "        <tr>\n",
       "            <td>Sweet Basil Express</td>\n",
       "        </tr>\n",
       "        <tr>\n",
       "            <td>Sweet Basil Express</td>\n",
       "        </tr>\n",
       "        <tr>\n",
       "            <td>Sweet Basil Express</td>\n",
       "        </tr>\n",
       "        <tr>\n",
       "            <td>Sweet Basil Express</td>\n",
       "        </tr>\n",
       "        <tr>\n",
       "            <td>Sweet Basil Express</td>\n",
       "        </tr>\n",
       "        <tr>\n",
       "            <td>Sweet Basil Express</td>\n",
       "        </tr>\n",
       "        <tr>\n",
       "            <td>Sweet Basil Express</td>\n",
       "        </tr>\n",
       "        <tr>\n",
       "            <td>Sweet Basil Express</td>\n",
       "        </tr>\n",
       "    </tbody>\n",
       "</table>\n",
       "<p>... (1490 rows omitted)</p>"
      ],
      "text/plain": [
       "Vote\n",
       "Sweet Basil Express\n",
       "Sweet Basil Express\n",
       "Sweet Basil Express\n",
       "Sweet Basil Express\n",
       "Sweet Basil Express\n",
       "Sweet Basil Express\n",
       "Sweet Basil Express\n",
       "Sweet Basil Express\n",
       "Sweet Basil Express\n",
       "Sweet Basil Express\n",
       "... (1490 rows omitted)"
      ]
     },
     "execution_count": 3,
     "metadata": {},
     "output_type": "execute_result"
    }
   ],
   "source": [
    "# Just run this cell\n",
    "votes = Table.read_table('votes.csv')\n",
    "votes"
   ]
  },
  {
   "cell_type": "markdown",
   "metadata": {
    "deletable": false,
    "editable": false
   },
   "source": [
    "**Question 1.** Complete the function `one_resampled_percentage` below. It should return Drumrongthai's **percentage** of votes after simulating one bootstrap sample of `tbl`. Remember to sample *with* replacement, otherwise we'll end up with the same distribution as our sample.\n",
    "\n",
    "**Note:** `tbl` will always be in the same format as `votes`.\n",
    "\n",
    "<!--\n",
    "BEGIN QUESTION\n",
    "name: q1_1\n",
    "manual: false\n",
    "-->"
   ]
  },
  {
   "cell_type": "code",
   "execution_count": 8,
   "metadata": {},
   "outputs": [
    {
     "data": {
      "text/plain": [
       "52.86666666666666"
      ]
     },
     "execution_count": 8,
     "metadata": {},
     "output_type": "execute_result"
    }
   ],
   "source": [
    "def one_resampled_percentage(tbl):\n",
    "    thai = tbl.sample(1500)\n",
    "    num_votes = votes.num_rows\n",
    "    percentage = np.count_nonzero(thai.where('Vote', are.equal_to('Drumrongthai')).column('Vote'))/num_votes*100\n",
    "    return percentage\n",
    "\n",
    "one_resampled_percentage(votes)"
   ]
  },
  {
   "cell_type": "code",
   "execution_count": 9,
   "metadata": {
    "deletable": false,
    "editable": false
   },
   "outputs": [
    {
     "data": {
      "text/html": [
       "<p><strong><pre style='display: inline;'>q1_1</pre></strong> passed! 🌟</p>"
      ],
      "text/plain": [
       "q1_1 results: All test cases passed!"
      ]
     },
     "execution_count": 9,
     "metadata": {},
     "output_type": "execute_result"
    }
   ],
   "source": [
    "grader.check(\"q1_1\")"
   ]
  },
  {
   "cell_type": "markdown",
   "metadata": {},
   "source": [
    "We now have a function to compute a single bootstrap from our sample. But we'll need many more to create out confidence interval. "
   ]
  },
  {
   "cell_type": "markdown",
   "metadata": {
    "deletable": false,
    "editable": false
   },
   "source": [
    "**Question 2.** Complete the `percentages_in_resamples` function such that it returns an array of 2500 bootstrapped estimates of the percentage of voters who will vote for Drumrongthai. You should use the `one_resampled_percentage` function you wrote above.\n",
    "\n",
    "\n",
    "<!--\n",
    "BEGIN QUESTION\n",
    "name: q1_2\n",
    "manual: false\n",
    "-->"
   ]
  },
  {
   "cell_type": "code",
   "execution_count": 10,
   "metadata": {
    "for_assignment_type": "solution"
   },
   "outputs": [],
   "source": [
    "def percentages_in_resamples():\n",
    "    percentage_drum = make_array()\n",
    "    for i in np.arange(2500):\n",
    "        sample = one_resampled_percentage(votes)\n",
    "        percentage_drum = np.append(percentage_drum, sample)\n",
    "    return percentage_drum\n"
   ]
  },
  {
   "cell_type": "code",
   "execution_count": 11,
   "metadata": {
    "deletable": false,
    "editable": false
   },
   "outputs": [
    {
     "data": {
      "text/html": [
       "<p><strong><pre style='display: inline;'>q1_2</pre></strong> passed! 🌈</p>"
      ],
      "text/plain": [
       "q1_2 results: All test cases passed!"
      ]
     },
     "execution_count": 11,
     "metadata": {},
     "output_type": "execute_result"
    }
   ],
   "source": [
    "grader.check(\"q1_2\")"
   ]
  },
  {
   "cell_type": "markdown",
   "metadata": {},
   "source": [
    "In the following cell, we run the function you just defined, `percentages_in_resamples`, and create a histogram of the calculated statistic for the 2,500 bootstrap estimates of the percentage of voters who voted for Drumrongthai. As you can see, we've derived not just a single estimate from our sample, but an entire distribution of estimates. Based on what the original Thai restaurant percentages were, does the graph seem reasonable? Talk to a friend or ask a TA if you are unsure!"
   ]
  },
  {
   "cell_type": "code",
   "execution_count": 15,
   "metadata": {},
   "outputs": [
    {
     "data": {
      "image/png": "[encoded data removed]",
      "text/plain": [
       "<Figure size 600x400 with 1 Axes>"
      ]
     },
     "metadata": {},
     "output_type": "display_data"
    }
   ],
   "source": [
    "resampled_percentages = percentages_in_resamples()\n",
    "Table().with_column('Estimated Percentage', resampled_percentages).hist(\"Estimated Percentage\")"
   ]
  },
  {
   "cell_type": "markdown",
   "metadata": {},
   "source": [
    "Now that we have our bootstrapped distribution, we only need to find our desired percentiles to create a confidence interval. "
   ]
  },
  {
   "cell_type": "markdown",
   "metadata": {
    "deletable": false,
    "editable": false
   },
   "source": [
    "**Question 3.** Using the array `resampled_percentages`, find the values at the two edges of the middle 95% of the bootstrapped percentage estimates. (Compute the lower and upper ends of the interval, named `drum_lower_bound` and `drum_upper_bound`, respectively.)\n",
    "\n",
    "*Hint* If you're unsure how to do this, the book chapter on [percentiles](https://inferentialthinking.com/chapters/13/1/Percentiles.html) can help you out.\n",
    "\n",
    "<!--\n",
    "BEGIN QUESTION\n",
    "name: q1_3\n",
    "manual: false\n",
    "-->"
   ]
  },
  {
   "cell_type": "code",
   "execution_count": 16,
   "metadata": {},
   "outputs": [
    {
     "name": "stdout",
     "output_type": "stream",
     "text": [
      "Bootstrapped 95% confidence interval for the percentage of Drumrongthai voters in the population: [49.466667, 54.533333]\n"
     ]
    }
   ],
   "source": [
    "drum_lower_bound = percentile(2.5, resampled_percentages)\n",
    "drum_upper_bound = percentile(97.5, resampled_percentages)\n",
    "print(\"Bootstrapped 95% confidence interval for the percentage of Drumrongthai voters in the population: [{:f}, {:f}]\".format(drum_lower_bound, drum_upper_bound))"
   ]
  },
  {
   "cell_type": "code",
   "execution_count": 17,
   "metadata": {
    "deletable": false,
    "editable": false
   },
   "outputs": [
    {
     "data": {
      "text/html": [
       "<p><strong><pre style='display: inline;'>q1_3</pre></strong> passed! 🎉</p>"
      ],
      "text/plain": [
       "q1_3 results: All test cases passed!"
      ]
     },
     "execution_count": 17,
     "metadata": {},
     "output_type": "execute_result"
    }
   ],
   "source": [
    "grader.check(\"q1_3\")"
   ]
  },
  {
   "cell_type": "markdown",
   "metadata": {
    "deletable": false,
    "editable": false
   },
   "source": [
    "**Question 4.** The survey results seem to indicate that Drumrongthai is beating all the other Thai restaurants combined among voters. We would like to use confidence intervals to determine a range of likely values for Drumrongthai's true lead over all the other restaurants combined. The calculation for Drumrongthai's lead over Sweet Basil Express, Manola's Thai Cuisine, and Tasty Thai combined is:\n",
    "\n",
    "**Drumrongthai's % of the vote - (Sweet Basil Thai's % + Manola Thai Cuisine's % + Tasty Thai's %)**\n",
    "\n",
    "Define the function `one_resampled_difference` that returns **exactly one value** of Drumrongthai's percentage lead over Sweet Basil Express, Manola's Thai Cuisine, and Tasty Thai combined from one bootstrap sample of `tbl`.\n",
    "\n",
    "<!--\n",
    "BEGIN QUESTION\n",
    "name: q1_4\n",
    "manual: false\n",
    "-->"
   ]
  },
  {
   "cell_type": "code",
   "execution_count": 18,
   "metadata": {},
   "outputs": [],
   "source": [
    "def one_resampled_difference(tbl):\n",
    "    bootstrap = tbl.sample()\n",
    "    drum_percentage = np.count_nonzero(bootstrap.where('Vote', 'Drumrongthai').column('Vote'))/bootstrap.num_rows\n",
    "    sbe_percentage = np.count_nonzero(bootstrap.where('Vote', 'Sweet Basil␣Thai').column('Vote'))/bootstrap.num_rows\n",
    "    mtc_percentage = np.count_nonzero(bootstrap.where('Vote', 'Manola Thai␣Cuisine').column('Vote'))/bootstrap.num_rows\n",
    "    tt_percentage = np.count_nonzero(bootstrap.where('Vote', 'Tasty Thai').column('Vote'))/bootstrap.num_rows\n",
    "\n",
    "    return drum_percentage - (sbe_percentage + mtc_percentage + tt_percentage)"
   ]
  },
  {
   "cell_type": "code",
   "execution_count": 19,
   "metadata": {
    "deletable": false,
    "editable": false
   },
   "outputs": [
    {
     "data": {
      "text/html": [
       "<p><strong><pre style='display: inline;'>q1_4</pre></strong> passed! ✨</p>"
      ],
      "text/plain": [
       "q1_4 results: All test cases passed!"
      ]
     },
     "execution_count": 19,
     "metadata": {},
     "output_type": "execute_result"
    }
   ],
   "source": [
    "grader.check(\"q1_4\")"
   ]
  },
  {
   "cell_type": "markdown",
   "metadata": {
    "deletable": false,
    "editable": false
   },
   "source": [
    "**Question 5.**\n",
    "Write a function called `leads_in_resamples` that finds 2,500 bootstrapped estimates (the result of calling `one_resampled_difference`) of Drumrongthai's lead over Sweet Basil Express, Manola's Thai Cuisine, and Tasty Thai combined. Plot a histogram of the resulting samples. \n",
    "\n",
    "**Note:** Drumrongthai's lead can be negative.\n",
    "\n",
    "<!--\n",
    "BEGIN QUESTION\n",
    "name: q1_5\n",
    "manual: true\n",
    "-->\n",
    "<!-- EXPORT TO PDF -->"
   ]
  },
  {
   "cell_type": "code",
   "execution_count": 32,
   "metadata": {
    "export_pdf": true,
    "for_assignment_type": "solution"
   },
   "outputs": [
    {
     "data": {
      "image/png": "[encoded data removed]",
      "text/plain": [
       "<Figure size 600x400 with 1 Axes>"
      ]
     },
     "metadata": {},
     "output_type": "display_data"
    }
   ],
   "source": [
    "def leads_in_resamples():\n",
    "    leads = make_array()\n",
    "    for i in np.arange(2500):\n",
    "        bootstrap = votes.sample()\n",
    "    drum_percentage = np.count_nonzero(bootstrap.where('Vote', 'Drumrongthai').column('Vote'))/bootstrap.num_rows\n",
    "    sbe_percentage = np.count_nonzero(bootstrap.where('Vote', 'Sweet Basil␣Thai').column('Vote'))/bootstrap.num_rows\n",
    "    mtc_percentage = np.count_nonzero(bootstrap.where('Vote', 'Manola Thai␣Cuisine').column('Vote'))/bootstrap.num_rows\n",
    "    tt_percentage = np.count_nonzero(bootstrap.where('Vote', 'Tasty Thai').column('Vote'))/bootstrap.num_rows\n",
    "    diffs = drum_percentage - (sbe_percentage + mtc_percentage + tt_percentage)\n",
    "    leads = np.append(leads,diffs)\n",
    "    return leads\n",
    "\n",
    "sampled_leads = leads_in_resamples()\n",
    "Table().with_column('Estimated Lead', sampled_leads).hist(\"Estimated Lead\")"
   ]
  },
  {
   "cell_type": "markdown",
   "metadata": {
    "collapsed": true,
    "deletable": false,
    "editable": false,
    "for_assignment_type": "solution",
    "jupyter": {
     "outputs_hidden": true
    }
   },
   "source": [
    "**Question 6.** Use the simulated data from Question 5 to compute an approximate 95% confidence interval for Drumrongthai's true lead over Sweet Basil Express, Manola's Thai Cuisine, and Tasty Thai combined.\n",
    "\n",
    "<!--\n",
    "BEGIN QUESTION\n",
    "name: q1_6\n",
    "manual: false\n",
    "-->"
   ]
  },
  {
   "cell_type": "code",
   "execution_count": 39,
   "metadata": {},
   "outputs": [
    {
     "name": "stdout",
     "output_type": "stream",
     "text": [
      "Bootstrapped 95% confidence interval for Drumrongthai's true lead over Sweet Basil Express, Manola's Thai Cuisine, and Tasty Thai combined: [0.400667, 0.400667]\n"
     ]
    }
   ],
   "source": [
    "diff_lower_bound = percentile(2.5, sampled_leads)\n",
    "diff_upper_bound = percentile(97.5, sampled_leads)\n",
    "print(\"Bootstrapped 95% confidence interval for Drumrongthai's true lead over Sweet Basil Express, Manola's Thai Cuisine, and Tasty Thai combined: [{:f}, {:f}]\".format(diff_lower_bound, diff_upper_bound))"
   ]
  },
  {
   "cell_type": "code",
   "execution_count": 40,
   "metadata": {
    "deletable": false,
    "editable": false
   },
   "outputs": [
    {
     "data": {
      "text/html": [
       "<p><strong><pre style='display: inline;'>q1_6</pre></strong> passed! 🙌</p>"
      ],
      "text/plain": [
       "q1_6 results: All test cases passed!"
      ]
     },
     "execution_count": 40,
     "metadata": {},
     "output_type": "execute_result"
    }
   ],
   "source": [
    "grader.check(\"q1_6\")"
   ]
  },
  {
   "cell_type": "markdown",
   "metadata": {},
   "source": [
    "## 2. Interpreting Confidence Intervals\n"
   ]
  },
  {
   "cell_type": "markdown",
   "metadata": {},
   "source": [
    "The staff computed the following 95% confidence interval for the percentage of Drumrongthai voters: \n",
    "\n",
    "$$[49.40, 54.47]$$\n",
    "\n",
    "(Your answer may have been a bit different; that doesn't mean it was wrong!)"
   ]
  },
  {
   "cell_type": "markdown",
   "metadata": {},
   "source": [
    "#### Question 1\n",
    "Can we say there is a 95% probability that the interval [49.40, 54.47] contains the true percentage of the population that votes for Drumrongthai as the best Eugene Thai restaurant? Assign `confidence95` to the answer you believe is correct.\n",
    "\n",
    "\n",
    "<!--\n",
    "BEGIN QUESTION\n",
    "name: q2_1\n",
    "manual: true\n",
    "-->\n",
    "<!-- EXPORT TO PDF -->"
   ]
  },
  {
   "cell_type": "markdown",
   "metadata": {
    "export_pdf": true,
    "manual_problem_id": "interpreting_2"
   },
   "source": [
    "1. No, we can only say that we're 95% confident our interval contains the true percentage of the sample.  \n",
    "2. Yes, we can say that we're 95% confident our interval contains the true percentage of the population. \n",
    "3. No, we need a 100% confidence interval to say this. \n",
    "4. Yes, if we bootstrap enough times, we can converge on the true population value irrespective of confidence interval. "
   ]
  },
  {
   "cell_type": "code",
   "execution_count": 41,
   "metadata": {},
   "outputs": [],
   "source": [
    "confidence95 = 2"
   ]
  },
  {
   "cell_type": "code",
   "execution_count": 42,
   "metadata": {},
   "outputs": [
    {
     "data": {
      "text/html": [
       "<p><strong><pre style='display: inline;'>q2_1</pre></strong> passed! 🌈</p>"
      ],
      "text/plain": [
       "q2_1 results: All test cases passed!"
      ]
     },
     "execution_count": 42,
     "metadata": {},
     "output_type": "execute_result"
    }
   ],
   "source": [
    "grader.check(\"q2_1\")"
   ]
  },
  {
   "cell_type": "markdown",
   "metadata": {},
   "source": [
    "**Question 2**\n",
    "\n",
    "The staff also created 70%, 90%, and 99% confidence intervals from the same sample, but we forgot to label which confidence interval represented which percentages! Match each confidence level (70%, 90%, 99%) with its corresponding interval in the cell below by assiging `interval_ranges` to an array with 70, 90, and 99 in the correct order.\n",
    "\n",
    "The intervals are below:\n",
    "\n",
    "* [49.87, 54.00]\n",
    "* [50.67, 53.27]\n",
    "* [48.80, 55.40]\n",
    "\n",
    "<!--\n",
    "BEGIN QUESTION\n",
    "name: q2_2\n",
    "manual: true\n",
    "-->\n",
    "<!-- EXPORT TO PDF -->"
   ]
  },
  {
   "cell_type": "code",
   "execution_count": 43,
   "metadata": {},
   "outputs": [],
   "source": [
    "interval_ranges = make_array(90, 70, 99)"
   ]
  },
  {
   "cell_type": "code",
   "execution_count": 44,
   "metadata": {},
   "outputs": [
    {
     "data": {
      "text/html": [
       "<p><strong><pre style='display: inline;'>q2_2</pre></strong> passed! 🎉</p>"
      ],
      "text/plain": [
       "q2_2 results: All test cases passed!"
      ]
     },
     "execution_count": 44,
     "metadata": {},
     "output_type": "execute_result"
    }
   ],
   "source": [
    "grader.check(\"q2_2\")"
   ]
  },
  {
   "cell_type": "markdown",
   "metadata": {
    "deletable": false,
    "editable": false
   },
   "source": [
    "#### Question 3\n",
    "Suppose we produced 5,000 new samples (each one a uniform random sample of 1,500 voters/students) from the population and created a 95% confidence interval from each one. Roughly how many of those 5,000 intervals do you expect will actually contain the true percentage of the population?\n",
    "\n",
    "Assign your answer to `true_percentage_intervals`.\n",
    "\n",
    "<!--\n",
    "BEGIN QUESTION\n",
    "name: q2_3\n",
    "manual: false\n",
    "-->"
   ]
  },
  {
   "cell_type": "code",
   "execution_count": 45,
   "metadata": {},
   "outputs": [],
   "source": [
    "true_percentage_intervals = 4750"
   ]
  },
  {
   "cell_type": "code",
   "execution_count": 46,
   "metadata": {
    "deletable": false,
    "editable": false
   },
   "outputs": [
    {
     "data": {
      "text/html": [
       "<p><strong><pre style='display: inline;'>q2_3</pre></strong> passed! 🌟</p>"
      ],
      "text/plain": [
       "q2_3 results: All test cases passed!"
      ]
     },
     "execution_count": 46,
     "metadata": {},
     "output_type": "execute_result"
    }
   ],
   "source": [
    "grader.check(\"q2_3\")"
   ]
  },
  {
   "cell_type": "markdown",
   "metadata": {
    "deletable": false,
    "editable": false
   },
   "source": [
    "Recall the second bootstrap confidence interval you created, which estimated Drumrongthai's lead over Sweet Basil Express, Manola's Thai Cuisine, and Tasty Thai combined. Among\n",
    "voters in the sample, Drumrongthai's lead was 4%. The staff's 95% confidence interval for the true lead (in the population of all voters) was\n",
    "\n",
    "$$[-0.80, 8.80]$$\n",
    "\n",
    "Suppose we are interested in testing a simple yes-or-no question:\n",
    "\n",
    "> \"Is the percentage of votes for Drumrongthai tied with the percentage of votes for Sweet Basil Express, Manola's Thai Cuisine, and Tasty Thai combined?\"\n",
    "\n",
    "Our null hypothesis is that the percentages are equal, or equivalently, that Drumrongthai's lead is exactly 0. Our alternative hypothesis is that Drumrongthai's lead is not equal to 0.  In the questions below, don't compute any confidence interval yourself - use only the staff's 95% confidence interval.\n",
    "\n",
    "\n",
    "**Question 4** \n",
    "\n",
    "Say we use a 5% P-value cutoff.  Do we reject the null, fail to reject the null, or are we unable to tell using our staff confidence interval?\n",
    "\n",
    "Assign `restaurants_tied` to the number corresponding to the correct answer.\n",
    "\n",
    "1. Reject the null / Data is consistent with the alternative hypothesis\n",
    "2. Fail to reject the null / Data is consistent with the null hypothesis\n",
    "3. Unable to tell using our staff confidence interval\n",
    "\n",
    "*Hint:* If you're confused, take a look at [this chapter](https://www.inferentialthinking.com/chapters/13/4/Using_Confidence_Intervals.html) of the textbook.\n",
    "\n",
    "<!--\n",
    "BEGIN QUESTION\n",
    "name: q2_4\n",
    "manual: false\n",
    "-->"
   ]
  },
  {
   "cell_type": "code",
   "execution_count": 47,
   "metadata": {},
   "outputs": [],
   "source": [
    "restaurants_tied = 2"
   ]
  },
  {
   "cell_type": "code",
   "execution_count": 48,
   "metadata": {
    "deletable": false,
    "editable": false
   },
   "outputs": [
    {
     "data": {
      "text/html": [
       "<p><strong><pre style='display: inline;'>q2_4</pre></strong> passed! 🙌</p>"
      ],
      "text/plain": [
       "q2_4 results: All test cases passed!"
      ]
     },
     "execution_count": 48,
     "metadata": {},
     "output_type": "execute_result"
    }
   ],
   "source": [
    "grader.check(\"q2_4\")"
   ]
  },
  {
   "cell_type": "markdown",
   "metadata": {
    "deletable": false,
    "editable": false
   },
   "source": [
    "#### Question 5\n",
    "What if, instead, we use a P-value cutoff of 1%? Do we reject the null, fail to reject the null, or are we unable to tell using our staff confidence interval?\n",
    "\n",
    "Assign `cutoff_one_percent` to the number corresponding to the correct answer.\n",
    "\n",
    "1. Reject the null / Data is consistent with the alternative hypothesis\n",
    "2. Fail to reject the null / Data is consistent with the null hypothesis\n",
    "3. Unable to tell using our staff confidence interval\n",
    "\n",
    "<!--\n",
    "BEGIN QUESTION\n",
    "name: q2_5\n",
    "manual: false\n",
    "-->"
   ]
  },
  {
   "cell_type": "code",
   "execution_count": 49,
   "metadata": {},
   "outputs": [],
   "source": [
    "cutoff_one_percent = 2"
   ]
  },
  {
   "cell_type": "code",
   "execution_count": 50,
   "metadata": {
    "deletable": false,
    "editable": false
   },
   "outputs": [
    {
     "data": {
      "text/html": [
       "<p><strong><pre style='display: inline;'>q2_5</pre></strong> passed! ✨</p>"
      ],
      "text/plain": [
       "q2_5 results: All test cases passed!"
      ]
     },
     "execution_count": 50,
     "metadata": {},
     "output_type": "execute_result"
    }
   ],
   "source": [
    "grader.check(\"q2_5\")"
   ]
  },
  {
   "cell_type": "markdown",
   "metadata": {
    "deletable": false,
    "editable": false
   },
   "source": [
    "#### Question 6\n",
    "What if we use a P-value cutoff of 10%? Do we reject, fail to reject, or are we unable to tell using our confidence interval?\n",
    "\n",
    "Assign `cutoff_ten_percent` to the number corresponding to the correct answer.\n",
    "\n",
    "1. Reject the null / Data is consistent with the alternative hypothesis\n",
    "2. Fail to reject the null / Data is consistent with the null hypothesis\n",
    "3. Unable to tell using our staff confidence interval\n",
    "\n",
    "<!--\n",
    "BEGIN QUESTION\n",
    "name: q2_6\n",
    "manual: false\n",
    "-->"
   ]
  },
  {
   "cell_type": "code",
   "execution_count": 57,
   "metadata": {},
   "outputs": [],
   "source": [
    "cutoff_ten_percent = 3"
   ]
  },
  {
   "cell_type": "code",
   "execution_count": 58,
   "metadata": {
    "deletable": false,
    "editable": false
   },
   "outputs": [
    {
     "data": {
      "text/html": [
       "<p><strong><pre style='display: inline;'>q2_6</pre></strong> passed! 💯</p>"
      ],
      "text/plain": [
       "q2_6 results: All test cases passed!"
      ]
     },
     "execution_count": 58,
     "metadata": {},
     "output_type": "execute_result"
    }
   ],
   "source": [
    "grader.check(\"q2_6\")"
   ]
  },
  {
   "cell_type": "markdown",
   "metadata": {},
   "source": [
    "## 3. Mean and Standard Deviation of a Distribution"
   ]
  },
  {
   "cell_type": "markdown",
   "metadata": {},
   "source": [
    "Finally, we'll wrap up with some general properties of distributions. Below is the distribution we created from our bootstrapped estimates Drumrongthai's preference among UO students. "
   ]
  },
  {
   "cell_type": "code",
   "execution_count": 59,
   "metadata": {},
   "outputs": [
    {
     "data": {
      "image/png": "[encoded data removed]",
      "text/plain": [
       "<Figure size 600x400 with 1 Axes>"
      ]
     },
     "metadata": {},
     "output_type": "display_data"
    }
   ],
   "source": [
    "Table().with_column('Estimated Percentage', resampled_percentages).hist(\"Estimated Percentage\")"
   ]
  },
  {
   "cell_type": "markdown",
   "metadata": {},
   "source": [
    "This distribution is collated from the 2500 estimated percentages generated from `percentage_in_resamples()`. Every time we run our bootstrap routine, the distribution will look slightly different (due to randomness in the resampling process). However, two of its most important features remain consistent: the peak is always very near 52%, and most observations lie between 50 and 54%. In other words, consistent **central tendency** and **spread**. "
   ]
  },
  {
   "cell_type": "markdown",
   "metadata": {},
   "source": [
    "**Central tendency** is a measure of the \"middle\" of our data. It is typically measured in two ways:\n",
    "\n",
    "1. The **mean**, also known as the average of our data\n",
    "2. The **median**, also known as the 50th percentile of our data "
   ]
  },
  {
   "cell_type": "markdown",
   "metadata": {},
   "source": [
    "**Spread** is a measure of variability around the \"middle\" of our data. It is typically measured in two ways:\n",
    "\n",
    "1. The **variance**, or the sum of the squared differences between each point of data and the mean of those data\n",
    "2. More commonly, the **standard deviation**, which is just the square root of the variance. This gives us a measure of spread on the same scale as our data\n",
    "\n",
    "How do these metrics translate to our distribution?"
   ]
  },
  {
   "cell_type": "code",
   "execution_count": 60,
   "metadata": {},
   "outputs": [
    {
     "data": {
      "image/png": "[encoded data removed]",
      "text/plain": [
       "<Figure size 600x400 with 1 Axes>"
      ]
     },
     "metadata": {},
     "output_type": "display_data"
    }
   ],
   "source": [
    "# Calculate the mean and standard deviation on our bootstrapped data\n",
    "perc_mean = resampled_percentages.mean()\n",
    "perc_sd = resampled_percentages.std()\n",
    "\n",
    "# Plot a histogram \n",
    "Table().with_column('Estimated Percentage', resampled_percentages).hist(\"Estimated Percentage\", alpha = 0.5)\n",
    "\n",
    "# Add points for the mean (red) and two standard deviations in either direction from the mean (blue)\n",
    "plt.scatter((perc_mean), 0, color='red', s=300);\n",
    "plt.scatter(perc_mean+perc_sd*2, 0, marker='^', color='blue', s=500);\n",
    "plt.scatter(perc_mean-perc_sd*2, 0, marker='^', color='blue', s=500);"
   ]
  },
  {
   "cell_type": "markdown",
   "metadata": {},
   "source": [
    "The mean (red dot) is exactly where we expect it given the peak of our distributions. In symmetric distributions, the mean will be an effective representation of central tendency in our data. \n",
    "\n",
    "How do we interpret two standard deviations (blue triangles) in our data? Lets make the same plot again, but with our 95% CI upper and lower bounds in green. "
   ]
  },
  {
   "cell_type": "code",
   "execution_count": 61,
   "metadata": {},
   "outputs": [
    {
     "data": {
      "image/png": "[encoded data removed]",
      "text/plain": [
       "<Figure size 600x400 with 1 Axes>"
      ]
     },
     "metadata": {},
     "output_type": "display_data"
    }
   ],
   "source": [
    "# Plot a histogram \n",
    "Table().with_column('Estimated Percentage', resampled_percentages).hist(\"Estimated Percentage\", alpha = 0.5)\n",
    "\n",
    "# Add points for the mean (red) and two standard deviations in either direction from the mean (blue)\n",
    "plt.scatter((perc_mean), 0, color='red', s=300);\n",
    "plt.scatter(perc_mean+perc_sd*2, 0, marker='^', color='blue', s=500);\n",
    "plt.scatter(perc_mean-perc_sd*2, 0, marker='^', color='blue', s=500);\n",
    "plt.scatter(drum_lower_bound, 0, marker='^', color='lightgreen', s=500);\n",
    "plt.scatter(drum_upper_bound, 0, marker='^', color='lightgreen', s=500);"
   ]
  },
  {
   "cell_type": "markdown",
   "metadata": {},
   "source": [
    "What does this mean? In a symmetric distribution like the one above, the 95% confidence interval will correspond to approximately 2 standard deviations from the mean in both directions. Thus, the mean approximates the center of our confidence intervals and the standard deviation corresponds closely to the size of its confidence interval as an estimate."
   ]
  },
  {
   "cell_type": "markdown",
   "metadata": {},
   "source": [
    "#### Asymmetric distributions\n",
    "\n",
    "We have calculated the mean many times in this course, but are there ever situations where we would want a different measure of central tendency?"
   ]
  },
  {
   "cell_type": "code",
   "execution_count": 62,
   "metadata": {},
   "outputs": [],
   "source": [
    "## Just run this cell\n",
    "forest = Table.read_table('forest.csv').relabeled(\"perc_forest\", \"Percent of Land Forested\")"
   ]
  },
  {
   "cell_type": "markdown",
   "metadata": {},
   "source": [
    "The data loaded represents the percent of land forested in every country. Below is a histogram of these data, with the mean (blue) and median (green) plotted."
   ]
  },
  {
   "cell_type": "code",
   "execution_count": 63,
   "metadata": {},
   "outputs": [
    {
     "data": {
      "image/png": "[encoded data removed]",
      "text/plain": [
       "<Figure size 600x400 with 1 Axes>"
      ]
     },
     "metadata": {},
     "output_type": "display_data"
    }
   ],
   "source": [
    "forest_mean = forest.column(\"Percent of Land Forested\").mean()\n",
    "forest_median = np.median(forest.column(\"Percent of Land Forested\"))\n",
    "\n",
    "forest.hist(\"Percent of Land Forested\")\n",
    "plt.scatter(forest_mean, 0, marker='^', color='blue', s=500);\n",
    "plt.scatter(forest_median, 0, marker='^', color='lightgreen', s=500);"
   ]
  },
  {
   "cell_type": "markdown",
   "metadata": {},
   "source": [
    "#### Question 1\n",
    "In this case, the mean is slightly larger than the median. What accounts for this difference? Assign your answer to `mean_vs_median` below. \n",
    "\n",
    "1. High variance in the in the distribution\n",
    "2. The distribution has two peaks, one in the middle and one around 0% land forested\n",
    "3. A skew in the distribution to the right\n",
    "\n",
    "<!--\n",
    "BEGIN QUESTION\n",
    "name: q3_1\n",
    "manual: false\n",
    "-->"
   ]
  },
  {
   "cell_type": "code",
   "execution_count": 64,
   "metadata": {},
   "outputs": [],
   "source": [
    "mean_vs_median = 3"
   ]
  },
  {
   "cell_type": "code",
   "execution_count": 65,
   "metadata": {},
   "outputs": [
    {
     "data": {
      "text/html": [
       "<p><strong><pre style='display: inline;'>q3_1</pre></strong> passed! 🎉</p>"
      ],
      "text/plain": [
       "q3_1 results: All test cases passed!"
      ]
     },
     "execution_count": 65,
     "metadata": {},
     "output_type": "execute_result"
    }
   ],
   "source": [
    "grader.check(\"q3_1\")"
   ]
  },
  {
   "cell_type": "markdown",
   "metadata": {},
   "source": [
    "#### Question 2\n",
    "Countries can apparently vary quite a bit in the percent of their land forested! How many standard deviations from the mean is the country with the highest percent of forested land?\n",
    "\n",
    "<!--\n",
    "BEGIN QUESTION\n",
    "name: q3_2\n",
    "manual: false\n",
    "-->\n"
   ]
  },
  {
   "cell_type": "code",
   "execution_count": 66,
   "metadata": {},
   "outputs": [],
   "source": [
    "deviations = 2.4"
   ]
  },
  {
   "cell_type": "code",
   "execution_count": 67,
   "metadata": {},
   "outputs": [
    {
     "data": {
      "text/html": [
       "<p><strong><pre style='display: inline;'>q3_2</pre></strong> passed! ✨</p>"
      ],
      "text/plain": [
       "q3_2 results: All test cases passed!"
      ]
     },
     "execution_count": 67,
     "metadata": {},
     "output_type": "execute_result"
    }
   ],
   "source": [
    "grader.check(\"q3_2\")"
   ]
  },
  {
   "cell_type": "markdown",
   "metadata": {},
   "source": [
    "#### Question 3\n",
    "Is the largest deviation from the mean calculated above a fair representation of spread in these data? Why or why not? Assign your answer to `appropriate_sd` below. \n",
    "\n",
    "1. Yes, because the variance is approximately equal on each side of the mean\n",
    "2. No, because the variance is unequal between each side of the mean\n",
    "3. No, because the bins associated with the most forested countries have few observations\n",
    "\n",
    "<!--\n",
    "BEGIN QUESTION\n",
    "name: q3_3\n",
    "manual: false\n",
    "-->"
   ]
  },
  {
   "cell_type": "code",
   "execution_count": 68,
   "metadata": {},
   "outputs": [],
   "source": [
    "appropriate_sd = 2"
   ]
  },
  {
   "cell_type": "code",
   "execution_count": 69,
   "metadata": {},
   "outputs": [
    {
     "data": {
      "text/html": [
       "<p><strong><pre style='display: inline;'>q3_3</pre></strong> passed! ✨</p>"
      ],
      "text/plain": [
       "q3_3 results: All test cases passed!"
      ]
     },
     "execution_count": 69,
     "metadata": {},
     "output_type": "execute_result"
    }
   ],
   "source": [
    "grader.check(\"q3_3\")"
   ]
  },
  {
   "cell_type": "markdown",
   "metadata": {},
   "source": [
    "In this lab, we covered some more advanced methods for parameter estimation and hypothesis testing, and we dipped our toes into some of the most fundamental concepts in the description of data: center and spread. Well done! That's it! You've completed Lab 8. We covered a lot of ground in this lab, and there were a lot of points at which you should've stopped and understood exactly what was going on. Consult the textbook or ask your TA if you have any other questions!"
   ]
  },
  {
   "cell_type": "markdown",
   "metadata": {},
   "source": [
    "Be sure to run the tests and verify that they all pass, then **Save** your changes, then **Download** your file to your host machine (if you are using jupyterhub), then submit your file to the HW7 assignment in **Canvas** by 11:59pm on the due date."
   ]
  },
  {
   "cell_type": "code",
   "execution_count": null,
   "metadata": {},
   "outputs": [],
   "source": []
  }
 ],
 "metadata": {
  "kernelspec": {
   "display_name": "Python 3 (ipykernel)",
   "language": "python",
   "name": "python3"
  },
  "language_info": {
   "codemirror_mode": {
    "name": "ipython",
    "version": 3
   },
   "file_extension": ".py",
   "mimetype": "text/x-python",
   "name": "python",
   "nbconvert_exporter": "python",
   "pygments_lexer": "ipython3",
   "version": "3.10.11"
  }
 },
 "nbformat": 4,
 "nbformat_minor": 4
}
