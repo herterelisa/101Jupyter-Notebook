{
 "cells": [
  {
   "cell_type": "code",
   "execution_count": null,
   "metadata": {
    "deletable": false
   },
   "outputs": [],
   "source": []
  },
  {
   "cell_type": "markdown",
   "metadata": {},
   "source": [
    "# Homework 5: Applying Functions and Iteration"
   ]
  },
  {
   "cell_type": "markdown",
   "metadata": {},
   "source": [
    "Please complete this notebook by filling in the cells provided. Before you begin, execute the following cell to load the provided tests. Each time you start your server, you will need to execute this cell again to load the tests.\n",
    "\n",
    "This assignment is due by **11:59pm on the due date listed in Canvas**. Late work will not be accepted as per the course policies. \n",
    "\n",
    "**Throughout this homework and all future ones, please be sure to not re-assign variables throughout the notebook! For example, if you use `max_temperature` in your answer to one question, do not reassign it later on. Moreover, please be sure to only put your written answers in the provided cells.**"
   ]
  },
  {
   "cell_type": "code",
   "execution_count": 1,
   "metadata": {},
   "outputs": [
    {
     "data": {
      "text/plain": [
       "'imports completed'"
      ]
     },
     "execution_count": 1,
     "metadata": {},
     "output_type": "execute_result"
    }
   ],
   "source": [
    "# Don't change this cell; just run it. \n",
    "\n",
    "import numpy as np\n",
    "from datascience import *\n",
    "\n",
    "# These lines do some fancy plotting magic.\n",
    "import matplotlib\n",
    "%matplotlib inline\n",
    "import matplotlib.pyplot as plt\n",
    "plt.style.use('fivethirtyeight')\n",
    "import warnings\n",
    "warnings.simplefilter('ignore', FutureWarning)\n",
    "warnings.simplefilter('ignore', UserWarning)\n",
    "\n",
    "import otter\n",
    "grader = otter.Notebook()\n",
    "'imports completed'"
   ]
  },
  {
   "cell_type": "markdown",
   "metadata": {},
   "source": [
    "## 1. 2019 Oregon Football Season\n"
   ]
  },
  {
   "cell_type": "markdown",
   "metadata": {},
   "source": [
    "Mario Cristobal is trying to analyze how well the Oregon football team performed in the 2019 season. A football game is divided into four periods, called quarters. The number of points Oregon scored in each quarter, and the number of points their opponent scored in each quarter are stored in a table called `ducks_fb.csv`."
   ]
  },
  {
   "cell_type": "code",
   "execution_count": 2,
   "metadata": {
    "deletable": false
   },
   "outputs": [
    {
     "data": {
      "text/html": [
       "<table border=\"1\" class=\"dataframe\">\n",
       "    <thead>\n",
       "        <tr>\n",
       "            <th>Opponent</th> <th>Oregon 1Q</th> <th>Oregon 2Q</th> <th>Oregon 3Q</th> <th>Oregon 4Q</th> <th>Opp 1Q</th> <th>Opp 2Q</th> <th>Opp 3Q</th> <th>Opp 4Q</th>\n",
       "        </tr>\n",
       "    </thead>\n",
       "    <tbody>\n",
       "        <tr>\n",
       "            <td>Auburn          </td> <td>14       </td> <td>0        </td> <td>7        </td> <td>0        </td> <td>3     </td> <td>3     </td> <td>7     </td> <td>14    </td>\n",
       "        </tr>\n",
       "        <tr>\n",
       "            <td>Nevada          </td> <td>7        </td> <td>28       </td> <td>28       </td> <td>14       </td> <td>3     </td> <td>3     </td> <td>0     </td> <td>0     </td>\n",
       "        </tr>\n",
       "        <tr>\n",
       "            <td>Montana         </td> <td>14       </td> <td>7        </td> <td>7        </td> <td>7        </td> <td>0     </td> <td>0     </td> <td>3     </td> <td>0     </td>\n",
       "        </tr>\n",
       "        <tr>\n",
       "            <td>Stanford        </td> <td>7        </td> <td>7        </td> <td>0        </td> <td>7        </td> <td>3     </td> <td>0     </td> <td>0     </td> <td>3     </td>\n",
       "        </tr>\n",
       "        <tr>\n",
       "            <td>Cal             </td> <td>0        </td> <td>0        </td> <td>10       </td> <td>7        </td> <td>7     </td> <td>0     </td> <td>0     </td> <td>0     </td>\n",
       "        </tr>\n",
       "        <tr>\n",
       "            <td>Colorado        </td> <td>7        </td> <td>17       </td> <td>14       </td> <td>7        </td> <td>3     </td> <td>0     </td> <td>0     </td> <td>0     </td>\n",
       "        </tr>\n",
       "        <tr>\n",
       "            <td>Washington      </td> <td>7        </td> <td>7        </td> <td>14       </td> <td>7        </td> <td>7     </td> <td>14    </td> <td>10    </td> <td>0     </td>\n",
       "        </tr>\n",
       "        <tr>\n",
       "            <td>Washington State</td> <td>9        </td> <td>8        </td> <td>7        </td> <td>13       </td> <td>3     </td> <td>14    </td> <td>3     </td> <td>15    </td>\n",
       "        </tr>\n",
       "        <tr>\n",
       "            <td>USC             </td> <td>0        </td> <td>28       </td> <td>14       </td> <td>14       </td> <td>10    </td> <td>7     </td> <td>0     </td> <td>7     </td>\n",
       "        </tr>\n",
       "        <tr>\n",
       "            <td>Arizona         </td> <td>14       </td> <td>7        </td> <td>7        </td> <td>6        </td> <td>0     </td> <td>6     </td> <td>0     </td> <td>0     </td>\n",
       "        </tr>\n",
       "        <tr>\n",
       "            <td>Arizona State   </td> <td>7        </td> <td>0        </td> <td>0        </td> <td>21       </td> <td>7     </td> <td>3     </td> <td>3     </td> <td>18    </td>\n",
       "        </tr>\n",
       "        <tr>\n",
       "            <td>Oregon State    </td> <td>10       </td> <td>7        </td> <td>0        </td> <td>7        </td> <td>3     </td> <td>0     </td> <td>0     </td> <td>7     </td>\n",
       "        </tr>\n",
       "        <tr>\n",
       "            <td>Utah            </td> <td>10       </td> <td>10       </td> <td>3        </td> <td>14       </td> <td>0     </td> <td>0     </td> <td>15    </td> <td>0     </td>\n",
       "        </tr>\n",
       "        <tr>\n",
       "            <td>Wisconsin       </td> <td>7        </td> <td>7        </td> <td>7        </td> <td>7        </td> <td>10    </td> <td>7     </td> <td>7     </td> <td>3     </td>\n",
       "        </tr>\n",
       "    </tbody>\n",
       "</table>"
      ],
      "text/plain": [
       "<IPython.core.display.HTML object>"
      ]
     },
     "metadata": {},
     "output_type": "display_data"
    }
   ],
   "source": [
    "# Just run this cell\n",
    "# Read in the ducks_fb csv file\n",
    "games = Table().read_table(\"ducks_fb.csv\")\n",
    "games.show()"
   ]
  },
  {
   "cell_type": "markdown",
   "metadata": {
    "deletable": false
   },
   "source": [
    "Let's start by finding the total points each team scored in a game.\n",
    "\n",
    "**Question 1.** Write a function called `sum_scores`.  It should take four arguments, where each argument is the team's score for that quarter. It should return the team's total score for that game.\n",
    "\n",
    "\n",
    "<!--\n",
    "BEGIN QUESTION\n",
    "name: q1_1\n",
    "manual: false\n",
    "-->"
   ]
  },
  {
   "cell_type": "code",
   "execution_count": 70,
   "metadata": {},
   "outputs": [
    {
     "data": {
      "text/plain": [
       "24"
      ]
     },
     "execution_count": 70,
     "metadata": {},
     "output_type": "execute_result"
    }
   ],
   "source": [
    "def sum_scores(Q1, Q2, Q3, Q4):\n",
    "    '''Returns the total score calculated by adding up the score of each quarter'''\n",
    "    return Q1+Q2+Q3+Q4\n",
    "\n",
    "sum_scores(14, 7, 3, 0) #DO NOT CHANGE THIS LINE"
   ]
  },
  {
   "cell_type": "code",
   "execution_count": 71,
   "metadata": {},
   "outputs": [],
   "source": [
    "#TESTS"
   ]
  },
  {
   "cell_type": "code",
   "execution_count": 72,
   "metadata": {},
   "outputs": [
    {
     "data": {
      "text/plain": [
       "True"
      ]
     },
     "execution_count": 72,
     "metadata": {},
     "output_type": "execute_result"
    }
   ],
   "source": [
    "sum_scores(2, 3, 6, 1) == 12"
   ]
  },
  {
   "cell_type": "code",
   "execution_count": 73,
   "metadata": {},
   "outputs": [
    {
     "data": {
      "text/plain": [
       "True"
      ]
     },
     "execution_count": 73,
     "metadata": {},
     "output_type": "execute_result"
    }
   ],
   "source": [
    "sum_scores(-2,3,5,-10) == -4"
   ]
  },
  {
   "cell_type": "code",
   "execution_count": 74,
   "metadata": {
    "deletable": false
   },
   "outputs": [
    {
     "data": {
      "text/html": [
       "<p><strong><pre style='display: inline;'>q1_1</pre></strong> passed! 🙌</p>"
      ],
      "text/plain": [
       "q1_1 results: All test cases passed!"
      ]
     },
     "execution_count": 74,
     "metadata": {},
     "output_type": "execute_result"
    }
   ],
   "source": [
    "grader.check(\"q1_1\")"
   ]
  },
  {
   "cell_type": "markdown",
   "metadata": {
    "deletable": false
   },
   "source": [
    "**Question 2.** Create a new table `final_scores` with three columns in this *specific* order: `Opponent`, `Oregon Score`, `Opponent Score`. You will have to create the `Oregon Score` and `Opponent Score` columns. Use the function `sum_scores` you just defined in the previous question for this problem.\n",
    "\n",
    "*Hint:* If you want to apply a function that takes in multiple arguments, you can pass multiple column names as arguments in `tbl.apply()`. The column values will be passed into the corresponding arguments of the function. Take a look at the python reference for syntax.\n",
    "\n",
    "*Tip:* If you’re running into issues creating final_scores, check that `oregon_scores` and `opponent_scores` output what you want. \n",
    "\n",
    "\n",
    "<!--\n",
    "BEGIN QUESTION\n",
    "name: q1_2\n",
    "manual: false\n",
    "-->"
   ]
  },
  {
   "cell_type": "code",
   "execution_count": 75,
   "metadata": {},
   "outputs": [
    {
     "data": {
      "text/html": [
       "<table border=\"1\" class=\"dataframe\">\n",
       "    <thead>\n",
       "        <tr>\n",
       "            <th>Opponent</th> <th>Oregon Score</th> <th>Opponent Score</th>\n",
       "        </tr>\n",
       "    </thead>\n",
       "    <tbody>\n",
       "        <tr>\n",
       "            <td>Auburn          </td> <td>21          </td> <td>27            </td>\n",
       "        </tr>\n",
       "        <tr>\n",
       "            <td>Nevada          </td> <td>77          </td> <td>6             </td>\n",
       "        </tr>\n",
       "        <tr>\n",
       "            <td>Montana         </td> <td>35          </td> <td>3             </td>\n",
       "        </tr>\n",
       "        <tr>\n",
       "            <td>Stanford        </td> <td>21          </td> <td>6             </td>\n",
       "        </tr>\n",
       "        <tr>\n",
       "            <td>Cal             </td> <td>17          </td> <td>7             </td>\n",
       "        </tr>\n",
       "        <tr>\n",
       "            <td>Colorado        </td> <td>45          </td> <td>3             </td>\n",
       "        </tr>\n",
       "        <tr>\n",
       "            <td>Washington      </td> <td>35          </td> <td>31            </td>\n",
       "        </tr>\n",
       "        <tr>\n",
       "            <td>Washington State</td> <td>37          </td> <td>35            </td>\n",
       "        </tr>\n",
       "        <tr>\n",
       "            <td>USC             </td> <td>56          </td> <td>24            </td>\n",
       "        </tr>\n",
       "        <tr>\n",
       "            <td>Arizona         </td> <td>34          </td> <td>6             </td>\n",
       "        </tr>\n",
       "    </tbody>\n",
       "</table>\n",
       "<p>... (4 rows omitted)</p>"
      ],
      "text/plain": [
       "Opponent         | Oregon Score | Opponent Score\n",
       "Auburn           | 21           | 27\n",
       "Nevada           | 77           | 6\n",
       "Montana          | 35           | 3\n",
       "Stanford         | 21           | 6\n",
       "Cal              | 17           | 7\n",
       "Colorado         | 45           | 3\n",
       "Washington       | 35           | 31\n",
       "Washington State | 37           | 35\n",
       "USC              | 56           | 24\n",
       "Arizona          | 34           | 6\n",
       "... (4 rows omitted)"
      ]
     },
     "execution_count": 75,
     "metadata": {},
     "output_type": "execute_result"
    }
   ],
   "source": [
    "oregon_scores = games.apply(sum_scores,1,2,3,4)\n",
    "opponent_scores = games.apply(sum_scores,5,6,7,8)\n",
    "final_scores = games.select('Opponent').with_columns('Oregon Score', oregon_scores, 'Opponent Score', opponent_scores)\n",
    "final_scores"
   ]
  },
  {
   "cell_type": "code",
   "execution_count": 76,
   "metadata": {},
   "outputs": [],
   "source": [
    "#tests"
   ]
  },
  {
   "cell_type": "code",
   "execution_count": 77,
   "metadata": {},
   "outputs": [
    {
     "data": {
      "text/plain": [
       "True"
      ]
     },
     "execution_count": 77,
     "metadata": {},
     "output_type": "execute_result"
    }
   ],
   "source": [
    "final_scores.num_columns == 3"
   ]
  },
  {
   "cell_type": "code",
   "execution_count": 78,
   "metadata": {},
   "outputs": [
    {
     "data": {
      "text/plain": [
       "True"
      ]
     },
     "execution_count": 78,
     "metadata": {},
     "output_type": "execute_result"
    }
   ],
   "source": [
    "set(['Opponent', 'Oregon Score', 'Opponent Score']) == set(final_scores.labels)"
   ]
  },
  {
   "cell_type": "code",
   "execution_count": 42,
   "metadata": {
    "deletable": false
   },
   "outputs": [
    {
     "data": {
      "text/html": [
       "<p><strong><pre style='display: inline;'>q1_2</pre></strong> passed! 🚀</p>"
      ],
      "text/plain": [
       "q1_2 results: All test cases passed!"
      ]
     },
     "execution_count": 42,
     "metadata": {},
     "output_type": "execute_result"
    }
   ],
   "source": [
    "grader.check(\"q1_2\")"
   ]
  },
  {
   "cell_type": "markdown",
   "metadata": {},
   "source": [
    "We can get specific row objects from a table. You can use `tbl.row(n)` to get the `n`th row of a table. `row.item(\"column_name\")` will allow you to select the element that corresponds to `column_name` in a particular row. Here's an example:"
   ]
  },
  {
   "cell_type": "code",
   "execution_count": 50,
   "metadata": {
    "deletable": false
   },
   "outputs": [
    {
     "data": {
      "text/plain": [
       "Row(Opponent='Oregon State', Oregon Score=24, Opponent Score=10)"
      ]
     },
     "execution_count": 50,
     "metadata": {},
     "output_type": "execute_result"
    }
   ],
   "source": [
    "# Just run this cell\n",
    "# We won the Civil War!\n",
    "final_scores.row(11)"
   ]
  },
  {
   "cell_type": "code",
   "execution_count": 51,
   "metadata": {
    "deletable": false
   },
   "outputs": [
    {
     "data": {
      "text/plain": [
       "28"
      ]
     },
     "execution_count": 51,
     "metadata": {},
     "output_type": "execute_result"
    }
   ],
   "source": [
    "# Just run this cell\n",
    "# blew out USC in the second quarter\n",
    "games.row(8).item(\"Oregon 2Q\")"
   ]
  },
  {
   "cell_type": "markdown",
   "metadata": {
    "deletable": false
   },
   "source": [
    "**Question 3.** We want to see for a particular game whether or not Oregon won. Write a function called `did_oregon_win`.  It should take one argument: a row object from the `final_scores` table. It should return either `True` if Oregon's score was greater than the Opponent's score, and `False` otherwise.\n",
    "\n",
    "\n",
    "<!--\n",
    "BEGIN QUESTION\n",
    "name: q1_3\n",
    "manual: false\n",
    "-->"
   ]
  },
  {
   "cell_type": "code",
   "execution_count": 61,
   "metadata": {},
   "outputs": [],
   "source": [
    "def did_oregon_win(row):\n",
    "    return row.item('Oregon Score') > row.item('Opponent Score')\n",
    "    "
   ]
  },
  {
   "cell_type": "code",
   "execution_count": 62,
   "metadata": {},
   "outputs": [
    {
     "data": {
      "text/plain": [
       "True"
      ]
     },
     "execution_count": 62,
     "metadata": {},
     "output_type": "execute_result"
    }
   ],
   "source": [
    "'did_oregon_win' in globals()"
   ]
  },
  {
   "cell_type": "code",
   "execution_count": 63,
   "metadata": {},
   "outputs": [
    {
     "data": {
      "text/plain": [
       "True"
      ]
     },
     "execution_count": 63,
     "metadata": {},
     "output_type": "execute_result"
    }
   ],
   "source": [
    "did_oregon_win(final_scores.row(1))"
   ]
  },
  {
   "cell_type": "code",
   "execution_count": 64,
   "metadata": {
    "deletable": false
   },
   "outputs": [
    {
     "data": {
      "text/html": [
       "<p><strong><pre style='display: inline;'>q1_3</pre></strong> passed! 🌈</p>"
      ],
      "text/plain": [
       "q1_3 results: All test cases passed!"
      ]
     },
     "execution_count": 64,
     "metadata": {},
     "output_type": "execute_result"
    }
   ],
   "source": [
    "grader.check(\"q1_3\")"
   ]
  },
  {
   "cell_type": "markdown",
   "metadata": {
    "deletable": false
   },
   "source": [
    "**Question 4.** Cristobal wants to see how Oregon did against every opponent during the 2019 season. Using the `final_scores` table, assign `results` to an array of `True` and `False` values that correspond to whether or not Oregon won. Add the `results` array to the `final_scores` table, and assign this to `final_scores_with_results`. Then, respectively assign the number of wins and losses Oregon had to `oregon_wins` and `oregon_losses`.\n",
    "\n",
    "*Hint*: When you only pass a function name and no column labels through `tbl.apply()`, the function gets applied to every row in `tbl`\n",
    "\n",
    "\n",
    "<!--\n",
    "BEGIN QUESTION\n",
    "name: q1_4\n",
    "manual: false\n",
    "-->"
   ]
  },
  {
   "cell_type": "code",
   "execution_count": 65,
   "metadata": {},
   "outputs": [
    {
     "name": "stdout",
     "output_type": "stream",
     "text": [
      "In the 2019 Season, Ducks Football won 12 games and lost 2 games. Go Ducks!\n"
     ]
    }
   ],
   "source": [
    "results = final_scores.apply(did_oregon_win)\n",
    "final_scores_with_results = final_scores.with_column(\"Results\", results)\n",
    "oregon_wins = sum(final_scores_with_results.column(\"Results\") == True)\n",
    "oregon_losses = sum(final_scores_with_results.column(\"Results\") == False)\n",
    "\n",
    "# Don't delete or edit the following line:\n",
    "print(f\"In the 2019 Season, Ducks Football won {oregon_wins} games and lost {oregon_losses} games. Go Ducks!\")"
   ]
  },
  {
   "cell_type": "code",
   "execution_count": 66,
   "metadata": {},
   "outputs": [],
   "source": [
    "#Tests"
   ]
  },
  {
   "cell_type": "code",
   "execution_count": 67,
   "metadata": {},
   "outputs": [
    {
     "data": {
      "text/plain": [
       "True"
      ]
     },
     "execution_count": 67,
     "metadata": {},
     "output_type": "execute_result"
    }
   ],
   "source": [
    "0 <= oregon_wins <= 14"
   ]
  },
  {
   "cell_type": "code",
   "execution_count": 68,
   "metadata": {},
   "outputs": [
    {
     "data": {
      "text/plain": [
       "True"
      ]
     },
     "execution_count": 68,
     "metadata": {},
     "output_type": "execute_result"
    }
   ],
   "source": [
    "0 <= oregon_losses <= 14"
   ]
  },
  {
   "cell_type": "code",
   "execution_count": 69,
   "metadata": {
    "deletable": false
   },
   "outputs": [
    {
     "data": {
      "text/html": [
       "<p><strong><pre style='display: inline;'>q1_4</pre></strong> passed! 🎉</p>"
      ],
      "text/plain": [
       "q1_4 results: All test cases passed!"
      ]
     },
     "execution_count": 69,
     "metadata": {},
     "output_type": "execute_result"
    }
   ],
   "source": [
    "grader.check(\"q1_4\")"
   ]
  },
  {
   "cell_type": "markdown",
   "metadata": {},
   "source": [
    "**Question 5.** Some football teams are fast starters (score a lot of points in quarters 1 and 2). Cristobal would like to know if his Ducks were fast starters. Let's see if we can help him figure that out.\n",
    "\n",
    "Create a table named `big_table` by joining `games` with `final_scores_with_results` using the `Opponent` column for the join.\n",
    "\n",
    "\n",
    "<!--\n",
    "BEGIN QUESTION\n",
    "name: q1_5\n",
    "manual: false\n",
    "-->"
   ]
  },
  {
   "cell_type": "code",
   "execution_count": 81,
   "metadata": {},
   "outputs": [
    {
     "data": {
      "text/html": [
       "<table border=\"1\" class=\"dataframe\">\n",
       "    <thead>\n",
       "        <tr>\n",
       "            <th>Opponent</th> <th>Oregon 1Q</th> <th>Oregon 2Q</th> <th>Oregon 3Q</th> <th>Oregon 4Q</th> <th>Opp 1Q</th> <th>Opp 2Q</th> <th>Opp 3Q</th> <th>Opp 4Q</th> <th>Oregon Score</th> <th>Opponent Score</th> <th>Results</th>\n",
       "        </tr>\n",
       "    </thead>\n",
       "    <tbody>\n",
       "        <tr>\n",
       "            <td>Arizona      </td> <td>14       </td> <td>7        </td> <td>7        </td> <td>6        </td> <td>0     </td> <td>6     </td> <td>0     </td> <td>0     </td> <td>34          </td> <td>6             </td> <td>True   </td>\n",
       "        </tr>\n",
       "        <tr>\n",
       "            <td>Arizona State</td> <td>7        </td> <td>0        </td> <td>0        </td> <td>21       </td> <td>7     </td> <td>3     </td> <td>3     </td> <td>18    </td> <td>28          </td> <td>31            </td> <td>False  </td>\n",
       "        </tr>\n",
       "        <tr>\n",
       "            <td>Auburn       </td> <td>14       </td> <td>0        </td> <td>7        </td> <td>0        </td> <td>3     </td> <td>3     </td> <td>7     </td> <td>14    </td> <td>21          </td> <td>27            </td> <td>False  </td>\n",
       "        </tr>\n",
       "        <tr>\n",
       "            <td>Cal          </td> <td>0        </td> <td>0        </td> <td>10       </td> <td>7        </td> <td>7     </td> <td>0     </td> <td>0     </td> <td>0     </td> <td>17          </td> <td>7             </td> <td>True   </td>\n",
       "        </tr>\n",
       "        <tr>\n",
       "            <td>Colorado     </td> <td>7        </td> <td>17       </td> <td>14       </td> <td>7        </td> <td>3     </td> <td>0     </td> <td>0     </td> <td>0     </td> <td>45          </td> <td>3             </td> <td>True   </td>\n",
       "        </tr>\n",
       "        <tr>\n",
       "            <td>Montana      </td> <td>14       </td> <td>7        </td> <td>7        </td> <td>7        </td> <td>0     </td> <td>0     </td> <td>3     </td> <td>0     </td> <td>35          </td> <td>3             </td> <td>True   </td>\n",
       "        </tr>\n",
       "        <tr>\n",
       "            <td>Nevada       </td> <td>7        </td> <td>28       </td> <td>28       </td> <td>14       </td> <td>3     </td> <td>3     </td> <td>0     </td> <td>0     </td> <td>77          </td> <td>6             </td> <td>True   </td>\n",
       "        </tr>\n",
       "        <tr>\n",
       "            <td>Oregon State </td> <td>10       </td> <td>7        </td> <td>0        </td> <td>7        </td> <td>3     </td> <td>0     </td> <td>0     </td> <td>7     </td> <td>24          </td> <td>10            </td> <td>True   </td>\n",
       "        </tr>\n",
       "        <tr>\n",
       "            <td>Stanford     </td> <td>7        </td> <td>7        </td> <td>0        </td> <td>7        </td> <td>3     </td> <td>0     </td> <td>0     </td> <td>3     </td> <td>21          </td> <td>6             </td> <td>True   </td>\n",
       "        </tr>\n",
       "        <tr>\n",
       "            <td>USC          </td> <td>0        </td> <td>28       </td> <td>14       </td> <td>14       </td> <td>10    </td> <td>7     </td> <td>0     </td> <td>7     </td> <td>56          </td> <td>24            </td> <td>True   </td>\n",
       "        </tr>\n",
       "    </tbody>\n",
       "</table>\n",
       "<p>... (4 rows omitted)</p>"
      ],
      "text/plain": [
       "Opponent      | Oregon 1Q | Oregon 2Q | Oregon 3Q | Oregon 4Q | Opp 1Q | Opp 2Q | Opp 3Q | Opp 4Q | Oregon Score | Opponent Score | Results\n",
       "Arizona       | 14        | 7         | 7         | 6         | 0      | 6      | 0      | 0      | 34           | 6              | True\n",
       "Arizona State | 7         | 0         | 0         | 21        | 7      | 3      | 3      | 18     | 28           | 31             | False\n",
       "Auburn        | 14        | 0         | 7         | 0         | 3      | 3      | 7      | 14     | 21           | 27             | False\n",
       "Cal           | 0         | 0         | 10        | 7         | 7      | 0      | 0      | 0      | 17           | 7              | True\n",
       "Colorado      | 7         | 17        | 14        | 7         | 3      | 0      | 0      | 0      | 45           | 3              | True\n",
       "Montana       | 14        | 7         | 7         | 7         | 0      | 0      | 3      | 0      | 35           | 3              | True\n",
       "Nevada        | 7         | 28        | 28        | 14        | 3      | 3      | 0      | 0      | 77           | 6              | True\n",
       "Oregon State  | 10        | 7         | 0         | 7         | 3      | 0      | 0      | 7      | 24           | 10             | True\n",
       "Stanford      | 7         | 7         | 0         | 7         | 3      | 0      | 0      | 3      | 21           | 6              | True\n",
       "USC           | 0         | 28        | 14        | 14        | 10     | 7      | 0      | 7      | 56           | 24             | True\n",
       "... (4 rows omitted)"
      ]
     },
     "execution_count": 81,
     "metadata": {},
     "output_type": "execute_result"
    }
   ],
   "source": [
    "big_table = games.join(\"Opponent\", final_scores_with_results)    \n",
    "big_table"
   ]
  },
  {
   "cell_type": "code",
   "execution_count": 82,
   "metadata": {},
   "outputs": [
    {
     "data": {
      "text/plain": [
       "True"
      ]
     },
     "execution_count": 82,
     "metadata": {},
     "output_type": "execute_result"
    }
   ],
   "source": [
    "big_table.num_columns == 12"
   ]
  },
  {
   "cell_type": "code",
   "execution_count": 83,
   "metadata": {},
   "outputs": [
    {
     "data": {
      "text/plain": [
       "True"
      ]
     },
     "execution_count": 83,
     "metadata": {},
     "output_type": "execute_result"
    }
   ],
   "source": [
    "set(['Opponent', 'Oregon 1Q', 'Oregon 2Q', 'Oregon 3Q', 'Oregon 4Q', 'Opp 1Q', 'Opp 2Q', 'Opp 3Q', 'Opp 4Q', 'Oregon Score', 'Opponent Score', 'Results']) == set(big_table.labels)"
   ]
  },
  {
   "cell_type": "code",
   "execution_count": 84,
   "metadata": {},
   "outputs": [
    {
     "data": {
      "text/html": [
       "<p><strong><pre style='display: inline;'>q1_5</pre></strong> passed! 🍀</p>"
      ],
      "text/plain": [
       "q1_5 results: All test cases passed!"
      ]
     },
     "execution_count": 84,
     "metadata": {},
     "output_type": "execute_result"
    }
   ],
   "source": [
    "grader.check(\"q1_5\")"
   ]
  },
  {
   "cell_type": "markdown",
   "metadata": {},
   "source": [
    "**Question 6.** Write a function called `first_half_score`.  It should take two arguments, where each argument is the team's score for quarter 1 and quarter 2. It should return the team's score for the first half of the game.\n",
    "\n",
    "\n",
    "<!--\n",
    "BEGIN QUESTION\n",
    "name: q1_6\n",
    "manual: false\n",
    "-->"
   ]
  },
  {
   "cell_type": "code",
   "execution_count": 86,
   "metadata": {},
   "outputs": [
    {
     "data": {
      "text/plain": [
       "21"
      ]
     },
     "execution_count": 86,
     "metadata": {},
     "output_type": "execute_result"
    }
   ],
   "source": [
    "def first_half_score(q1, q2):\n",
    "    '''Returns the first half score calculated by adding up the scores for quarter 1 and quarter 2'''\n",
    "    return q1 + q2\n",
    "\n",
    "first_half_score(14, 7) #DO NOT CHANGE THIS LINE"
   ]
  },
  {
   "cell_type": "code",
   "execution_count": 87,
   "metadata": {},
   "outputs": [
    {
     "data": {
      "text/plain": [
       "True"
      ]
     },
     "execution_count": 87,
     "metadata": {},
     "output_type": "execute_result"
    }
   ],
   "source": [
    "first_half_score(2, 3) == 5"
   ]
  },
  {
   "cell_type": "code",
   "execution_count": 88,
   "metadata": {},
   "outputs": [
    {
     "data": {
      "text/plain": [
       "True"
      ]
     },
     "execution_count": 88,
     "metadata": {},
     "output_type": "execute_result"
    }
   ],
   "source": [
    "first_half_score(-2,3) == 1"
   ]
  },
  {
   "cell_type": "code",
   "execution_count": 89,
   "metadata": {},
   "outputs": [
    {
     "data": {
      "text/html": [
       "<p><strong><pre style='display: inline;'>q1_6</pre></strong> passed! 💯</p>"
      ],
      "text/plain": [
       "q1_6 results: All test cases passed!"
      ]
     },
     "execution_count": 89,
     "metadata": {},
     "output_type": "execute_result"
    }
   ],
   "source": [
    "grader.check(\"q1_6\")"
   ]
  },
  {
   "cell_type": "markdown",
   "metadata": {},
   "source": [
    "**Question 7.** Add two columns to `big_table` with the following column headings: `Oregon 1st Half Score` and `Opponent 1st Half Score`. You will have to create the Oregon 1st Half Score and Opponent 1st Half Score columns. Use the function `first_half_score` you just defined in the previous question for this problem.\n",
    "\n",
    "\n",
    "<!--\n",
    "BEGIN QUESTION\n",
    "name: q1_7\n",
    "manual: false\n",
    "-->"
   ]
  },
  {
   "cell_type": "code",
   "execution_count": 94,
   "metadata": {},
   "outputs": [
    {
     "data": {
      "text/html": [
       "<table border=\"1\" class=\"dataframe\">\n",
       "    <thead>\n",
       "        <tr>\n",
       "            <th>Opponent</th> <th>Oregon 1Q</th> <th>Oregon 2Q</th> <th>Oregon 3Q</th> <th>Oregon 4Q</th> <th>Opp 1Q</th> <th>Opp 2Q</th> <th>Opp 3Q</th> <th>Opp 4Q</th> <th>Oregon Score</th> <th>Opponent Score</th> <th>Results</th> <th>Oregon 1st Half Score</th> <th>Opponent 1st Half Score</th>\n",
       "        </tr>\n",
       "    </thead>\n",
       "    <tbody>\n",
       "        <tr>\n",
       "            <td>Arizona      </td> <td>14       </td> <td>7        </td> <td>7        </td> <td>6        </td> <td>0     </td> <td>6     </td> <td>0     </td> <td>0     </td> <td>34          </td> <td>6             </td> <td>True   </td> <td>21                   </td> <td>6                      </td>\n",
       "        </tr>\n",
       "        <tr>\n",
       "            <td>Arizona State</td> <td>7        </td> <td>0        </td> <td>0        </td> <td>21       </td> <td>7     </td> <td>3     </td> <td>3     </td> <td>18    </td> <td>28          </td> <td>31            </td> <td>False  </td> <td>7                    </td> <td>10                     </td>\n",
       "        </tr>\n",
       "        <tr>\n",
       "            <td>Auburn       </td> <td>14       </td> <td>0        </td> <td>7        </td> <td>0        </td> <td>3     </td> <td>3     </td> <td>7     </td> <td>14    </td> <td>21          </td> <td>27            </td> <td>False  </td> <td>14                   </td> <td>6                      </td>\n",
       "        </tr>\n",
       "        <tr>\n",
       "            <td>Cal          </td> <td>0        </td> <td>0        </td> <td>10       </td> <td>7        </td> <td>7     </td> <td>0     </td> <td>0     </td> <td>0     </td> <td>17          </td> <td>7             </td> <td>True   </td> <td>0                    </td> <td>7                      </td>\n",
       "        </tr>\n",
       "        <tr>\n",
       "            <td>Colorado     </td> <td>7        </td> <td>17       </td> <td>14       </td> <td>7        </td> <td>3     </td> <td>0     </td> <td>0     </td> <td>0     </td> <td>45          </td> <td>3             </td> <td>True   </td> <td>24                   </td> <td>3                      </td>\n",
       "        </tr>\n",
       "        <tr>\n",
       "            <td>Montana      </td> <td>14       </td> <td>7        </td> <td>7        </td> <td>7        </td> <td>0     </td> <td>0     </td> <td>3     </td> <td>0     </td> <td>35          </td> <td>3             </td> <td>True   </td> <td>21                   </td> <td>0                      </td>\n",
       "        </tr>\n",
       "        <tr>\n",
       "            <td>Nevada       </td> <td>7        </td> <td>28       </td> <td>28       </td> <td>14       </td> <td>3     </td> <td>3     </td> <td>0     </td> <td>0     </td> <td>77          </td> <td>6             </td> <td>True   </td> <td>35                   </td> <td>6                      </td>\n",
       "        </tr>\n",
       "        <tr>\n",
       "            <td>Oregon State </td> <td>10       </td> <td>7        </td> <td>0        </td> <td>7        </td> <td>3     </td> <td>0     </td> <td>0     </td> <td>7     </td> <td>24          </td> <td>10            </td> <td>True   </td> <td>17                   </td> <td>3                      </td>\n",
       "        </tr>\n",
       "        <tr>\n",
       "            <td>Stanford     </td> <td>7        </td> <td>7        </td> <td>0        </td> <td>7        </td> <td>3     </td> <td>0     </td> <td>0     </td> <td>3     </td> <td>21          </td> <td>6             </td> <td>True   </td> <td>14                   </td> <td>3                      </td>\n",
       "        </tr>\n",
       "        <tr>\n",
       "            <td>USC          </td> <td>0        </td> <td>28       </td> <td>14       </td> <td>14       </td> <td>10    </td> <td>7     </td> <td>0     </td> <td>7     </td> <td>56          </td> <td>24            </td> <td>True   </td> <td>28                   </td> <td>17                     </td>\n",
       "        </tr>\n",
       "    </tbody>\n",
       "</table>\n",
       "<p>... (4 rows omitted)</p>"
      ],
      "text/plain": [
       "Opponent      | Oregon 1Q | Oregon 2Q | Oregon 3Q | Oregon 4Q | Opp 1Q | Opp 2Q | Opp 3Q | Opp 4Q | Oregon Score | Opponent Score | Results | Oregon 1st Half Score | Opponent 1st Half Score\n",
       "Arizona       | 14        | 7         | 7         | 6         | 0      | 6      | 0      | 0      | 34           | 6              | True    | 21                    | 6\n",
       "Arizona State | 7         | 0         | 0         | 21        | 7      | 3      | 3      | 18     | 28           | 31             | False   | 7                     | 10\n",
       "Auburn        | 14        | 0         | 7         | 0         | 3      | 3      | 7      | 14     | 21           | 27             | False   | 14                    | 6\n",
       "Cal           | 0         | 0         | 10        | 7         | 7      | 0      | 0      | 0      | 17           | 7              | True    | 0                     | 7\n",
       "Colorado      | 7         | 17        | 14        | 7         | 3      | 0      | 0      | 0      | 45           | 3              | True    | 24                    | 3\n",
       "Montana       | 14        | 7         | 7         | 7         | 0      | 0      | 3      | 0      | 35           | 3              | True    | 21                    | 0\n",
       "Nevada        | 7         | 28        | 28        | 14        | 3      | 3      | 0      | 0      | 77           | 6              | True    | 35                    | 6\n",
       "Oregon State  | 10        | 7         | 0         | 7         | 3      | 0      | 0      | 7      | 24           | 10             | True    | 17                    | 3\n",
       "Stanford      | 7         | 7         | 0         | 7         | 3      | 0      | 0      | 3      | 21           | 6              | True    | 14                    | 3\n",
       "USC           | 0         | 28        | 14        | 14        | 10     | 7      | 0      | 7      | 56           | 24             | True    | 28                    | 17\n",
       "... (4 rows omitted)"
      ]
     },
     "execution_count": 94,
     "metadata": {},
     "output_type": "execute_result"
    }
   ],
   "source": [
    "oregon_1st_half_scores = big_table.apply(first_half_score, 'Oregon 1Q', 'Oregon 2Q')\n",
    "opponent_1st_half_scores = big_table.apply(first_half_score, 'Opp 1Q', 'Opp 2Q')\n",
    "big_table = big_table.with_columns('Oregon 1st Half Score', oregon_1st_half_scores, 'Opponent 1st Half Score', opponent_1st_half_scores)\n",
    "big_table"
   ]
  },
  {
   "cell_type": "code",
   "execution_count": 95,
   "metadata": {},
   "outputs": [],
   "source": [
    "#TESTS"
   ]
  },
  {
   "cell_type": "code",
   "execution_count": 96,
   "metadata": {},
   "outputs": [
    {
     "data": {
      "text/plain": [
       "True"
      ]
     },
     "execution_count": 96,
     "metadata": {},
     "output_type": "execute_result"
    }
   ],
   "source": [
    "big_table.num_columns == 14"
   ]
  },
  {
   "cell_type": "code",
   "execution_count": 97,
   "metadata": {},
   "outputs": [
    {
     "data": {
      "text/plain": [
       "True"
      ]
     },
     "execution_count": 97,
     "metadata": {},
     "output_type": "execute_result"
    }
   ],
   "source": [
    "big_table.row(6).item('Oregon 1st Half Score') == 35"
   ]
  },
  {
   "cell_type": "code",
   "execution_count": 98,
   "metadata": {},
   "outputs": [
    {
     "data": {
      "text/plain": [
       "True"
      ]
     },
     "execution_count": 98,
     "metadata": {},
     "output_type": "execute_result"
    }
   ],
   "source": [
    "big_table.row(0).item('Opponent 1st Half Score') == 6"
   ]
  },
  {
   "cell_type": "code",
   "execution_count": 99,
   "metadata": {},
   "outputs": [
    {
     "data": {
      "text/html": [
       "<p><strong><pre style='display: inline;'>q1_7</pre></strong> passed! 🎉</p>"
      ],
      "text/plain": [
       "q1_7 results: All test cases passed!"
      ]
     },
     "execution_count": 99,
     "metadata": {},
     "output_type": "execute_result"
    }
   ],
   "source": [
    "grader.check(\"q1_7\")"
   ]
  },
  {
   "cell_type": "markdown",
   "metadata": {},
   "source": [
    "**Question 8.** Now let's see how many games the Ducks were leading at half time and how many of those games they won, compared against the total number of games played. If a significant proportion of total games had them ahead at half time, and they won most of those games, one could conclude that they were fast starters **and** they play good second half defense.\n",
    "\n",
    "As with the `Results` column that you added in **1.4** above, you will need to define a function to determine if Oregon was ahead at half time so that you can assign those values to `bigger_first_half_scores`. `games_ahead_at_half_time` should consist of those rows in `big_table` for which Oregon was ahead at half time. `ahead_at_half` is the number of those games; `win_when_ahead` is the number of those games that they won; and `total_games` is the total number of games played.\n",
    "\n",
    "\n",
    "<!--\n",
    "BEGIN QUESTION\n",
    "name: q1_8\n",
    "manual: false\n",
    "-->"
   ]
  },
  {
   "cell_type": "code",
   "execution_count": 106,
   "metadata": {},
   "outputs": [
    {
     "name": "stdout",
     "output_type": "stream",
     "text": [
      "The Ducks won 8 out of 9 games when ahead at half time out of 14 total games.\n"
     ]
    }
   ],
   "source": [
    "# create any functions/tables/arrays/... needed to answer the question\n",
    "def games_ahead_at_half_time(row):\n",
    "    return row.item('Oregon 1st Half Score')>row.item('Opponent 1st Half Score')\n",
    "\n",
    "results_at_half = big_table.apply(games_ahead_at_half_time)\n",
    "games_oregon_ahead_at_half = big_table.with_column('Results at half', results_at_half).where(\"Results at half\", are.equal_to(True))\n",
    "ahead_at_half = games_oregon_ahead_at_half.num_rows\n",
    "wins_when_ahead = games_oregon_ahead_at_half.where('Results', are.equal_to(True)).num_rows\n",
    "total_games = big_table.num_rows\n",
    "\n",
    "# Don't delete or edit the following line:\n",
    "print(f\"The Ducks won {wins_when_ahead} out of {ahead_at_half} games when ahead at half time out of {total_games} total games.\")"
   ]
  },
  {
   "cell_type": "code",
   "execution_count": 107,
   "metadata": {},
   "outputs": [
    {
     "data": {
      "text/plain": [
       "True"
      ]
     },
     "execution_count": 107,
     "metadata": {},
     "output_type": "execute_result"
    }
   ],
   "source": [
    "0 <= ahead_at_half <= 14"
   ]
  },
  {
   "cell_type": "code",
   "execution_count": 108,
   "metadata": {},
   "outputs": [
    {
     "data": {
      "text/plain": [
       "True"
      ]
     },
     "execution_count": 108,
     "metadata": {},
     "output_type": "execute_result"
    }
   ],
   "source": [
    "0 <= wins_when_ahead <= 14"
   ]
  },
  {
   "cell_type": "code",
   "execution_count": 109,
   "metadata": {},
   "outputs": [
    {
     "data": {
      "text/html": [
       "<p><strong><pre style='display: inline;'>q1_8</pre></strong> passed! 🙌</p>"
      ],
      "text/plain": [
       "q1_8 results: All test cases passed!"
      ]
     },
     "execution_count": 109,
     "metadata": {},
     "output_type": "execute_result"
    }
   ],
   "source": [
    "grader.check(\"q1_8\")"
   ]
  },
  {
   "cell_type": "markdown",
   "metadata": {},
   "source": [
    "As you can see, if the Ducks were ahead at half time, it was a pretty sure bet that they would win.\n",
    "\n",
    "All in all, a pretty successful season as Pac-12 champion and winner of the Rose Bowl. Go Ducks!"
   ]
  },
  {
   "cell_type": "markdown",
   "metadata": {},
   "source": [
    "## 2. 2018-2019 Oregon Women's Basketball"
   ]
  },
  {
   "cell_type": "markdown",
   "metadata": {},
   "source": [
    "The UO Women's Basketball team had an excellent 2018-2019 season, with a final four appearance. We are going to analyze a number of aspects of the season.\n",
    "\n",
    "A women's collegiate basketball game is divided into four 10-minute periods, called quarters; if the game is tied at the end of 4 quarters, 5-minute overtime periods are played until we have a winner.\n",
    "\n",
    "The file `uo_women_basketball_18-19.csv` provides the raw statistics for the team's games during the 2018-19 season, with columns indicating the opponent, the venue (`HOME`, `AWAY`, `NEUTRAL`), the date of the game, the number of points Oregon scored in each quarter, the number of points their opponent scored in each quarter, and columns for any points scored in overtime periods by Oregon and their opponent."
   ]
  },
  {
   "cell_type": "code",
   "execution_count": 110,
   "metadata": {},
   "outputs": [
    {
     "data": {
      "text/html": [
       "<table border=\"1\" class=\"dataframe\">\n",
       "    <thead>\n",
       "        <tr>\n",
       "            <th>Opponent</th> <th>Location</th> <th>Date</th> <th>OrQ1</th> <th>OrQ2</th> <th>OrQ3</th> <th>OrQ4</th> <th>OpQ1</th> <th>OpQ2</th> <th>OpQ3</th> <th>OpQ4</th> <th>OrOT1</th> <th>OpOT1</th>\n",
       "        </tr>\n",
       "    </thead>\n",
       "    <tbody>\n",
       "        <tr>\n",
       "            <td>Alaska Fairbanks  </td> <td>AWAY    </td> <td>11/06/18</td> <td>34  </td> <td>26  </td> <td>29  </td> <td>26  </td> <td>9   </td> <td>13  </td> <td>8   </td> <td>6   </td> <td>0    </td> <td>0    </td>\n",
       "        </tr>\n",
       "        <tr>\n",
       "            <td>Syracuse          </td> <td>HOME    </td> <td>11/10/18</td> <td>20  </td> <td>14  </td> <td>14  </td> <td>27  </td> <td>10  </td> <td>17  </td> <td>17  </td> <td>29  </td> <td>0    </td> <td>0    </td>\n",
       "        </tr>\n",
       "        <tr>\n",
       "            <td>Utah State        </td> <td>AWAY    </td> <td>11/14/18</td> <td>30  </td> <td>19  </td> <td>20  </td> <td>19  </td> <td>15  </td> <td>13  </td> <td>15  </td> <td>14  </td> <td>0    </td> <td>0    </td>\n",
       "        </tr>\n",
       "        <tr>\n",
       "            <td>Buffalo           </td> <td>HOME    </td> <td>11/18/18</td> <td>26  </td> <td>23  </td> <td>31  </td> <td>22  </td> <td>16  </td> <td>23  </td> <td>21  </td> <td>22  </td> <td>0    </td> <td>0    </td>\n",
       "        </tr>\n",
       "        <tr>\n",
       "            <td>UC Riverside      </td> <td>HOME    </td> <td>11/23/18</td> <td>23  </td> <td>29  </td> <td>25  </td> <td>17  </td> <td>11  </td> <td>7   </td> <td>13  </td> <td>13  </td> <td>0    </td> <td>0    </td>\n",
       "        </tr>\n",
       "        <tr>\n",
       "            <td>Saint Mary's (CA) </td> <td>AWAY    </td> <td>11/24/18</td> <td>24  </td> <td>12  </td> <td>19  </td> <td>24  </td> <td>12  </td> <td>14  </td> <td>16  </td> <td>13  </td> <td>0    </td> <td>0    </td>\n",
       "        </tr>\n",
       "        <tr>\n",
       "            <td>Long Beach State  </td> <td>HOME    </td> <td>12/02/18</td> <td>24  </td> <td>26  </td> <td>32  </td> <td>28  </td> <td>16  </td> <td>4   </td> <td>15  </td> <td>13  </td> <td>0    </td> <td>0    </td>\n",
       "        </tr>\n",
       "        <tr>\n",
       "            <td>Michigan State    </td> <td>AWAY    </td> <td>12/09/18</td> <td>25  </td> <td>14  </td> <td>21  </td> <td>22  </td> <td>22  </td> <td>24  </td> <td>23  </td> <td>19  </td> <td>0    </td> <td>0    </td>\n",
       "        </tr>\n",
       "        <tr>\n",
       "            <td>South Dakota State</td> <td>AWAY    </td> <td>12/12/18</td> <td>18  </td> <td>22  </td> <td>25  </td> <td>22  </td> <td>21  </td> <td>24  </td> <td>13  </td> <td>21  </td> <td>0    </td> <td>0    </td>\n",
       "        </tr>\n",
       "        <tr>\n",
       "            <td>Mississippi State </td> <td>HOME    </td> <td>12/18/18</td> <td>19  </td> <td>20  </td> <td>18  </td> <td>25  </td> <td>17  </td> <td>23  </td> <td>15  </td> <td>19  </td> <td>0    </td> <td>0    </td>\n",
       "        </tr>\n",
       "        <tr>\n",
       "            <td>Air Force         </td> <td>HOME    </td> <td>12/20/18</td> <td>18  </td> <td>21  </td> <td>23  </td> <td>20  </td> <td>11  </td> <td>11  </td> <td>5   </td> <td>9   </td> <td>0    </td> <td>0    </td>\n",
       "        </tr>\n",
       "        <tr>\n",
       "            <td>UC Irvine         </td> <td>HOME    </td> <td>12/21/18</td> <td>28  </td> <td>23  </td> <td>33  </td> <td>31  </td> <td>26  </td> <td>14  </td> <td>14  </td> <td>15  </td> <td>0    </td> <td>0    </td>\n",
       "        </tr>\n",
       "        <tr>\n",
       "            <td>Washington        </td> <td>HOME    </td> <td>01/04/19</td> <td>23  </td> <td>15  </td> <td>20  </td> <td>26  </td> <td>14  </td> <td>23  </td> <td>14  </td> <td>20  </td> <td>0    </td> <td>0    </td>\n",
       "        </tr>\n",
       "        <tr>\n",
       "            <td>Washington State  </td> <td>HOME    </td> <td>01/06/19</td> <td>25  </td> <td>24  </td> <td>28  </td> <td>21  </td> <td>17  </td> <td>12  </td> <td>22  </td> <td>7   </td> <td>0    </td> <td>0    </td>\n",
       "        </tr>\n",
       "        <tr>\n",
       "            <td>USC               </td> <td>AWAY    </td> <td>01/11/19</td> <td>21  </td> <td>20  </td> <td>29  </td> <td>23  </td> <td>9   </td> <td>9   </td> <td>16  </td> <td>19  </td> <td>0    </td> <td>0    </td>\n",
       "        </tr>\n",
       "        <tr>\n",
       "            <td>UCLA              </td> <td>AWAY    </td> <td>01/13/19</td> <td>19  </td> <td>13  </td> <td>25  </td> <td>15  </td> <td>11  </td> <td>10  </td> <td>21  </td> <td>10  </td> <td>0    </td> <td>0    </td>\n",
       "        </tr>\n",
       "        <tr>\n",
       "            <td>Arizona State     </td> <td>HOME    </td> <td>01/18/19</td> <td>20  </td> <td>18  </td> <td>19  </td> <td>20  </td> <td>16  </td> <td>13  </td> <td>18  </td> <td>24  </td> <td>0    </td> <td>0    </td>\n",
       "        </tr>\n",
       "        <tr>\n",
       "            <td>Arizona           </td> <td>HOME    </td> <td>01/20/19</td> <td>31  </td> <td>13  </td> <td>29  </td> <td>20  </td> <td>4   </td> <td>19  </td> <td>21  </td> <td>16  </td> <td>0    </td> <td>0    </td>\n",
       "        </tr>\n",
       "        <tr>\n",
       "            <td>Washington State  </td> <td>AWAY    </td> <td>01/25/19</td> <td>18  </td> <td>12  </td> <td>30  </td> <td>19  </td> <td>17  </td> <td>17  </td> <td>12  </td> <td>18  </td> <td>0    </td> <td>0    </td>\n",
       "        </tr>\n",
       "        <tr>\n",
       "            <td>Washington        </td> <td>AWAY    </td> <td>01/27/19</td> <td>16  </td> <td>20  </td> <td>22  </td> <td>18  </td> <td>18  </td> <td>11  </td> <td>9   </td> <td>19  </td> <td>0    </td> <td>0    </td>\n",
       "        </tr>\n",
       "        <tr>\n",
       "            <td>Utah              </td> <td>HOME    </td> <td>02/01/19</td> <td>22  </td> <td>15  </td> <td>23  </td> <td>27  </td> <td>11  </td> <td>16  </td> <td>29  </td> <td>9   </td> <td>0    </td> <td>0    </td>\n",
       "        </tr>\n",
       "        <tr>\n",
       "            <td>Colorado          </td> <td>HOME    </td> <td>02/03/19</td> <td>27  </td> <td>27  </td> <td>20  </td> <td>28  </td> <td>2   </td> <td>11  </td> <td>9   </td> <td>21  </td> <td>0    </td> <td>0    </td>\n",
       "        </tr>\n",
       "        <tr>\n",
       "            <td>California        </td> <td>AWAY    </td> <td>02/08/19</td> <td>26  </td> <td>18  </td> <td>27  </td> <td>34  </td> <td>17  </td> <td>19  </td> <td>18  </td> <td>28  </td> <td>0    </td> <td>0    </td>\n",
       "        </tr>\n",
       "        <tr>\n",
       "            <td>Stanford          </td> <td>AWAY    </td> <td>02/10/19</td> <td>20  </td> <td>24  </td> <td>22  </td> <td>22  </td> <td>11  </td> <td>9   </td> <td>16  </td> <td>12  </td> <td>0    </td> <td>0    </td>\n",
       "        </tr>\n",
       "        <tr>\n",
       "            <td>Oregon State      </td> <td>HOME    </td> <td>02/15/19</td> <td>18  </td> <td>21  </td> <td>17  </td> <td>21  </td> <td>13  </td> <td>22  </td> <td>11  </td> <td>22  </td> <td>0    </td> <td>0    </td>\n",
       "        </tr>\n",
       "        <tr>\n",
       "            <td>Oregon State      </td> <td>AWAY    </td> <td>02/18/19</td> <td>15  </td> <td>12  </td> <td>21  </td> <td>14  </td> <td>20  </td> <td>13  </td> <td>17  </td> <td>17  </td> <td>0    </td> <td>0    </td>\n",
       "        </tr>\n",
       "        <tr>\n",
       "            <td>UCLA              </td> <td>HOME    </td> <td>02/22/19</td> <td>23  </td> <td>19  </td> <td>11  </td> <td>16  </td> <td>12  </td> <td>15  </td> <td>21  </td> <td>26  </td> <td>0    </td> <td>0    </td>\n",
       "        </tr>\n",
       "        <tr>\n",
       "            <td>USC               </td> <td>HOME    </td> <td>02/24/19</td> <td>25  </td> <td>15  </td> <td>31  </td> <td>25  </td> <td>27  </td> <td>9   </td> <td>17  </td> <td>25  </td> <td>0    </td> <td>0    </td>\n",
       "        </tr>\n",
       "        <tr>\n",
       "            <td>Arizona           </td> <td>AWAY    </td> <td>03/01/19</td> <td>20  </td> <td>20  </td> <td>24  </td> <td>19  </td> <td>16  </td> <td>16  </td> <td>22  </td> <td>0   </td> <td>0    </td> <td>0    </td>\n",
       "        </tr>\n",
       "        <tr>\n",
       "            <td>Arizona State     </td> <td>AWAY    </td> <td>03/03/19</td> <td>13  </td> <td>20  </td> <td>13  </td> <td>20  </td> <td>11  </td> <td>18  </td> <td>21  </td> <td>9   </td> <td>0    </td> <td>0    </td>\n",
       "        </tr>\n",
       "        <tr>\n",
       "            <td>Arizona           </td> <td>NEUTRAL </td> <td>03/08/19</td> <td>19  </td> <td>21  </td> <td>20  </td> <td>17  </td> <td>14  </td> <td>14  </td> <td>25  </td> <td>10  </td> <td>0    </td> <td>0    </td>\n",
       "        </tr>\n",
       "        <tr>\n",
       "            <td>UCLA              </td> <td>NEUTRAL </td> <td>03/09/19</td> <td>25  </td> <td>11  </td> <td>20  </td> <td>19  </td> <td>21  </td> <td>9   </td> <td>22  </td> <td>23  </td> <td>13   </td> <td>8    </td>\n",
       "        </tr>\n",
       "        <tr>\n",
       "            <td>Stanford          </td> <td>NEUTRAL </td> <td>03/10/19</td> <td>11  </td> <td>13  </td> <td>18  </td> <td>15  </td> <td>18  </td> <td>15  </td> <td>8   </td> <td>23  </td> <td>0    </td> <td>0    </td>\n",
       "        </tr>\n",
       "        <tr>\n",
       "            <td>Portland State    </td> <td>HOME    </td> <td>03/22/19</td> <td>22  </td> <td>21  </td> <td>20  </td> <td>15  </td> <td>15  </td> <td>8   </td> <td>11  </td> <td>6   </td> <td>0    </td> <td>0    </td>\n",
       "        </tr>\n",
       "        <tr>\n",
       "            <td>Indiana           </td> <td>HOME    </td> <td>03/24/19</td> <td>24  </td> <td>19  </td> <td>25  </td> <td>23  </td> <td>19  </td> <td>12  </td> <td>22  </td> <td>15  </td> <td>0    </td> <td>0    </td>\n",
       "        </tr>\n",
       "        <tr>\n",
       "            <td>South Dakota State</td> <td>NEUTRAL </td> <td>03/29/19</td> <td>18  </td> <td>13  </td> <td>18  </td> <td>14  </td> <td>12  </td> <td>10  </td> <td>12  </td> <td>19  </td> <td>0    </td> <td>0    </td>\n",
       "        </tr>\n",
       "        <tr>\n",
       "            <td>Mississippi State </td> <td>NEUTRAL </td> <td>03/31/19</td> <td>19  </td> <td>21  </td> <td>19  </td> <td>29  </td> <td>21  </td> <td>17  </td> <td>21  </td> <td>25  </td> <td>0    </td> <td>0    </td>\n",
       "        </tr>\n",
       "        <tr>\n",
       "            <td>Baylor            </td> <td>NEUTRAL </td> <td>04/05/19</td> <td>15  </td> <td>19  </td> <td>21  </td> <td>12  </td> <td>19  </td> <td>14  </td> <td>23  </td> <td>16  </td> <td>0    </td> <td>0    </td>\n",
       "        </tr>\n",
       "    </tbody>\n",
       "</table>"
      ],
      "text/plain": [
       "<IPython.core.display.HTML object>"
      ]
     },
     "metadata": {},
     "output_type": "display_data"
    }
   ],
   "source": [
    "# Just run this cell\n",
    "# Read in the ducks_fb csv file\n",
    "bbgames = Table().read_table(\"uo_women_basketball_18-19.csv\")\n",
    "bbgames.show()"
   ]
  },
  {
   "cell_type": "markdown",
   "metadata": {},
   "source": [
    "**Question 1.** As you can see, the scores are reported in relative detail, including points scored in each quarter by either Oregon (*e.g.* `OrQ1` for Oregon's first quarter score) or their opponent (`OpQ1`), as well as any points scored in overtime (`OrOT1` and `OpOT1`). But the points scored in a specific quarter are fairly unimportant in the grand scheme of things - we want to know who won! Create two new columns in `bbgames` called `OrTotal` and `OpTotal` that are the sum of all points scored by either Oregon or their Opponent (including overtime) in each game.\n",
    "\n",
    "\n",
    "<!--\n",
    "BEGIN QUESTION\n",
    "name: q2_1\n",
    "manual: false\n",
    "-->"
   ]
  },
  {
   "cell_type": "code",
   "execution_count": 115,
   "metadata": {},
   "outputs": [],
   "source": [
    "# create any functions/tables/arrays/... needed to answer the question\n",
    "def sum_scores(q1_score, q2_score, q3_score, q4_score, ot_score):\n",
    "    return q1_score + q2_score + q3_score + q4_score + ot_score\n",
    "    \n",
    "orscores = bbgames.apply(sum_scores, 'OrQ1', 'OrQ2', 'OrQ3', 'OrQ4', 'OrOT1')\n",
    "opscores = bbgames.apply(sum_scores, 'OpQ1', 'OpQ2', 'OpQ3', 'OpQ4', 'OpOT1')\n",
    "bbgames = bbgames.with_columns('OrTotal', orscores, 'OpTotal', opscores)\n"
   ]
  },
  {
   "cell_type": "code",
   "execution_count": 118,
   "metadata": {},
   "outputs": [
    {
     "data": {
      "text/plain": [
       "True"
      ]
     },
     "execution_count": 118,
     "metadata": {},
     "output_type": "execute_result"
    }
   ],
   "source": [
    "bbgames.num_columns == 15"
   ]
  },
  {
   "cell_type": "code",
   "execution_count": 119,
   "metadata": {},
   "outputs": [
    {
     "data": {
      "text/plain": [
       "True"
      ]
     },
     "execution_count": 119,
     "metadata": {},
     "output_type": "execute_result"
    }
   ],
   "source": [
    "set(['Opponent', 'Location', 'Date', 'OrQ1', 'OrQ2', 'OrQ3', 'OrQ4', 'OpQ1', 'OpQ2', 'OpQ3', 'OpQ4', 'OrOT1', 'OpOT1', 'OrTotal', 'OpTotal']) == set(bbgames.labels)"
   ]
  },
  {
   "cell_type": "code",
   "execution_count": 120,
   "metadata": {},
   "outputs": [
    {
     "data": {
      "text/html": [
       "<p><strong><pre style='display: inline;'>q2_1</pre></strong> passed! 🌟</p>"
      ],
      "text/plain": [
       "q2_1 results: All test cases passed!"
      ]
     },
     "execution_count": 120,
     "metadata": {},
     "output_type": "execute_result"
    }
   ],
   "source": [
    "grader.check(\"q2_1\")"
   ]
  },
  {
   "cell_type": "markdown",
   "metadata": {},
   "source": [
    "**Question 2.** As we did with the men's football Table, we need to add a column to `bbgames` named `Result` that indicates if Oregon won the game. Using your new columns in `bbgames`, determine if Oregon won each game and add the `Result` to `bbgames`.\n",
    "\n",
    "<!--\n",
    "BEGIN QUESTION\n",
    "name: q2_2\n",
    "manual: false\n",
    "-->"
   ]
  },
  {
   "cell_type": "code",
   "execution_count": 122,
   "metadata": {},
   "outputs": [
    {
     "data": {
      "text/html": [
       "<table border=\"1\" class=\"dataframe\">\n",
       "    <thead>\n",
       "        <tr>\n",
       "            <th>Opponent</th> <th>Location</th> <th>Date</th> <th>OrQ1</th> <th>OrQ2</th> <th>OrQ3</th> <th>OrQ4</th> <th>OpQ1</th> <th>OpQ2</th> <th>OpQ3</th> <th>OpQ4</th> <th>OrOT1</th> <th>OpOT1</th> <th>OrTotal</th> <th>OpTotal</th> <th>Result</th>\n",
       "        </tr>\n",
       "    </thead>\n",
       "    <tbody>\n",
       "        <tr>\n",
       "            <td>Alaska Fairbanks  </td> <td>AWAY    </td> <td>11/06/18</td> <td>34  </td> <td>26  </td> <td>29  </td> <td>26  </td> <td>9   </td> <td>13  </td> <td>8   </td> <td>6   </td> <td>0    </td> <td>0    </td> <td>115    </td> <td>36     </td> <td>True  </td>\n",
       "        </tr>\n",
       "        <tr>\n",
       "            <td>Syracuse          </td> <td>HOME    </td> <td>11/10/18</td> <td>20  </td> <td>14  </td> <td>14  </td> <td>27  </td> <td>10  </td> <td>17  </td> <td>17  </td> <td>29  </td> <td>0    </td> <td>0    </td> <td>75     </td> <td>73     </td> <td>True  </td>\n",
       "        </tr>\n",
       "        <tr>\n",
       "            <td>Utah State        </td> <td>AWAY    </td> <td>11/14/18</td> <td>30  </td> <td>19  </td> <td>20  </td> <td>19  </td> <td>15  </td> <td>13  </td> <td>15  </td> <td>14  </td> <td>0    </td> <td>0    </td> <td>88     </td> <td>57     </td> <td>True  </td>\n",
       "        </tr>\n",
       "        <tr>\n",
       "            <td>Buffalo           </td> <td>HOME    </td> <td>11/18/18</td> <td>26  </td> <td>23  </td> <td>31  </td> <td>22  </td> <td>16  </td> <td>23  </td> <td>21  </td> <td>22  </td> <td>0    </td> <td>0    </td> <td>102    </td> <td>82     </td> <td>True  </td>\n",
       "        </tr>\n",
       "        <tr>\n",
       "            <td>UC Riverside      </td> <td>HOME    </td> <td>11/23/18</td> <td>23  </td> <td>29  </td> <td>25  </td> <td>17  </td> <td>11  </td> <td>7   </td> <td>13  </td> <td>13  </td> <td>0    </td> <td>0    </td> <td>94     </td> <td>44     </td> <td>True  </td>\n",
       "        </tr>\n",
       "        <tr>\n",
       "            <td>Saint Mary's (CA) </td> <td>AWAY    </td> <td>11/24/18</td> <td>24  </td> <td>12  </td> <td>19  </td> <td>24  </td> <td>12  </td> <td>14  </td> <td>16  </td> <td>13  </td> <td>0    </td> <td>0    </td> <td>79     </td> <td>55     </td> <td>True  </td>\n",
       "        </tr>\n",
       "        <tr>\n",
       "            <td>Long Beach State  </td> <td>HOME    </td> <td>12/02/18</td> <td>24  </td> <td>26  </td> <td>32  </td> <td>28  </td> <td>16  </td> <td>4   </td> <td>15  </td> <td>13  </td> <td>0    </td> <td>0    </td> <td>110    </td> <td>48     </td> <td>True  </td>\n",
       "        </tr>\n",
       "        <tr>\n",
       "            <td>Michigan State    </td> <td>AWAY    </td> <td>12/09/18</td> <td>25  </td> <td>14  </td> <td>21  </td> <td>22  </td> <td>22  </td> <td>24  </td> <td>23  </td> <td>19  </td> <td>0    </td> <td>0    </td> <td>82     </td> <td>88     </td> <td>False </td>\n",
       "        </tr>\n",
       "        <tr>\n",
       "            <td>South Dakota State</td> <td>AWAY    </td> <td>12/12/18</td> <td>18  </td> <td>22  </td> <td>25  </td> <td>22  </td> <td>21  </td> <td>24  </td> <td>13  </td> <td>21  </td> <td>0    </td> <td>0    </td> <td>87     </td> <td>79     </td> <td>True  </td>\n",
       "        </tr>\n",
       "        <tr>\n",
       "            <td>Mississippi State </td> <td>HOME    </td> <td>12/18/18</td> <td>19  </td> <td>20  </td> <td>18  </td> <td>25  </td> <td>17  </td> <td>23  </td> <td>15  </td> <td>19  </td> <td>0    </td> <td>0    </td> <td>82     </td> <td>74     </td> <td>True  </td>\n",
       "        </tr>\n",
       "    </tbody>\n",
       "</table>\n",
       "<p>... (28 rows omitted)</p>"
      ],
      "text/plain": [
       "Opponent           | Location | Date     | OrQ1 | OrQ2 | OrQ3 | OrQ4 | OpQ1 | OpQ2 | OpQ3 | OpQ4 | OrOT1 | OpOT1 | OrTotal | OpTotal | Result\n",
       "Alaska Fairbanks   | AWAY     | 11/06/18 | 34   | 26   | 29   | 26   | 9    | 13   | 8    | 6    | 0     | 0     | 115     | 36      | True\n",
       "Syracuse           | HOME     | 11/10/18 | 20   | 14   | 14   | 27   | 10   | 17   | 17   | 29   | 0     | 0     | 75      | 73      | True\n",
       "Utah State         | AWAY     | 11/14/18 | 30   | 19   | 20   | 19   | 15   | 13   | 15   | 14   | 0     | 0     | 88      | 57      | True\n",
       "Buffalo            | HOME     | 11/18/18 | 26   | 23   | 31   | 22   | 16   | 23   | 21   | 22   | 0     | 0     | 102     | 82      | True\n",
       "UC Riverside       | HOME     | 11/23/18 | 23   | 29   | 25   | 17   | 11   | 7    | 13   | 13   | 0     | 0     | 94      | 44      | True\n",
       "Saint Mary's (CA)  | AWAY     | 11/24/18 | 24   | 12   | 19   | 24   | 12   | 14   | 16   | 13   | 0     | 0     | 79      | 55      | True\n",
       "Long Beach State   | HOME     | 12/02/18 | 24   | 26   | 32   | 28   | 16   | 4    | 15   | 13   | 0     | 0     | 110     | 48      | True\n",
       "Michigan State     | AWAY     | 12/09/18 | 25   | 14   | 21   | 22   | 22   | 24   | 23   | 19   | 0     | 0     | 82      | 88      | False\n",
       "South Dakota State | AWAY     | 12/12/18 | 18   | 22   | 25   | 22   | 21   | 24   | 13   | 21   | 0     | 0     | 87      | 79      | True\n",
       "Mississippi State  | HOME     | 12/18/18 | 19   | 20   | 18   | 25   | 17   | 23   | 15   | 19   | 0     | 0     | 82      | 74      | True\n",
       "... (28 rows omitted)"
      ]
     },
     "execution_count": 122,
     "metadata": {},
     "output_type": "execute_result"
    }
   ],
   "source": [
    "# create any functions/tables/arrays/... needed to answer the question\n",
    "def did_OR_win(row):\n",
    "    return row.item('OrTotal')>row.item('OpTotal')\n",
    "results = bbgames.apply(did_OR_win)\n",
    "bbgames = bbgames.with_column('Result', results)\n",
    "bbgames"
   ]
  },
  {
   "cell_type": "code",
   "execution_count": 123,
   "metadata": {},
   "outputs": [
    {
     "data": {
      "text/plain": [
       "True"
      ]
     },
     "execution_count": 123,
     "metadata": {},
     "output_type": "execute_result"
    }
   ],
   "source": [
    "bbgames.num_columns == 16"
   ]
  },
  {
   "cell_type": "code",
   "execution_count": 124,
   "metadata": {},
   "outputs": [
    {
     "data": {
      "text/plain": [
       "True"
      ]
     },
     "execution_count": 124,
     "metadata": {},
     "output_type": "execute_result"
    }
   ],
   "source": [
    "bbgames.row(7).item('Result') == False"
   ]
  },
  {
   "cell_type": "code",
   "execution_count": 125,
   "metadata": {},
   "outputs": [
    {
     "data": {
      "text/plain": [
       "True"
      ]
     },
     "execution_count": 125,
     "metadata": {},
     "output_type": "execute_result"
    }
   ],
   "source": [
    "bbgames.row(2).item('Result') == True"
   ]
  },
  {
   "cell_type": "code",
   "execution_count": 126,
   "metadata": {},
   "outputs": [
    {
     "data": {
      "text/html": [
       "<p><strong><pre style='display: inline;'>q2_2</pre></strong> passed! 🌈</p>"
      ],
      "text/plain": [
       "q2_2 results: All test cases passed!"
      ]
     },
     "execution_count": 126,
     "metadata": {},
     "output_type": "execute_result"
    }
   ],
   "source": [
    "grader.check(\"q2_2\")"
   ]
  },
  {
   "cell_type": "markdown",
   "metadata": {},
   "source": [
    "**Question 3.** What was Oregon's won/loss record during this season? Assign values to `UO_wins` and `UO_losses`.\n",
    "\n",
    "<!--\n",
    "BEGIN QUESTION\n",
    "name: q2_3\n",
    "manual: false\n",
    "-->"
   ]
  },
  {
   "cell_type": "code",
   "execution_count": 127,
   "metadata": {},
   "outputs": [
    {
     "name": "stdout",
     "output_type": "stream",
     "text": [
      "The Lady Ducks finished the 2018-19 season with 33 wins and 5 losses\n"
     ]
    }
   ],
   "source": [
    "UO_wins = sum(bbgames.column('Result') == True)\n",
    "UO_losses = sum(bbgames.column('Result') == False)\n",
    "\n",
    "# Don't delete or edit the following line:\n",
    "print(f\"The Lady Ducks finished the 2018-19 season with {UO_wins} wins and {UO_losses} losses\")"
   ]
  },
  {
   "cell_type": "code",
   "execution_count": 128,
   "metadata": {},
   "outputs": [
    {
     "data": {
      "text/plain": [
       "True"
      ]
     },
     "execution_count": 128,
     "metadata": {},
     "output_type": "execute_result"
    }
   ],
   "source": [
    "0 <= UO_wins <= 38"
   ]
  },
  {
   "cell_type": "code",
   "execution_count": 129,
   "metadata": {},
   "outputs": [
    {
     "data": {
      "text/plain": [
       "True"
      ]
     },
     "execution_count": 129,
     "metadata": {},
     "output_type": "execute_result"
    }
   ],
   "source": [
    "0 <= UO_losses <= 38"
   ]
  },
  {
   "cell_type": "code",
   "execution_count": 130,
   "metadata": {},
   "outputs": [
    {
     "data": {
      "text/html": [
       "<p><strong><pre style='display: inline;'>q2_3</pre></strong> passed! ✨</p>"
      ],
      "text/plain": [
       "q2_3 results: All test cases passed!"
      ]
     },
     "execution_count": 130,
     "metadata": {},
     "output_type": "execute_result"
    }
   ],
   "source": [
    "grader.check(\"q2_3\")"
   ]
  },
  {
   "cell_type": "markdown",
   "metadata": {},
   "source": [
    "**Question 4.** Now let's look at the data to see if there any predictive features. The Lady Ducks are known for outscoring the opposition in the 1st quarter, and again in the 3rd quarter. This suggests the Lady Ducks were effective at pre-game and halftime strategy. \n",
    "\n",
    "We would like to know the number of games where they outscored their opposition in quarters 1 and 3, and whether that was a good predictor of winning the game. First, determine the number of games in which Oregon outscored their opponents in Q1 and Q3, and assign this value to `outscored_opponents_q1_and_q3`. \n",
    "\n",
    "Then, among these games, determine how many the Lady Ducks won and assign this value to `UO_wins_q1_and_q3`. \n",
    "\n",
    "**Do not add any columns to `bbgames` answering this question.**\n",
    "\n",
    "<!--\n",
    "BEGIN QUESTION\n",
    "name: q2_4\n",
    "manual: false\n",
    "-->"
   ]
  },
  {
   "cell_type": "code",
   "execution_count": 132,
   "metadata": {},
   "outputs": [
    {
     "name": "stdout",
     "output_type": "stream",
     "text": [
      "The Lady Ducks won 24 out of 24 games when outscoring opponents in Q1 and Q3.\n"
     ]
    }
   ],
   "source": [
    "# any functions/tables/arrays/... that you need to answer the question\n",
    "def q1_q3(row):\n",
    "    return row.item('OrQ1')>row.item('OpQ1')and row.item('OrQ3')>row.item('OpQ3')\n",
    "    \n",
    "outscored_opponents_q1_and_q3 = sum(bbgames.apply(q1_q3) == True)\n",
    "UO_wins_q1_and_q3 = sum(bbgames.where('Result', are.equal_to(True)).apply(q1_q3) == True)\n",
    "\n",
    "# Don't delete or edit the following line:\n",
    "print(f\"The Lady Ducks won {UO_wins_q1_and_q3} out of {outscored_opponents_q1_and_q3} games when outscoring opponents in Q1 and Q3.\")"
   ]
  },
  {
   "cell_type": "code",
   "execution_count": 133,
   "metadata": {},
   "outputs": [
    {
     "data": {
      "text/plain": [
       "True"
      ]
     },
     "execution_count": 133,
     "metadata": {},
     "output_type": "execute_result"
    }
   ],
   "source": [
    "0 <= outscored_opponents_q1_and_q3 <= 38"
   ]
  },
  {
   "cell_type": "code",
   "execution_count": 134,
   "metadata": {},
   "outputs": [
    {
     "data": {
      "text/plain": [
       "True"
      ]
     },
     "execution_count": 134,
     "metadata": {},
     "output_type": "execute_result"
    }
   ],
   "source": [
    "0 <= UO_wins_q1_and_q3 <= 38"
   ]
  },
  {
   "cell_type": "code",
   "execution_count": 135,
   "metadata": {},
   "outputs": [
    {
     "data": {
      "text/html": [
       "<p><strong><pre style='display: inline;'>q2_4</pre></strong> passed! 🌈</p>"
      ],
      "text/plain": [
       "q2_4 results: All test cases passed!"
      ]
     },
     "execution_count": 135,
     "metadata": {},
     "output_type": "execute_result"
    }
   ],
   "source": [
    "grader.check(\"q2_4\")"
   ]
  },
  {
   "cell_type": "markdown",
   "metadata": {},
   "source": [
    "**Question 5.** Home games usually favor the home team if the two teams are evenly matched. In this question we would like to understand the Lady Ducks record during the year with respect to home and away games. For this exercise, ignore neutral site games. \n",
    "\n",
    "Please assign appropriate values to `home_wins`, `home_losses`, `away_wins`, and `away_losses` in the next cell.\n",
    "\n",
    "<!--\n",
    "BEGIN QUESTION\n",
    "name: q2_5\n",
    "manual: false\n",
    "-->"
   ]
  },
  {
   "cell_type": "code",
   "execution_count": 137,
   "metadata": {},
   "outputs": [
    {
     "name": "stdout",
     "output_type": "stream",
     "text": [
      "The Lady Ducks home record was 17/1; their away record was 12/2.\n"
     ]
    }
   ],
   "source": [
    "home_wins = bbgames.where('Location', are.equal_to('HOME')).where('Result', are.equal_to(True)).num_rows\n",
    "home_losses = bbgames.where('Location', are.equal_to('HOME')).where('Result', are.equal_to(False)).num_rows\n",
    "away_wins = bbgames.where('Location', are.equal_to('AWAY')).where('Result', are.equal_to(True)).num_rows\n",
    "away_losses = bbgames.where('Location', are.equal_to('AWAY')).where('Result', are.equal_to(False)).num_rows\n",
    "\n",
    "# Don't delete or edit the following line:\n",
    "print(f\"The Lady Ducks home record was {home_wins}/{home_losses}; their away record was {away_wins}/{away_losses}.\")"
   ]
  },
  {
   "cell_type": "code",
   "execution_count": 138,
   "metadata": {},
   "outputs": [
    {
     "data": {
      "text/plain": [
       "True"
      ]
     },
     "execution_count": 138,
     "metadata": {},
     "output_type": "execute_result"
    }
   ],
   "source": [
    "0 <= home_wins <= 38"
   ]
  },
  {
   "cell_type": "code",
   "execution_count": 139,
   "metadata": {},
   "outputs": [
    {
     "data": {
      "text/plain": [
       "True"
      ]
     },
     "execution_count": 139,
     "metadata": {},
     "output_type": "execute_result"
    }
   ],
   "source": [
    "0 <= home_losses <= 38"
   ]
  },
  {
   "cell_type": "code",
   "execution_count": 140,
   "metadata": {},
   "outputs": [
    {
     "data": {
      "text/plain": [
       "True"
      ]
     },
     "execution_count": 140,
     "metadata": {},
     "output_type": "execute_result"
    }
   ],
   "source": [
    "0 <= away_wins <= 38"
   ]
  },
  {
   "cell_type": "code",
   "execution_count": 141,
   "metadata": {},
   "outputs": [
    {
     "data": {
      "text/plain": [
       "True"
      ]
     },
     "execution_count": 141,
     "metadata": {},
     "output_type": "execute_result"
    }
   ],
   "source": [
    "0 <= away_losses <= 38"
   ]
  },
  {
   "cell_type": "code",
   "execution_count": 142,
   "metadata": {},
   "outputs": [
    {
     "data": {
      "text/html": [
       "<p><strong><pre style='display: inline;'>q2_5</pre></strong> passed! 🌈</p>"
      ],
      "text/plain": [
       "q2_5 results: All test cases passed!"
      ]
     },
     "execution_count": 142,
     "metadata": {},
     "output_type": "execute_result"
    }
   ],
   "source": [
    "grader.check(\"q2_5\")"
   ]
  },
  {
   "cell_type": "markdown",
   "metadata": {},
   "source": [
    "**Question 6.** Another statistic that is often looked at is the margin of victory/margin of defeat, defined as the number of points won or lost by respectively. The very best teams usually have a healthy average margin of victory, and a small average margin of defeat.\n",
    "\n",
    "Please assign appropriate values to `ave_margin_of_victory`, and `ave_margin_of_defeat` in the next cell. **These values should be rounded to two decimal places.  Both values should be positive numbers.**\n",
    "\n",
    "<!--\n",
    "BEGIN QUESTION\n",
    "name: q2_6\n",
    "manual: false\n",
    "-->"
   ]
  },
  {
   "cell_type": "code",
   "execution_count": 149,
   "metadata": {},
   "outputs": [
    {
     "name": "stdout",
     "output_type": "stream",
     "text": [
      "The average margin of victory/defeat through the season was 26.15/5.6.\n"
     ]
    }
   ],
   "source": [
    "# any functions/tables/arrays/... that you need to answer the question\n",
    "def margin(row):\n",
    "    return row.item('OrTotal') - row.item('OpTotal')\n",
    "win = bbgames.where('Result', are.equal_to(True)).apply(margin)\n",
    "defeat = bbgames.where('Result', are.equal_to(False)).apply(margin)\n",
    "ave_margin_of_victory = round(np.average(win), 2)\n",
    "ave_margin_of_defeat = abs(round(np.average(defeat), 2))\n",
    "\n",
    "# Don't delete or edit the following line:\n",
    "print(f\"The average margin of victory/defeat through the season was {ave_margin_of_victory}/{ave_margin_of_defeat}.\")"
   ]
  },
  {
   "cell_type": "code",
   "execution_count": 150,
   "metadata": {},
   "outputs": [
    {
     "data": {
      "text/html": [
       "<p><strong><pre style='display: inline;'>q2_6</pre></strong> passed! 🙌</p>"
      ],
      "text/plain": [
       "q2_6 results: All test cases passed!"
      ]
     },
     "execution_count": 150,
     "metadata": {},
     "output_type": "execute_result"
    }
   ],
   "source": [
    "grader.check(\"q2_6\")"
   ]
  },
  {
   "cell_type": "markdown",
   "metadata": {},
   "source": [
    "The Lady Ducks had a tremendous 2018-2019 season; they won the Pac-12 title outright, but fell to Stanford in the semi-finals of the Pac-12 tournament. They then won 4 straight games in the NCAA tournament, earning a berth at the Final Four. Although they lost to Baylor in the NCAA semi-finals, we can be very proud of their championship quality."
   ]
  },
  {
   "cell_type": "markdown",
   "metadata": {},
   "source": [
    "You've reached the end of the required questions for this assignment! Please submit your work by saving your notebook and submitting it to Canvas. \n",
    "\n",
    "Continue on to the optional section for some practice with iterations and for loops!"
   ]
  },
  {
   "cell_type": "markdown",
   "metadata": {},
   "source": [
    "## (Optional) Unrolling Loops"
   ]
  },
  {
   "cell_type": "markdown",
   "metadata": {},
   "source": [
    "**The rest of this homework is optional. Do it for your own practice, but it will not be incorporated into the final grading!**\n",
    "\n",
    "\"Unrolling\" a `for` loop means to manually write out all the code that it executes.  The result is code that does the same thing as the loop, but without the structure of the loop.  For example, for the following loop:\n",
    "\n",
    "    for num in np.arange(3):\n",
    "        print(\"The number is\", num)\n",
    "\n",
    "The unrolled version would look like this:\n",
    "\n",
    "    print(\"The number is\", 0)\n",
    "    print(\"The number is\", 1)\n",
    "    print(\"The number is\", 2)\n",
    "\n",
    "\n",
    "Unrolling a `for` loop is a great way to understand what the loop is doing during each step. In this exercise, you'll practice unrolling `for` loops.\n",
    "\n",
    "\n",
    "In each question below, write code that does the same thing as the given code, but with any `for` loops unrolled.  It's a good idea to run both your answer and the original code to verify that they do the same thing.  (Of course, if the code does something random, you'll get a different random outcome than the original code!)\n",
    "\n",
    "First, run the cell below to load data that will be used in a few questions.  It's a table with 52 rows, one for each type of card in a deck of playing cards.  A playing card has a \"suit\" (\"♠︎\", \"♣︎\", \"♥︎\", or \"♦︎\") and a \"rank\" (2 through 10, J, Q, K, or A).  There are 4 suits and 13 ranks, so there are $4 \\times 13 = 52$ different cards."
   ]
  },
  {
   "cell_type": "code",
   "execution_count": 151,
   "metadata": {},
   "outputs": [
    {
     "data": {
      "text/html": [
       "<table border=\"1\" class=\"dataframe\">\n",
       "    <thead>\n",
       "        <tr>\n",
       "            <th>Rank</th> <th>Suit</th>\n",
       "        </tr>\n",
       "    </thead>\n",
       "    <tbody>\n",
       "        <tr>\n",
       "            <td>2   </td> <td>♠︎  </td>\n",
       "        </tr>\n",
       "        <tr>\n",
       "            <td>2   </td> <td>♣︎  </td>\n",
       "        </tr>\n",
       "        <tr>\n",
       "            <td>2   </td> <td>♥︎  </td>\n",
       "        </tr>\n",
       "        <tr>\n",
       "            <td>2   </td> <td>♦︎  </td>\n",
       "        </tr>\n",
       "        <tr>\n",
       "            <td>3   </td> <td>♠︎  </td>\n",
       "        </tr>\n",
       "        <tr>\n",
       "            <td>3   </td> <td>♣︎  </td>\n",
       "        </tr>\n",
       "        <tr>\n",
       "            <td>3   </td> <td>♥︎  </td>\n",
       "        </tr>\n",
       "        <tr>\n",
       "            <td>3   </td> <td>♦︎  </td>\n",
       "        </tr>\n",
       "        <tr>\n",
       "            <td>4   </td> <td>♠︎  </td>\n",
       "        </tr>\n",
       "        <tr>\n",
       "            <td>4   </td> <td>♣︎  </td>\n",
       "        </tr>\n",
       "    </tbody>\n",
       "</table>\n",
       "<p>... (42 rows omitted)</p>"
      ],
      "text/plain": [
       "Rank | Suit\n",
       "2    | ♠︎\n",
       "2    | ♣︎\n",
       "2    | ♥︎\n",
       "2    | ♦︎\n",
       "3    | ♠︎\n",
       "3    | ♣︎\n",
       "3    | ♥︎\n",
       "3    | ♦︎\n",
       "4    | ♠︎\n",
       "4    | ♣︎\n",
       "... (42 rows omitted)"
      ]
     },
     "execution_count": 151,
     "metadata": {},
     "output_type": "execute_result"
    }
   ],
   "source": [
    "deck = Table.read_table(\"deck.csv\")\n",
    "deck"
   ]
  },
  {
   "cell_type": "markdown",
   "metadata": {
    "deletable": false
   },
   "source": [
    "**Optional Question 1.** Unroll the code below.\n",
    "\n",
    "*Hint:* `np.random.randint` returns a random integer between 0 (inclusive) and the value that's passed in (exclusive).\n",
    "\n",
    "<!--\n",
    "BEGIN QUESTION\n",
    "name: q2_1\n",
    "manual: false\n",
    "-->"
   ]
  },
  {
   "cell_type": "code",
   "execution_count": 152,
   "metadata": {},
   "outputs": [
    {
     "data": {
      "text/html": [
       "<table border=\"1\" class=\"dataframe\">\n",
       "    <thead>\n",
       "        <tr>\n",
       "            <th>Rank</th> <th>Suit</th>\n",
       "        </tr>\n",
       "    </thead>\n",
       "    <tbody>\n",
       "        <tr>\n",
       "            <td>8   </td> <td>♠︎  </td>\n",
       "        </tr>\n",
       "        <tr>\n",
       "            <td>Q   </td> <td>♥︎  </td>\n",
       "        </tr>\n",
       "        <tr>\n",
       "            <td>6   </td> <td>♠︎  </td>\n",
       "        </tr>\n",
       "        <tr>\n",
       "            <td>5   </td> <td>♦︎  </td>\n",
       "        </tr>\n",
       "        <tr>\n",
       "            <td>10  </td> <td>♥︎  </td>\n",
       "        </tr>\n",
       "    </tbody>\n",
       "</table>"
      ],
      "text/plain": [
       "Rank | Suit\n",
       "8    | ♠︎\n",
       "Q    | ♥︎\n",
       "6    | ♠︎\n",
       "5    | ♦︎\n",
       "10   | ♥︎"
      ]
     },
     "execution_count": 152,
     "metadata": {},
     "output_type": "execute_result"
    }
   ],
   "source": [
    "# This table will hold the cards in a randomly-drawn hand of\n",
    "# 5 cards.  We simulate cards being drawn as follows: We draw\n",
    "# a card at random from the deck, make a copy of it, put the\n",
    "# copy in our hand, and put the card back in the deck.  That\n",
    "# means we might draw the same card multiple times, which is\n",
    "# different from a normal draw in most card games.\n",
    "hand = Table().with_columns(\"Rank\", make_array(), \"Suit\", make_array())\n",
    "for suit in np.arange(5):\n",
    "    card = deck.row(np.random.randint(deck.num_rows))\n",
    "    hand = hand.with_row(card)\n",
    "hand"
   ]
  },
  {
   "cell_type": "code",
   "execution_count": 153,
   "metadata": {
    "for_assignment_type": "solution"
   },
   "outputs": [],
   "source": [
    "# Your unrolled code\n",
    "..."
   ]
  },
  {
   "cell_type": "markdown",
   "metadata": {
    "deletable": false
   },
   "source": [
    "**Optional Question 2.** Unroll the code below.\n",
    "<!--\n",
    "BEGIN QUESTION\n",
    "name: q2_2\n",
    "manual: false\n",
    "-->"
   ]
  },
  {
   "cell_type": "code",
   "execution_count": 154,
   "metadata": {},
   "outputs": [
    {
     "name": "stdout",
     "output_type": "stream",
     "text": [
      "Knock, knock.\n",
      "Who's there?\n",
      "Banana.\n",
      "Banana who?\n",
      "Knock, knock.\n",
      "Who's there?\n",
      "Banana.\n",
      "Banana who?\n",
      "Knock, knock.\n",
      "Who's there?\n",
      "Banana.\n",
      "Banana who?\n",
      "Knock, knock.\n",
      "Who's there?\n",
      "Banana.\n",
      "Banana who?\n",
      "Knock, knock.\n",
      "Who's there?\n",
      "Orange.\n",
      "Orange who?\n",
      "Orange you glad I didn't say banana?\n"
     ]
    }
   ],
   "source": [
    "for joke_iteration in np.arange(4):\n",
    "    print(\"Knock, knock.\")\n",
    "    print(\"Who's there?\")\n",
    "    print(\"Banana.\")\n",
    "    print(\"Banana who?\")\n",
    "print(\"Knock, knock.\")\n",
    "print(\"Who's there?\")\n",
    "print(\"Orange.\")\n",
    "print(\"Orange who?\")\n",
    "print(\"Orange you glad I didn't say banana?\")"
   ]
  },
  {
   "cell_type": "code",
   "execution_count": null,
   "metadata": {
    "for_assignment_type": "solution"
   },
   "outputs": [],
   "source": [
    "# Your unrolled code\n",
    "..."
   ]
  },
  {
   "cell_type": "markdown",
   "metadata": {
    "deletable": false
   },
   "source": [
    "**Optional Question 3.** Unroll the code below.\n",
    "<!--\n",
    "BEGIN QUESTION\n",
    "name: q2_3\n",
    "manual: false\n",
    "-->"
   ]
  },
  {
   "cell_type": "code",
   "execution_count": null,
   "metadata": {},
   "outputs": [],
   "source": [
    "# This table will hold the cards in a randomly-drawn hand of\n",
    "# 4 cards.  The cards are drawn as follows: For each of the\n",
    "# 4 suits, we draw a random card of that suit and put it into\n",
    "# our hand.  The cards within a suit are drawn uniformly at\n",
    "# random, meaning each card of the suit has an equal chance of\n",
    "# being drawn.\n",
    "hand_of_4 = Table().with_columns(\"Rank\", make_array(), \"Suit\", make_array())\n",
    "for suit in make_array(\"♠︎\", \"♣︎\", \"♥︎\", \"♦︎\"):\n",
    "    cards_of_suit = deck.where(\"Suit\", are.equal_to(suit))\n",
    "    card = cards_of_suit.row(np.random.randint(cards_of_suit.num_rows))\n",
    "    hand_of_4 = hand_of_4.with_row(card)\n",
    "hand_of_4"
   ]
  },
  {
   "cell_type": "code",
   "execution_count": null,
   "metadata": {
    "for_assignment_type": "solution"
   },
   "outputs": [],
   "source": [
    "# Your unrolled code\n",
    "..."
   ]
  },
  {
   "cell_type": "markdown",
   "metadata": {},
   "source": [
    "You're done with HW 5! Be sure to run the tests and verify that they all pass, then **Save** your changes, then **Download** your file to your host machine (if you are using jupyterhub), then submit your file to the HW5 assignment in **Canvas** by 11:59pm on the due date."
   ]
  }
 ],
 "metadata": {
  "kernelspec": {
   "display_name": "Python 3 (ipykernel)",
   "language": "python",
   "name": "python3"
  },
  "language_info": {
   "codemirror_mode": {
    "name": "ipython",
    "version": 3
   },
   "file_extension": ".py",
   "mimetype": "text/x-python",
   "name": "python",
   "nbconvert_exporter": "python",
   "pygments_lexer": "ipython3",
   "version": "3.10.11"
  }
 },
 "nbformat": 4,
 "nbformat_minor": 4
}
